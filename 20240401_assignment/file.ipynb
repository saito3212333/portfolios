{
 "cells": [
  {
   "cell_type": "code",
   "execution_count": null,
   "id": "initial_id",
   "metadata": {
    "collapsed": true
   },
   "outputs": [],
   "source": []
  },
  {
   "cell_type": "markdown",
   "source": [
    "Load the dataset into a pandas data frame.\n",
    "\n",
    "\n",
    "\n",
    "Plotly Express Visualizations Links to an external site. (30 points)\n",
    "Create a box plot Links to an external site. comparing the distribution of Spending Score across different age groups (e.g., 20-30, 31-40, etc.)  (10 points)\n",
    "Create a pie chart Links to an external site. showing the distribution of customers by Profession (10 points)\n",
    "Create a 3D scatter Links to an external site. plot based on the Annual Income, Work Experience and Spending Score, coloured by Gender (10 points)\n",
    "\n",
    "Bokeh Visualizations Links to an external site. (30 points)\n",
    "Create an interactive scatter plot Links to an external site. showing Annual Income on the x-axis and Spending Score on the y-axis. Include tooltips displaying customer ID, Age, and Gender (10 points)\n",
    "Create a stacked bar chart Links to an external site. showing the distribution of Spending Score categories (low, medium, high) within each age group (10 points)\n",
    "Create a pie chart Links to an external site. showing the count of customers in each age group (e.g., 20-30, 31-40, etc.) (10 points)\n"
   ],
   "metadata": {
    "collapsed": false
   },
   "id": "e1698be63937b9f"
  },
  {
   "cell_type": "code",
   "outputs": [],
   "source": [
    "import pandas as pd"
   ],
   "metadata": {
    "collapsed": false,
    "ExecuteTime": {
     "end_time": "2024-04-01T14:13:21.826935Z",
     "start_time": "2024-04-01T14:13:19.884609Z"
    }
   },
   "id": "2d96072a3a0d2e70",
   "execution_count": 1
  },
  {
   "cell_type": "code",
   "outputs": [],
   "source": [
    "cus_df = pd.read_csv('/Users/sahiyo/PycharmProjects/Data/Customers.csv')"
   ],
   "metadata": {
    "collapsed": false,
    "ExecuteTime": {
     "end_time": "2024-04-01T14:38:51.630126Z",
     "start_time": "2024-04-01T14:38:51.623026Z"
    }
   },
   "id": "110835f0684973ee",
   "execution_count": 20
  },
  {
   "cell_type": "markdown",
   "source": [
    "Analyze the data (10 points)\n",
    "Check for the number of rows and columns in the dataset\n",
    "Check for the data type of all the variables in the dataset\n",
    "Check for duplication to identify the continuous and categorical values in your dataset\n",
    "Check for missing values and drop them if necessary"
   ],
   "metadata": {
    "collapsed": false
   },
   "id": "a5ca54a0121eae42"
  },
  {
   "cell_type": "code",
   "outputs": [
    {
     "name": "stdout",
     "output_type": "stream",
     "text": [
      "<class 'pandas.core.frame.DataFrame'>\n",
      "RangeIndex: 2000 entries, 0 to 1999\n",
      "Data columns (total 8 columns):\n",
      " #   Column                  Non-Null Count  Dtype \n",
      "---  ------                  --------------  ----- \n",
      " 0   CustomerID              2000 non-null   int64 \n",
      " 1   Gender                  2000 non-null   object\n",
      " 2   Age                     2000 non-null   int64 \n",
      " 3   Annual Income ($)       2000 non-null   int64 \n",
      " 4   Spending Score (1-100)  2000 non-null   int64 \n",
      " 5   Profession              1965 non-null   object\n",
      " 6   Work Experience         2000 non-null   int64 \n",
      " 7   Family Size             2000 non-null   int64 \n",
      "dtypes: int64(6), object(2)\n",
      "memory usage: 125.1+ KB\n"
     ]
    }
   ],
   "source": [
    "cus_df.info()"
   ],
   "metadata": {
    "collapsed": false,
    "ExecuteTime": {
     "end_time": "2024-04-01T14:16:14.909923Z",
     "start_time": "2024-04-01T14:16:14.903978Z"
    }
   },
   "id": "db5216d153d501ca",
   "execution_count": 5
  },
  {
   "cell_type": "code",
   "outputs": [],
   "source": [
    "cus_dup = cus_df.duplicated()"
   ],
   "metadata": {
    "collapsed": false,
    "ExecuteTime": {
     "end_time": "2024-04-01T14:17:15.285231Z",
     "start_time": "2024-04-01T14:17:15.278405Z"
    }
   },
   "id": "a5966c888a077f06",
   "execution_count": 6
  },
  {
   "cell_type": "code",
   "outputs": [
    {
     "name": "stdout",
     "output_type": "stream",
     "text": [
      "CustomerID  :  0\n",
      "Gender  :  1998\n",
      "Age  :  1900\n",
      "Annual Income ($)  :  214\n",
      "Spending Score (1-100)  :  1899\n",
      "Profession  :  1990\n",
      "Work Experience  :  1982\n",
      "Family Size  :  1991\n"
     ]
    }
   ],
   "source": [
    "for i in cus_df.columns:\n",
    "    print(i,\" : \",cus_df.duplicated(subset=i).sum())"
   ],
   "metadata": {
    "collapsed": false,
    "ExecuteTime": {
     "end_time": "2024-04-01T14:24:27.655291Z",
     "start_time": "2024-04-01T14:24:27.640930Z"
    }
   },
   "id": "d6d799a51c261e46",
   "execution_count": 11
  },
  {
   "cell_type": "code",
   "outputs": [
    {
     "name": "stdout",
     "output_type": "stream",
     "text": [
      "CustomerID  :  [   1    2    3 ... 1998 1999 2000]\n",
      "Gender  :  ['Male' 'Female']\n",
      "Age  :  [19 21 20 23 31 22 35 64 30 67 58 24 37 52 25 46 54 29 45 40 60 53 18 49\n",
      " 42 36 65 48 50 27 33 59 47 51 69 70 63 43 68 32 26 57 38 55 34 66 39 44\n",
      " 28 56 41 16 76 62 80  1  0 86 79 83 95 93 78 15  6 84  4 91 14 92 77 89\n",
      " 12  7 94 96 74 85 73  9 10 11 17 90 61 13 72  5 75 99 88 82  8 87  3 97\n",
      " 81 98  2 71]\n",
      "Annual Income ($)  :  [ 15000  35000  86000 ...  90961 182109 110610]\n",
      "Spending Score (1-100)  :  [ 39  81   6  77  40  76  94   3  72  14  99  15  13  79  35  66  29  98\n",
      "  73   5  82  32  61  31  87   4  92  17  26  75  36  28  65  55  47  42\n",
      "  52  60  54  45  41  50  46  51  56  59  48  49  53  44  57  58  43  91\n",
      "  95  11   9  34  71  88   7  10  93  12  97  74  22  90  20  16  89   1\n",
      "  78  83  27  63  86  69  24  68  85  23   8  18   0  33  70  37  64  30\n",
      "  96   2  38  21  84  62  80 100  67  19  25]\n",
      "Profession  :  ['Healthcare' 'Engineer' 'Lawyer' 'Entertainment' 'Artist' 'Executive'\n",
      " 'Doctor' 'Homemaker' 'Marketing' nan]\n",
      "Work Experience  :  [ 1  3  0  2  4  9 12 13  5  8 14  7  6 10 11 15 16 17]\n",
      "Family Size  :  [4 3 1 2 6 5 8 7 9]\n"
     ]
    }
   ],
   "source": [
    "for i in cus_df.columns:\n",
    "    print(i,\" : \",cus_df[i].unique())"
   ],
   "metadata": {
    "collapsed": false,
    "ExecuteTime": {
     "end_time": "2024-04-01T14:25:59.248595Z",
     "start_time": "2024-04-01T14:25:59.242122Z"
    }
   },
   "id": "bbf3d1656b888b0d",
   "execution_count": 12
  },
  {
   "cell_type": "code",
   "outputs": [
    {
     "name": "stdout",
     "output_type": "stream",
     "text": [
      "CustomerID                 0\n",
      "Gender                     0\n",
      "Age                        0\n",
      "Annual Income ($)          0\n",
      "Spending Score (1-100)     0\n",
      "Profession                35\n",
      "Work Experience            0\n",
      "Family Size                0\n",
      "dtype: int64\n",
      "CustomerID                 0\n",
      "Gender                     0\n",
      "Age                        0\n",
      "Annual Income ($)          0\n",
      "Spending Score (1-100)     0\n",
      "Profession                35\n",
      "Work Experience            0\n",
      "Family Size                0\n",
      "dtype: int64\n"
     ]
    }
   ],
   "source": [
    "print(cus_df.isnull().sum())\n",
    "\n",
    "print(cus_df.isna().sum())"
   ],
   "metadata": {
    "collapsed": false,
    "ExecuteTime": {
     "end_time": "2024-04-01T14:29:23.520538Z",
     "start_time": "2024-04-01T14:29:23.516193Z"
    }
   },
   "id": "b3faf24c93730384",
   "execution_count": 14
  },
  {
   "cell_type": "code",
   "outputs": [
    {
     "data": {
      "text/plain": "      CustomerID Gender  Age  Annual Income ($)  Spending Score (1-100)  \\\n0            NaN    NaN  NaN                NaN                     NaN   \n1            NaN    NaN  NaN                NaN                     NaN   \n2            NaN    NaN  NaN                NaN                     NaN   \n3            NaN    NaN  NaN                NaN                     NaN   \n4            NaN    NaN  NaN                NaN                     NaN   \n...          ...    ...  ...                ...                     ...   \n1995         NaN    NaN  NaN                NaN                     NaN   \n1996         NaN    NaN  NaN                NaN                     NaN   \n1997         NaN    NaN  NaN                NaN                     NaN   \n1998         NaN    NaN  NaN                NaN                     NaN   \n1999         NaN    NaN  NaN                NaN                     NaN   \n\n     Profession  Work Experience  Family Size  \n0           NaN              NaN          NaN  \n1           NaN              NaN          NaN  \n2           NaN              NaN          NaN  \n3           NaN              NaN          NaN  \n4           NaN              NaN          NaN  \n...         ...              ...          ...  \n1995        NaN              NaN          NaN  \n1996        NaN              NaN          NaN  \n1997        NaN              NaN          NaN  \n1998        NaN              NaN          NaN  \n1999        NaN              NaN          NaN  \n\n[2000 rows x 8 columns]",
      "text/html": "<div>\n<style scoped>\n    .dataframe tbody tr th:only-of-type {\n        vertical-align: middle;\n    }\n\n    .dataframe tbody tr th {\n        vertical-align: top;\n    }\n\n    .dataframe thead th {\n        text-align: right;\n    }\n</style>\n<table border=\"1\" class=\"dataframe\">\n  <thead>\n    <tr style=\"text-align: right;\">\n      <th></th>\n      <th>CustomerID</th>\n      <th>Gender</th>\n      <th>Age</th>\n      <th>Annual Income ($)</th>\n      <th>Spending Score (1-100)</th>\n      <th>Profession</th>\n      <th>Work Experience</th>\n      <th>Family Size</th>\n    </tr>\n  </thead>\n  <tbody>\n    <tr>\n      <th>0</th>\n      <td>NaN</td>\n      <td>NaN</td>\n      <td>NaN</td>\n      <td>NaN</td>\n      <td>NaN</td>\n      <td>NaN</td>\n      <td>NaN</td>\n      <td>NaN</td>\n    </tr>\n    <tr>\n      <th>1</th>\n      <td>NaN</td>\n      <td>NaN</td>\n      <td>NaN</td>\n      <td>NaN</td>\n      <td>NaN</td>\n      <td>NaN</td>\n      <td>NaN</td>\n      <td>NaN</td>\n    </tr>\n    <tr>\n      <th>2</th>\n      <td>NaN</td>\n      <td>NaN</td>\n      <td>NaN</td>\n      <td>NaN</td>\n      <td>NaN</td>\n      <td>NaN</td>\n      <td>NaN</td>\n      <td>NaN</td>\n    </tr>\n    <tr>\n      <th>3</th>\n      <td>NaN</td>\n      <td>NaN</td>\n      <td>NaN</td>\n      <td>NaN</td>\n      <td>NaN</td>\n      <td>NaN</td>\n      <td>NaN</td>\n      <td>NaN</td>\n    </tr>\n    <tr>\n      <th>4</th>\n      <td>NaN</td>\n      <td>NaN</td>\n      <td>NaN</td>\n      <td>NaN</td>\n      <td>NaN</td>\n      <td>NaN</td>\n      <td>NaN</td>\n      <td>NaN</td>\n    </tr>\n    <tr>\n      <th>...</th>\n      <td>...</td>\n      <td>...</td>\n      <td>...</td>\n      <td>...</td>\n      <td>...</td>\n      <td>...</td>\n      <td>...</td>\n      <td>...</td>\n    </tr>\n    <tr>\n      <th>1995</th>\n      <td>NaN</td>\n      <td>NaN</td>\n      <td>NaN</td>\n      <td>NaN</td>\n      <td>NaN</td>\n      <td>NaN</td>\n      <td>NaN</td>\n      <td>NaN</td>\n    </tr>\n    <tr>\n      <th>1996</th>\n      <td>NaN</td>\n      <td>NaN</td>\n      <td>NaN</td>\n      <td>NaN</td>\n      <td>NaN</td>\n      <td>NaN</td>\n      <td>NaN</td>\n      <td>NaN</td>\n    </tr>\n    <tr>\n      <th>1997</th>\n      <td>NaN</td>\n      <td>NaN</td>\n      <td>NaN</td>\n      <td>NaN</td>\n      <td>NaN</td>\n      <td>NaN</td>\n      <td>NaN</td>\n      <td>NaN</td>\n    </tr>\n    <tr>\n      <th>1998</th>\n      <td>NaN</td>\n      <td>NaN</td>\n      <td>NaN</td>\n      <td>NaN</td>\n      <td>NaN</td>\n      <td>NaN</td>\n      <td>NaN</td>\n      <td>NaN</td>\n    </tr>\n    <tr>\n      <th>1999</th>\n      <td>NaN</td>\n      <td>NaN</td>\n      <td>NaN</td>\n      <td>NaN</td>\n      <td>NaN</td>\n      <td>NaN</td>\n      <td>NaN</td>\n      <td>NaN</td>\n    </tr>\n  </tbody>\n</table>\n<p>2000 rows × 8 columns</p>\n</div>"
     },
     "execution_count": 15,
     "metadata": {},
     "output_type": "execute_result"
    }
   ],
   "source": [
    "cus_df[cus_df.isnull()]"
   ],
   "metadata": {
    "collapsed": false,
    "ExecuteTime": {
     "end_time": "2024-04-01T14:30:33.202838Z",
     "start_time": "2024-04-01T14:30:33.186655Z"
    }
   },
   "id": "2d416040e335dc5b",
   "execution_count": 15
  },
  {
   "cell_type": "code",
   "outputs": [
    {
     "name": "stdout",
     "output_type": "stream",
     "text": [
      "(2000, 8)\n",
      "(1965, 8)\n"
     ]
    }
   ],
   "source": [
    "cus_df_new = cus_df.dropna()\n",
    "print(cus_df.shape)\n",
    "print(cus_df_new.shape)"
   ],
   "metadata": {
    "collapsed": false,
    "ExecuteTime": {
     "end_time": "2024-04-01T14:38:57.304062Z",
     "start_time": "2024-04-01T14:38:57.300113Z"
    }
   },
   "id": "fe11d9e2bc69a343",
   "execution_count": 21
  },
  {
   "cell_type": "markdown",
   "source": [
    "Altair Visualizations Links to an external site. (30 points)\n",
    "Create a scatter plot Links to an external site. showing the relationship between Annual Income and Spending Score, coloured by Family Size (3 or less, Greater than 3) (10 points) \n",
    "Create a histogram Links to an external site. of Income distribution, with bins based on income ranges (10 points)\n",
    "Create a heatmap Links to an external site. showing the correlation matrix between Age, Income, and Spending Score (10 points)\n"
   ],
   "metadata": {
    "collapsed": false
   },
   "id": "28e25f271f8854a2"
  },
  {
   "cell_type": "code",
   "outputs": [],
   "source": [],
   "metadata": {
    "collapsed": false
   },
   "id": "ce27f60c9e98bfbb"
  }
 ],
 "metadata": {
  "kernelspec": {
   "display_name": "Python 3",
   "language": "python",
   "name": "python3"
  },
  "language_info": {
   "codemirror_mode": {
    "name": "ipython",
    "version": 2
   },
   "file_extension": ".py",
   "mimetype": "text/x-python",
   "name": "python",
   "nbconvert_exporter": "python",
   "pygments_lexer": "ipython2",
   "version": "2.7.6"
  }
 },
 "nbformat": 4,
 "nbformat_minor": 5
}
