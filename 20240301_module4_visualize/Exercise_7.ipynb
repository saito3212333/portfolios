{
 "cells": [
  {
   "cell_type": "markdown",
   "source": [],
   "metadata": {
    "collapsed": false
   },
   "id": "7ea9238788977b1a"
  },
  {
   "cell_type": "code",
   "outputs": [],
   "source": [
    "import pandas as pd\n",
    "import plotly.express as px\n",
    "import plotly.graph_objects as go"
   ],
   "metadata": {
    "collapsed": false,
    "ExecuteTime": {
     "end_time": "2024-04-03T22:12:45.256347Z",
     "start_time": "2024-04-03T22:12:45.011314Z"
    }
   },
   "id": "7ca285da52730217",
   "execution_count": 35
  },
  {
   "cell_type": "markdown",
   "source": [
    "Using the CO2 and Gapminder data, you need to create multiple visualizations using the Plotly Express library to understand which visualization best fits our data.\n",
    "\n",
    "https://plotly.com/python/plotly-express/\n",
    "\n",
    "\n"
   ],
   "metadata": {
    "collapsed": false
   },
   "id": "dcd7e589c84309f8"
  },
  {
   "cell_type": "code",
   "outputs": [],
   "source": [
    "co2 = pd.read_csv('/Users/sahiyo/PycharmProjects/Data/co2.csv')\n",
    "gap = pd.read_csv('/Users/sahiyo/PycharmProjects/Data/gapminder.csv')"
   ],
   "metadata": {
    "collapsed": false,
    "ExecuteTime": {
     "end_time": "2024-04-03T22:06:54.671238Z",
     "start_time": "2024-04-03T22:06:54.650075Z"
    }
   },
   "id": "833936a9c56b8390",
   "execution_count": 22
  },
  {
   "cell_type": "code",
   "outputs": [
    {
     "name": "stdout",
     "output_type": "stream",
     "text": [
      "<class 'pandas.core.frame.DataFrame'>\n",
      "RangeIndex: 192 entries, 0 to 191\n",
      "Columns: 216 entries, country to 2014\n",
      "dtypes: float64(215), object(1)\n",
      "memory usage: 324.1+ KB\n"
     ]
    },
    {
     "data": {
      "text/plain": "       country  1800  1801  1802  1803  1804  1805  1806  1807  1808  ...  \\\n0  Afghanistan   NaN   NaN   NaN   NaN   NaN   NaN   NaN   NaN   NaN  ...   \n1      Albania   NaN   NaN   NaN   NaN   NaN   NaN   NaN   NaN   NaN  ...   \n2      Algeria   NaN   NaN   NaN   NaN   NaN   NaN   NaN   NaN   NaN  ...   \n3      Andorra   NaN   NaN   NaN   NaN   NaN   NaN   NaN   NaN   NaN  ...   \n4       Angola   NaN   NaN   NaN   NaN   NaN   NaN   NaN   NaN   NaN  ...   \n\n     2005    2006    2007   2008   2009   2010   2011  2012   2013   2014  \n0  0.0529  0.0637  0.0854  0.154  0.242  0.294  0.412  0.35  0.316  0.299  \n1  1.3800  1.2800  1.3000  1.460  1.480  1.560  1.790  1.68  1.730  1.960  \n2  3.2200  2.9900  3.1900  3.160  3.420  3.300  3.290  3.46  3.510  3.720  \n3  7.3000  6.7500  6.5200  6.430  6.120  6.120  5.870  5.92  5.900  5.830  \n4  0.9800  1.1000  1.2000  1.180  1.230  1.240  1.250  1.33  1.250  1.290  \n\n[5 rows x 216 columns]",
      "text/html": "<div>\n<style scoped>\n    .dataframe tbody tr th:only-of-type {\n        vertical-align: middle;\n    }\n\n    .dataframe tbody tr th {\n        vertical-align: top;\n    }\n\n    .dataframe thead th {\n        text-align: right;\n    }\n</style>\n<table border=\"1\" class=\"dataframe\">\n  <thead>\n    <tr style=\"text-align: right;\">\n      <th></th>\n      <th>country</th>\n      <th>1800</th>\n      <th>1801</th>\n      <th>1802</th>\n      <th>1803</th>\n      <th>1804</th>\n      <th>1805</th>\n      <th>1806</th>\n      <th>1807</th>\n      <th>1808</th>\n      <th>...</th>\n      <th>2005</th>\n      <th>2006</th>\n      <th>2007</th>\n      <th>2008</th>\n      <th>2009</th>\n      <th>2010</th>\n      <th>2011</th>\n      <th>2012</th>\n      <th>2013</th>\n      <th>2014</th>\n    </tr>\n  </thead>\n  <tbody>\n    <tr>\n      <th>0</th>\n      <td>Afghanistan</td>\n      <td>NaN</td>\n      <td>NaN</td>\n      <td>NaN</td>\n      <td>NaN</td>\n      <td>NaN</td>\n      <td>NaN</td>\n      <td>NaN</td>\n      <td>NaN</td>\n      <td>NaN</td>\n      <td>...</td>\n      <td>0.0529</td>\n      <td>0.0637</td>\n      <td>0.0854</td>\n      <td>0.154</td>\n      <td>0.242</td>\n      <td>0.294</td>\n      <td>0.412</td>\n      <td>0.35</td>\n      <td>0.316</td>\n      <td>0.299</td>\n    </tr>\n    <tr>\n      <th>1</th>\n      <td>Albania</td>\n      <td>NaN</td>\n      <td>NaN</td>\n      <td>NaN</td>\n      <td>NaN</td>\n      <td>NaN</td>\n      <td>NaN</td>\n      <td>NaN</td>\n      <td>NaN</td>\n      <td>NaN</td>\n      <td>...</td>\n      <td>1.3800</td>\n      <td>1.2800</td>\n      <td>1.3000</td>\n      <td>1.460</td>\n      <td>1.480</td>\n      <td>1.560</td>\n      <td>1.790</td>\n      <td>1.68</td>\n      <td>1.730</td>\n      <td>1.960</td>\n    </tr>\n    <tr>\n      <th>2</th>\n      <td>Algeria</td>\n      <td>NaN</td>\n      <td>NaN</td>\n      <td>NaN</td>\n      <td>NaN</td>\n      <td>NaN</td>\n      <td>NaN</td>\n      <td>NaN</td>\n      <td>NaN</td>\n      <td>NaN</td>\n      <td>...</td>\n      <td>3.2200</td>\n      <td>2.9900</td>\n      <td>3.1900</td>\n      <td>3.160</td>\n      <td>3.420</td>\n      <td>3.300</td>\n      <td>3.290</td>\n      <td>3.46</td>\n      <td>3.510</td>\n      <td>3.720</td>\n    </tr>\n    <tr>\n      <th>3</th>\n      <td>Andorra</td>\n      <td>NaN</td>\n      <td>NaN</td>\n      <td>NaN</td>\n      <td>NaN</td>\n      <td>NaN</td>\n      <td>NaN</td>\n      <td>NaN</td>\n      <td>NaN</td>\n      <td>NaN</td>\n      <td>...</td>\n      <td>7.3000</td>\n      <td>6.7500</td>\n      <td>6.5200</td>\n      <td>6.430</td>\n      <td>6.120</td>\n      <td>6.120</td>\n      <td>5.870</td>\n      <td>5.92</td>\n      <td>5.900</td>\n      <td>5.830</td>\n    </tr>\n    <tr>\n      <th>4</th>\n      <td>Angola</td>\n      <td>NaN</td>\n      <td>NaN</td>\n      <td>NaN</td>\n      <td>NaN</td>\n      <td>NaN</td>\n      <td>NaN</td>\n      <td>NaN</td>\n      <td>NaN</td>\n      <td>NaN</td>\n      <td>...</td>\n      <td>0.9800</td>\n      <td>1.1000</td>\n      <td>1.2000</td>\n      <td>1.180</td>\n      <td>1.230</td>\n      <td>1.240</td>\n      <td>1.250</td>\n      <td>1.33</td>\n      <td>1.250</td>\n      <td>1.290</td>\n    </tr>\n  </tbody>\n</table>\n<p>5 rows × 216 columns</p>\n</div>"
     },
     "execution_count": 11,
     "metadata": {},
     "output_type": "execute_result"
    }
   ],
   "source": [
    "co2.info()\n",
    "co2.head()"
   ],
   "metadata": {
    "collapsed": false,
    "ExecuteTime": {
     "end_time": "2024-04-03T21:59:36.683532Z",
     "start_time": "2024-04-03T21:59:36.678812Z"
    }
   },
   "id": "3bca88cb31e823c0",
   "execution_count": 11
  },
  {
   "cell_type": "code",
   "outputs": [],
   "source": [
    "co2 = pd.melt(co2, id_vars='country', var_name='Year', value_name='CO2')"
   ],
   "metadata": {
    "collapsed": false,
    "ExecuteTime": {
     "end_time": "2024-04-03T22:07:33.487990Z",
     "start_time": "2024-04-03T22:07:33.479747Z"
    }
   },
   "id": "1be013bc0411db95",
   "execution_count": 25
  },
  {
   "cell_type": "code",
   "outputs": [],
   "source": [],
   "metadata": {
    "collapsed": false
   },
   "id": "b56f25d1de706339"
  },
  {
   "cell_type": "markdown",
   "source": [
    "pd.melt() 関数は、データフレームの形状を変更するために使用される pandas の関数です。この関数を使用すると、幅広い形式のデータを「溶かして」または「融解して」、長い形式または縦型形式に変換できます。\n",
    "\n",
    "具体的には、pd.melt() 関数は次のようなパラメータを受け取ります:\n",
    "\n",
    "id_vars: 変換後のデータフレームで不変の列を指定します。これらの列はそのまま残ります。\n",
    "value_vars: 変換後のデータフレームで値として使用される列を指定します。これにより、指定された列だけが溶かされます。指定しない場合、すべての列が値として使用されます。\n",
    "var_name: 溶かされた列の名前を指定します。\n",
    "value_name: 溶かされた値の列の名前を指定します。このパラメータは省略可能ですが、省略しない場合、指定する必要があります。\n",
    "pd.melt() を適用することで、横方向に広がっているデータを縦方向に整理し、分析や可視化しやすい形式に変換することができます。"
   ],
   "metadata": {
    "collapsed": false
   },
   "id": "ef0b4182bc81bcfe"
  },
  {
   "cell_type": "code",
   "outputs": [
    {
     "data": {
      "text/plain": "           country  Year    CO2\n0      Afghanistan  1800    NaN\n1          Albania  1800    NaN\n2          Algeria  1800    NaN\n3          Andorra  1800    NaN\n4           Angola  1800    NaN\n...            ...   ...    ...\n41275    Venezuela  2014  6.030\n41276      Vietnam  2014  1.800\n41277        Yemen  2014  0.865\n41278       Zambia  2014  0.288\n41279     Zimbabwe  2014  0.780\n\n[41280 rows x 3 columns]",
      "text/html": "<div>\n<style scoped>\n    .dataframe tbody tr th:only-of-type {\n        vertical-align: middle;\n    }\n\n    .dataframe tbody tr th {\n        vertical-align: top;\n    }\n\n    .dataframe thead th {\n        text-align: right;\n    }\n</style>\n<table border=\"1\" class=\"dataframe\">\n  <thead>\n    <tr style=\"text-align: right;\">\n      <th></th>\n      <th>country</th>\n      <th>Year</th>\n      <th>CO2</th>\n    </tr>\n  </thead>\n  <tbody>\n    <tr>\n      <th>0</th>\n      <td>Afghanistan</td>\n      <td>1800</td>\n      <td>NaN</td>\n    </tr>\n    <tr>\n      <th>1</th>\n      <td>Albania</td>\n      <td>1800</td>\n      <td>NaN</td>\n    </tr>\n    <tr>\n      <th>2</th>\n      <td>Algeria</td>\n      <td>1800</td>\n      <td>NaN</td>\n    </tr>\n    <tr>\n      <th>3</th>\n      <td>Andorra</td>\n      <td>1800</td>\n      <td>NaN</td>\n    </tr>\n    <tr>\n      <th>4</th>\n      <td>Angola</td>\n      <td>1800</td>\n      <td>NaN</td>\n    </tr>\n    <tr>\n      <th>...</th>\n      <td>...</td>\n      <td>...</td>\n      <td>...</td>\n    </tr>\n    <tr>\n      <th>41275</th>\n      <td>Venezuela</td>\n      <td>2014</td>\n      <td>6.030</td>\n    </tr>\n    <tr>\n      <th>41276</th>\n      <td>Vietnam</td>\n      <td>2014</td>\n      <td>1.800</td>\n    </tr>\n    <tr>\n      <th>41277</th>\n      <td>Yemen</td>\n      <td>2014</td>\n      <td>0.865</td>\n    </tr>\n    <tr>\n      <th>41278</th>\n      <td>Zambia</td>\n      <td>2014</td>\n      <td>0.288</td>\n    </tr>\n    <tr>\n      <th>41279</th>\n      <td>Zimbabwe</td>\n      <td>2014</td>\n      <td>0.780</td>\n    </tr>\n  </tbody>\n</table>\n<p>41280 rows × 3 columns</p>\n</div>"
     },
     "execution_count": 26,
     "metadata": {},
     "output_type": "execute_result"
    }
   ],
   "source": [
    "co2"
   ],
   "metadata": {
    "collapsed": false,
    "ExecuteTime": {
     "end_time": "2024-04-03T22:07:39.894064Z",
     "start_time": "2024-04-03T22:07:39.890310Z"
    }
   },
   "id": "27d06e7a19bc4a11",
   "execution_count": 26
  },
  {
   "cell_type": "code",
   "outputs": [
    {
     "name": "stdout",
     "output_type": "stream",
     "text": [
      "<class 'pandas.core.frame.DataFrame'>\n",
      "RangeIndex: 10111 entries, 0 to 10110\n",
      "Data columns (total 8 columns):\n",
      " #   Column           Non-Null Count  Dtype  \n",
      "---  ------           --------------  -----  \n",
      " 0   Country          10111 non-null  object \n",
      " 1   Year             10111 non-null  int64  \n",
      " 2   fertility        10100 non-null  float64\n",
      " 3   life             10111 non-null  float64\n",
      " 4   population       10108 non-null  float64\n",
      " 5   child_mortality  9210 non-null   float64\n",
      " 6   gdp              9000 non-null   float64\n",
      " 7   region           10111 non-null  object \n",
      "dtypes: float64(5), int64(1), object(2)\n",
      "memory usage: 632.1+ KB\n"
     ]
    }
   ],
   "source": [
    "gap.info()"
   ],
   "metadata": {
    "collapsed": false,
    "ExecuteTime": {
     "end_time": "2024-04-03T21:53:28.669139Z",
     "start_time": "2024-04-03T21:53:28.662791Z"
    }
   },
   "id": "b8a7ed9e30995f37",
   "execution_count": 7
  },
  {
   "cell_type": "code",
   "outputs": [
    {
     "data": {
      "text/plain": "       Country  Year  fertility    life  population  child_mortality     gdp  \\\n0  Afghanistan  1964      7.671  33.639  10474903.0            339.7  1182.0   \n1  Afghanistan  1965      7.671  34.152  10697983.0            334.1  1182.0   \n2  Afghanistan  1966      7.671  34.662  10927724.0            328.7  1168.0   \n3  Afghanistan  1967      7.671  35.170  11163656.0            323.3  1173.0   \n4  Afghanistan  1968      7.671  35.674  11411022.0            318.1  1187.0   \n\n       region  \n0  South Asia  \n1  South Asia  \n2  South Asia  \n3  South Asia  \n4  South Asia  ",
      "text/html": "<div>\n<style scoped>\n    .dataframe tbody tr th:only-of-type {\n        vertical-align: middle;\n    }\n\n    .dataframe tbody tr th {\n        vertical-align: top;\n    }\n\n    .dataframe thead th {\n        text-align: right;\n    }\n</style>\n<table border=\"1\" class=\"dataframe\">\n  <thead>\n    <tr style=\"text-align: right;\">\n      <th></th>\n      <th>Country</th>\n      <th>Year</th>\n      <th>fertility</th>\n      <th>life</th>\n      <th>population</th>\n      <th>child_mortality</th>\n      <th>gdp</th>\n      <th>region</th>\n    </tr>\n  </thead>\n  <tbody>\n    <tr>\n      <th>0</th>\n      <td>Afghanistan</td>\n      <td>1964</td>\n      <td>7.671</td>\n      <td>33.639</td>\n      <td>10474903.0</td>\n      <td>339.7</td>\n      <td>1182.0</td>\n      <td>South Asia</td>\n    </tr>\n    <tr>\n      <th>1</th>\n      <td>Afghanistan</td>\n      <td>1965</td>\n      <td>7.671</td>\n      <td>34.152</td>\n      <td>10697983.0</td>\n      <td>334.1</td>\n      <td>1182.0</td>\n      <td>South Asia</td>\n    </tr>\n    <tr>\n      <th>2</th>\n      <td>Afghanistan</td>\n      <td>1966</td>\n      <td>7.671</td>\n      <td>34.662</td>\n      <td>10927724.0</td>\n      <td>328.7</td>\n      <td>1168.0</td>\n      <td>South Asia</td>\n    </tr>\n    <tr>\n      <th>3</th>\n      <td>Afghanistan</td>\n      <td>1967</td>\n      <td>7.671</td>\n      <td>35.170</td>\n      <td>11163656.0</td>\n      <td>323.3</td>\n      <td>1173.0</td>\n      <td>South Asia</td>\n    </tr>\n    <tr>\n      <th>4</th>\n      <td>Afghanistan</td>\n      <td>1968</td>\n      <td>7.671</td>\n      <td>35.674</td>\n      <td>11411022.0</td>\n      <td>318.1</td>\n      <td>1187.0</td>\n      <td>South Asia</td>\n    </tr>\n  </tbody>\n</table>\n</div>"
     },
     "execution_count": 9,
     "metadata": {},
     "output_type": "execute_result"
    }
   ],
   "source": [
    "gap.head()"
   ],
   "metadata": {
    "collapsed": false,
    "ExecuteTime": {
     "end_time": "2024-04-03T21:53:56.436808Z",
     "start_time": "2024-04-03T21:53:56.430388Z"
    }
   },
   "id": "23947c188baa4352",
   "execution_count": 9
  },
  {
   "cell_type": "markdown",
   "source": [
    "> Create a scatter plot with the x and y axes as year and co2 respectively. Add a box plot for the co2 values with the marginal_y parameter. "
   ],
   "metadata": {
    "collapsed": false
   },
   "id": "3afd6083499115ad"
  },
  {
   "cell_type": "code",
   "outputs": [
    {
     "ename": "ModuleNotFoundError",
     "evalue": "No module named 'statsmodels'",
     "output_type": "error",
     "traceback": [
      "\u001B[0;31m---------------------------------------------------------------------------\u001B[0m",
      "\u001B[0;31mModuleNotFoundError\u001B[0m                       Traceback (most recent call last)",
      "Cell \u001B[0;32mIn[38], line 16\u001B[0m\n\u001B[1;32m      1\u001B[0m \u001B[38;5;66;03m# fig = px.scatter(co2, x='Year', y='CO2', \u001B[39;00m\n\u001B[1;32m      2\u001B[0m \u001B[38;5;66;03m#                          title='CO2 Emissions Over the Years')\u001B[39;00m\n\u001B[1;32m      3\u001B[0m \u001B[38;5;66;03m# \u001B[39;00m\n\u001B[0;32m   (...)\u001B[0m\n\u001B[1;32m     11\u001B[0m \u001B[38;5;66;03m# # Show the combined figure\u001B[39;00m\n\u001B[1;32m     12\u001B[0m \u001B[38;5;66;03m# fig2.show()\u001B[39;00m\n\u001B[0;32m---> 16\u001B[0m fig \u001B[38;5;241m=\u001B[39m \u001B[43mpx\u001B[49m\u001B[38;5;241;43m.\u001B[39;49m\u001B[43mscatter\u001B[49m\u001B[43m(\u001B[49m\u001B[43mco2\u001B[49m\u001B[43m,\u001B[49m\u001B[43m \u001B[49m\u001B[43mx\u001B[49m\u001B[38;5;241;43m=\u001B[39;49m\u001B[38;5;124;43m\"\u001B[39;49m\u001B[38;5;124;43mYear\u001B[39;49m\u001B[38;5;124;43m\"\u001B[39;49m\u001B[43m,\u001B[49m\u001B[43m \u001B[49m\u001B[43my\u001B[49m\u001B[38;5;241;43m=\u001B[39;49m\u001B[38;5;124;43m\"\u001B[39;49m\u001B[38;5;124;43mCO2\u001B[39;49m\u001B[38;5;124;43m\"\u001B[39;49m\u001B[43m,\u001B[49m\u001B[43m \u001B[49m\u001B[43mcolor\u001B[49m\u001B[38;5;241;43m=\u001B[39;49m\u001B[38;5;124;43m\"\u001B[39;49m\u001B[38;5;124;43mcountry\u001B[39;49m\u001B[38;5;124;43m\"\u001B[39;49m\u001B[43m,\u001B[49m\u001B[43m \u001B[49m\u001B[43mmarginal_y\u001B[49m\u001B[38;5;241;43m=\u001B[39;49m\u001B[38;5;124;43m\"\u001B[39;49m\u001B[38;5;124;43mviolin\u001B[39;49m\u001B[38;5;124;43m\"\u001B[39;49m\u001B[43m,\u001B[49m\n\u001B[1;32m     17\u001B[0m \u001B[43m           \u001B[49m\u001B[43mmarginal_x\u001B[49m\u001B[38;5;241;43m=\u001B[39;49m\u001B[38;5;124;43m\"\u001B[39;49m\u001B[38;5;124;43mbox\u001B[39;49m\u001B[38;5;124;43m\"\u001B[39;49m\u001B[43m,\u001B[49m\u001B[43m \u001B[49m\u001B[43mtrendline\u001B[49m\u001B[38;5;241;43m=\u001B[39;49m\u001B[38;5;124;43m\"\u001B[39;49m\u001B[38;5;124;43mols\u001B[39;49m\u001B[38;5;124;43m\"\u001B[39;49m\u001B[43m,\u001B[49m\u001B[43m \u001B[49m\u001B[43mtemplate\u001B[49m\u001B[38;5;241;43m=\u001B[39;49m\u001B[38;5;124;43m\"\u001B[39;49m\u001B[38;5;124;43msimple_white\u001B[39;49m\u001B[38;5;124;43m\"\u001B[39;49m\u001B[43m)\u001B[49m\n\u001B[1;32m     18\u001B[0m fig\u001B[38;5;241m.\u001B[39mshow()\n",
      "File \u001B[0;32m~/PycharmProjects/portfolios/.venv/lib/python3.12/site-packages/plotly/express/_chart_types.py:66\u001B[0m, in \u001B[0;36mscatter\u001B[0;34m(data_frame, x, y, color, symbol, size, hover_name, hover_data, custom_data, text, facet_row, facet_col, facet_col_wrap, facet_row_spacing, facet_col_spacing, error_x, error_x_minus, error_y, error_y_minus, animation_frame, animation_group, category_orders, labels, orientation, color_discrete_sequence, color_discrete_map, color_continuous_scale, range_color, color_continuous_midpoint, symbol_sequence, symbol_map, opacity, size_max, marginal_x, marginal_y, trendline, trendline_options, trendline_color_override, trendline_scope, log_x, log_y, range_x, range_y, render_mode, title, template, width, height)\u001B[0m\n\u001B[1;32m     12\u001B[0m \u001B[38;5;28;01mdef\u001B[39;00m \u001B[38;5;21mscatter\u001B[39m(\n\u001B[1;32m     13\u001B[0m     data_frame\u001B[38;5;241m=\u001B[39m\u001B[38;5;28;01mNone\u001B[39;00m,\n\u001B[1;32m     14\u001B[0m     x\u001B[38;5;241m=\u001B[39m\u001B[38;5;28;01mNone\u001B[39;00m,\n\u001B[0;32m   (...)\u001B[0m\n\u001B[1;32m     60\u001B[0m     height\u001B[38;5;241m=\u001B[39m\u001B[38;5;28;01mNone\u001B[39;00m,\n\u001B[1;32m     61\u001B[0m ) \u001B[38;5;241m-\u001B[39m\u001B[38;5;241m>\u001B[39m go\u001B[38;5;241m.\u001B[39mFigure:\n\u001B[1;32m     62\u001B[0m \u001B[38;5;250m    \u001B[39m\u001B[38;5;124;03m\"\"\"\u001B[39;00m\n\u001B[1;32m     63\u001B[0m \u001B[38;5;124;03m    In a scatter plot, each row of `data_frame` is represented by a symbol\u001B[39;00m\n\u001B[1;32m     64\u001B[0m \u001B[38;5;124;03m    mark in 2D space.\u001B[39;00m\n\u001B[1;32m     65\u001B[0m \u001B[38;5;124;03m    \"\"\"\u001B[39;00m\n\u001B[0;32m---> 66\u001B[0m     \u001B[38;5;28;01mreturn\u001B[39;00m \u001B[43mmake_figure\u001B[49m\u001B[43m(\u001B[49m\u001B[43margs\u001B[49m\u001B[38;5;241;43m=\u001B[39;49m\u001B[38;5;28;43mlocals\u001B[39;49m\u001B[43m(\u001B[49m\u001B[43m)\u001B[49m\u001B[43m,\u001B[49m\u001B[43m \u001B[49m\u001B[43mconstructor\u001B[49m\u001B[38;5;241;43m=\u001B[39;49m\u001B[43mgo\u001B[49m\u001B[38;5;241;43m.\u001B[39;49m\u001B[43mScatter\u001B[49m\u001B[43m)\u001B[49m\n",
      "File \u001B[0;32m~/PycharmProjects/portfolios/.venv/lib/python3.12/site-packages/plotly/express/_core.py:2267\u001B[0m, in \u001B[0;36mmake_figure\u001B[0;34m(args, constructor, trace_patch, layout_patch)\u001B[0m\n\u001B[1;32m   2264\u001B[0m     \u001B[38;5;28;01melif\u001B[39;00m args[\u001B[38;5;124m\"\u001B[39m\u001B[38;5;124mecdfnorm\u001B[39m\u001B[38;5;124m\"\u001B[39m] \u001B[38;5;241m==\u001B[39m \u001B[38;5;124m\"\u001B[39m\u001B[38;5;124mpercent\u001B[39m\u001B[38;5;124m\"\u001B[39m:\n\u001B[1;32m   2265\u001B[0m         group[var] \u001B[38;5;241m=\u001B[39m \u001B[38;5;241m100.0\u001B[39m \u001B[38;5;241m*\u001B[39m group[var] \u001B[38;5;241m/\u001B[39m group_sum\n\u001B[0;32m-> 2267\u001B[0m patch, fit_results \u001B[38;5;241m=\u001B[39m \u001B[43mmake_trace_kwargs\u001B[49m\u001B[43m(\u001B[49m\n\u001B[1;32m   2268\u001B[0m \u001B[43m    \u001B[49m\u001B[43margs\u001B[49m\u001B[43m,\u001B[49m\u001B[43m \u001B[49m\u001B[43mtrace_spec\u001B[49m\u001B[43m,\u001B[49m\u001B[43m \u001B[49m\u001B[43mgroup\u001B[49m\u001B[43m,\u001B[49m\u001B[43m \u001B[49m\u001B[43mmapping_labels\u001B[49m\u001B[38;5;241;43m.\u001B[39;49m\u001B[43mcopy\u001B[49m\u001B[43m(\u001B[49m\u001B[43m)\u001B[49m\u001B[43m,\u001B[49m\u001B[43m \u001B[49m\u001B[43msizeref\u001B[49m\n\u001B[1;32m   2269\u001B[0m \u001B[43m\u001B[49m\u001B[43m)\u001B[49m\n\u001B[1;32m   2270\u001B[0m trace\u001B[38;5;241m.\u001B[39mupdate(patch)\n\u001B[1;32m   2271\u001B[0m \u001B[38;5;28;01mif\u001B[39;00m fit_results \u001B[38;5;129;01mis\u001B[39;00m \u001B[38;5;129;01mnot\u001B[39;00m \u001B[38;5;28;01mNone\u001B[39;00m:\n",
      "File \u001B[0;32m~/PycharmProjects/portfolios/.venv/lib/python3.12/site-packages/plotly/express/_core.py:361\u001B[0m, in \u001B[0;36mmake_trace_kwargs\u001B[0;34m(args, trace_spec, trace_data, mapping_labels, sizeref)\u001B[0m\n\u001B[1;32m    359\u001B[0m trace_patch[\u001B[38;5;124m\"\u001B[39m\u001B[38;5;124mx\u001B[39m\u001B[38;5;124m\"\u001B[39m] \u001B[38;5;241m=\u001B[39m sorted_trace_data[args[\u001B[38;5;124m\"\u001B[39m\u001B[38;5;124mx\u001B[39m\u001B[38;5;124m\"\u001B[39m]][non_missing]\n\u001B[1;32m    360\u001B[0m trendline_function \u001B[38;5;241m=\u001B[39m trendline_functions[attr_value]\n\u001B[0;32m--> 361\u001B[0m y_out, hover_header, fit_results \u001B[38;5;241m=\u001B[39m \u001B[43mtrendline_function\u001B[49m\u001B[43m(\u001B[49m\n\u001B[1;32m    362\u001B[0m \u001B[43m    \u001B[49m\u001B[43margs\u001B[49m\u001B[43m[\u001B[49m\u001B[38;5;124;43m\"\u001B[39;49m\u001B[38;5;124;43mtrendline_options\u001B[39;49m\u001B[38;5;124;43m\"\u001B[39;49m\u001B[43m]\u001B[49m\u001B[43m,\u001B[49m\n\u001B[1;32m    363\u001B[0m \u001B[43m    \u001B[49m\u001B[43msorted_trace_data\u001B[49m\u001B[43m[\u001B[49m\u001B[43margs\u001B[49m\u001B[43m[\u001B[49m\u001B[38;5;124;43m\"\u001B[39;49m\u001B[38;5;124;43mx\u001B[39;49m\u001B[38;5;124;43m\"\u001B[39;49m\u001B[43m]\u001B[49m\u001B[43m]\u001B[49m\u001B[43m,\u001B[49m\n\u001B[1;32m    364\u001B[0m \u001B[43m    \u001B[49m\u001B[43mx\u001B[49m\u001B[43m,\u001B[49m\n\u001B[1;32m    365\u001B[0m \u001B[43m    \u001B[49m\u001B[43my\u001B[49m\u001B[43m,\u001B[49m\n\u001B[1;32m    366\u001B[0m \u001B[43m    \u001B[49m\u001B[43margs\u001B[49m\u001B[43m[\u001B[49m\u001B[38;5;124;43m\"\u001B[39;49m\u001B[38;5;124;43mx\u001B[39;49m\u001B[38;5;124;43m\"\u001B[39;49m\u001B[43m]\u001B[49m\u001B[43m,\u001B[49m\n\u001B[1;32m    367\u001B[0m \u001B[43m    \u001B[49m\u001B[43margs\u001B[49m\u001B[43m[\u001B[49m\u001B[38;5;124;43m\"\u001B[39;49m\u001B[38;5;124;43my\u001B[39;49m\u001B[38;5;124;43m\"\u001B[39;49m\u001B[43m]\u001B[49m\u001B[43m,\u001B[49m\n\u001B[1;32m    368\u001B[0m \u001B[43m    \u001B[49m\u001B[43mnon_missing\u001B[49m\u001B[43m,\u001B[49m\n\u001B[1;32m    369\u001B[0m \u001B[43m\u001B[49m\u001B[43m)\u001B[49m\n\u001B[1;32m    370\u001B[0m \u001B[38;5;28;01massert\u001B[39;00m \u001B[38;5;28mlen\u001B[39m(y_out) \u001B[38;5;241m==\u001B[39m \u001B[38;5;28mlen\u001B[39m(\n\u001B[1;32m    371\u001B[0m     trace_patch[\u001B[38;5;124m\"\u001B[39m\u001B[38;5;124mx\u001B[39m\u001B[38;5;124m\"\u001B[39m]\n\u001B[1;32m    372\u001B[0m ), \u001B[38;5;124m\"\u001B[39m\u001B[38;5;124mmissing-data-handling failure in trendline code\u001B[39m\u001B[38;5;124m\"\u001B[39m\n\u001B[1;32m    373\u001B[0m trace_patch[\u001B[38;5;124m\"\u001B[39m\u001B[38;5;124my\u001B[39m\u001B[38;5;124m\"\u001B[39m] \u001B[38;5;241m=\u001B[39m y_out\n",
      "File \u001B[0;32m~/PycharmProjects/portfolios/.venv/lib/python3.12/site-packages/plotly/express/trendline_functions/__init__.py:43\u001B[0m, in \u001B[0;36mols\u001B[0;34m(trendline_options, x_raw, x, y, x_label, y_label, non_missing)\u001B[0m\n\u001B[1;32m     37\u001B[0m     \u001B[38;5;28;01mif\u001B[39;00m k \u001B[38;5;129;01mnot\u001B[39;00m \u001B[38;5;129;01min\u001B[39;00m valid_options:\n\u001B[1;32m     38\u001B[0m         \u001B[38;5;28;01mraise\u001B[39;00m \u001B[38;5;167;01mValueError\u001B[39;00m(\n\u001B[1;32m     39\u001B[0m             \u001B[38;5;124m\"\u001B[39m\u001B[38;5;124mOLS trendline_options keys must be one of [\u001B[39m\u001B[38;5;132;01m%s\u001B[39;00m\u001B[38;5;124m] but got \u001B[39m\u001B[38;5;124m'\u001B[39m\u001B[38;5;132;01m%s\u001B[39;00m\u001B[38;5;124m'\u001B[39m\u001B[38;5;124m\"\u001B[39m\n\u001B[1;32m     40\u001B[0m             \u001B[38;5;241m%\u001B[39m (\u001B[38;5;124m\"\u001B[39m\u001B[38;5;124m, \u001B[39m\u001B[38;5;124m\"\u001B[39m\u001B[38;5;241m.\u001B[39mjoin(valid_options), k)\n\u001B[1;32m     41\u001B[0m         )\n\u001B[0;32m---> 43\u001B[0m \u001B[38;5;28;01mimport\u001B[39;00m \u001B[38;5;21;01mstatsmodels\u001B[39;00m\u001B[38;5;21;01m.\u001B[39;00m\u001B[38;5;21;01mapi\u001B[39;00m \u001B[38;5;28;01mas\u001B[39;00m \u001B[38;5;21;01msm\u001B[39;00m\n\u001B[1;32m     45\u001B[0m add_constant \u001B[38;5;241m=\u001B[39m trendline_options\u001B[38;5;241m.\u001B[39mget(\u001B[38;5;124m\"\u001B[39m\u001B[38;5;124madd_constant\u001B[39m\u001B[38;5;124m\"\u001B[39m, \u001B[38;5;28;01mTrue\u001B[39;00m)\n\u001B[1;32m     46\u001B[0m log_x \u001B[38;5;241m=\u001B[39m trendline_options\u001B[38;5;241m.\u001B[39mget(\u001B[38;5;124m\"\u001B[39m\u001B[38;5;124mlog_x\u001B[39m\u001B[38;5;124m\"\u001B[39m, \u001B[38;5;28;01mFalse\u001B[39;00m)\n",
      "\u001B[0;31mModuleNotFoundError\u001B[0m: No module named 'statsmodels'"
     ]
    }
   ],
   "source": [
    "# fig = px.scatter(co2, x='Year', y='CO2', \n",
    "#                          title='CO2 Emissions Over the Years')\n",
    "# \n",
    "# # Create box plot for CO2 values\n",
    "# fig2 = px.box(co2, y='CO2', title='Distribution of CO2 Emissions',\n",
    "#                  marginal='box', orientation='v')\n",
    "# \n",
    "# # Combine scatter plot and box plot\n",
    "# # fig3 = go.Figure(data=fig.data + fig2.data, layout=fig.layout)\n",
    "# \n",
    "# # Show the combined figure\n",
    "# fig2.show()\n",
    "\n",
    "fig = px.scatter(co2, x=\"Year\", y=\"CO2\", color=\"country\", marginal_y=\"violin\",\n",
    "           marginal_x=\"box\", trendline=\"ols\", template=\"simple_white\")\n",
    "fig.show()"
   ],
   "metadata": {
    "collapsed": false,
    "ExecuteTime": {
     "end_time": "2024-04-03T22:19:37.361105Z",
     "start_time": "2024-04-03T22:19:37.272833Z"
    }
   },
   "id": "5d5faa8a5ab4f243",
   "execution_count": 38
  },
  {
   "cell_type": "markdown",
   "source": [
    "> Create a scatter plot with the x and y axes as gdp and co2 respectively. Add a box plot for the co2 values with the marginal_y parameter. Add a rug plot for the gdp values with the marginal_x parameter. Add animation parameters on the year column."
   ],
   "metadata": {
    "collapsed": false
   },
   "id": "1ed05588aa121799"
  },
  {
   "cell_type": "markdown",
   "source": [
    "> Create a density contour plot with the x and y axes as gdp and co2 respectively. Add a box plot for the co2 values with the marginal_y parameter. Add a rug plot for the gdp values with the marginal_x parameter. Add animation parameters on the year column."
   ],
   "metadata": {
    "collapsed": false
   },
   "id": "e00efdc75c83346f"
  },
  {
   "cell_type": "code",
   "outputs": [],
   "source": [],
   "metadata": {
    "collapsed": false
   },
   "id": "18fd426f3c57395b"
  }
 ],
 "metadata": {
  "kernelspec": {
   "display_name": "Python 3",
   "language": "python",
   "name": "python3"
  },
  "language_info": {
   "codemirror_mode": {
    "name": "ipython",
    "version": 2
   },
   "file_extension": ".py",
   "mimetype": "text/x-python",
   "name": "python",
   "nbconvert_exporter": "python",
   "pygments_lexer": "ipython2",
   "version": "2.7.6"
  }
 },
 "nbformat": 4,
 "nbformat_minor": 5
}
