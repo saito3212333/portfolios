{
 "cells": [
  {
   "cell_type": "code",
   "execution_count": 1,
   "id": "initial_id",
   "metadata": {
    "collapsed": true,
    "ExecuteTime": {
     "end_time": "2024-03-29T01:38:43.322051Z",
     "start_time": "2024-03-29T01:38:42.796434Z"
    }
   },
   "outputs": [
    {
     "name": "stderr",
     "output_type": "stream",
     "text": [
      "/var/folders/pg/6j_pvh8d1c58ksk8np5cmthr0000gn/T/ipykernel_6547/437997588.py:1: DeprecationWarning: \n",
      "Pyarrow will become a required dependency of pandas in the next major release of pandas (pandas 3.0),\n",
      "(to allow more performant data types, such as the Arrow string type, and better interoperability with other libraries)\n",
      "but was not found to be installed on your system.\n",
      "If this would cause problems for you,\n",
      "please provide us feedback at https://github.com/pandas-dev/pandas/issues/54466\n",
      "        \n",
      "  import pandas as pd\n"
     ]
    }
   ],
   "source": [
    "import pandas as pd\n",
    "import altair as alt"
   ]
  },
  {
   "cell_type": "code",
   "outputs": [
    {
     "data": {
      "text/plain": "   HPI Rank     Country        Region  Life Expectancy (years)  \\\n0         1  Costa Rica      Americas                     79.1   \n1         2      Mexico      Americas                     76.4   \n2         3    Colombia      Americas                     73.7   \n3         4     Vanuatu  Asia Pacific                     71.3   \n4         5     Vietnam  Asia Pacific                     75.5   \n\n   Wellbeing (0-10) Inequality of outcomes  Ecological Footprint (gha/capita)  \\\n0               7.3                    15%                                2.8   \n1               7.3                    19%                                2.9   \n2               6.4                    24%                                1.9   \n3               6.5                    22%                                1.9   \n4               5.5                    19%                                1.7   \n\n   Happy Planet Index  \n0                44.7  \n1                40.7  \n2                40.7  \n3                40.6  \n4                40.3  ",
      "text/html": "<div>\n<style scoped>\n    .dataframe tbody tr th:only-of-type {\n        vertical-align: middle;\n    }\n\n    .dataframe tbody tr th {\n        vertical-align: top;\n    }\n\n    .dataframe thead th {\n        text-align: right;\n    }\n</style>\n<table border=\"1\" class=\"dataframe\">\n  <thead>\n    <tr style=\"text-align: right;\">\n      <th></th>\n      <th>HPI Rank</th>\n      <th>Country</th>\n      <th>Region</th>\n      <th>Life Expectancy (years)</th>\n      <th>Wellbeing (0-10)</th>\n      <th>Inequality of outcomes</th>\n      <th>Ecological Footprint (gha/capita)</th>\n      <th>Happy Planet Index</th>\n    </tr>\n  </thead>\n  <tbody>\n    <tr>\n      <th>0</th>\n      <td>1</td>\n      <td>Costa Rica</td>\n      <td>Americas</td>\n      <td>79.1</td>\n      <td>7.3</td>\n      <td>15%</td>\n      <td>2.8</td>\n      <td>44.7</td>\n    </tr>\n    <tr>\n      <th>1</th>\n      <td>2</td>\n      <td>Mexico</td>\n      <td>Americas</td>\n      <td>76.4</td>\n      <td>7.3</td>\n      <td>19%</td>\n      <td>2.9</td>\n      <td>40.7</td>\n    </tr>\n    <tr>\n      <th>2</th>\n      <td>3</td>\n      <td>Colombia</td>\n      <td>Americas</td>\n      <td>73.7</td>\n      <td>6.4</td>\n      <td>24%</td>\n      <td>1.9</td>\n      <td>40.7</td>\n    </tr>\n    <tr>\n      <th>3</th>\n      <td>4</td>\n      <td>Vanuatu</td>\n      <td>Asia Pacific</td>\n      <td>71.3</td>\n      <td>6.5</td>\n      <td>22%</td>\n      <td>1.9</td>\n      <td>40.6</td>\n    </tr>\n    <tr>\n      <th>4</th>\n      <td>5</td>\n      <td>Vietnam</td>\n      <td>Asia Pacific</td>\n      <td>75.5</td>\n      <td>5.5</td>\n      <td>19%</td>\n      <td>1.7</td>\n      <td>40.3</td>\n    </tr>\n  </tbody>\n</table>\n</div>"
     },
     "execution_count": 2,
     "metadata": {},
     "output_type": "execute_result"
    }
   ],
   "source": [
    "hpi_df = pd.read_csv('/Users/sahiyo/PycharmProjects/Data/hpi_data_countries.tsv',sep='\\t')\n",
    "hpi_df.head()"
   ],
   "metadata": {
    "collapsed": false,
    "ExecuteTime": {
     "end_time": "2024-03-29T01:38:45.853156Z",
     "start_time": "2024-03-29T01:38:45.832863Z"
    }
   },
   "id": "3906aef06beb5bcd",
   "execution_count": 2
  },
  {
   "cell_type": "code",
   "outputs": [],
   "source": [],
   "metadata": {
    "collapsed": false,
    "ExecuteTime": {
     "start_time": "2024-03-27T16:10:28.766158Z"
    }
   },
   "id": "1bfa85afdd7cd658"
  }
 ],
 "metadata": {
  "kernelspec": {
   "display_name": "Python 3",
   "language": "python",
   "name": "python3"
  },
  "language_info": {
   "codemirror_mode": {
    "name": "ipython",
    "version": 2
   },
   "file_extension": ".py",
   "mimetype": "text/x-python",
   "name": "python",
   "nbconvert_exporter": "python",
   "pygments_lexer": "ipython2",
   "version": "2.7.6"
  }
 },
 "nbformat": 4,
 "nbformat_minor": 5
}
