{
 "cells": [
  {
   "cell_type": "code",
   "execution_count": 12,
   "id": "initial_id",
   "metadata": {
    "collapsed": true,
    "ExecuteTime": {
     "end_time": "2024-03-27T13:45:54.616014Z",
     "start_time": "2024-03-27T13:45:54.608757Z"
    }
   },
   "outputs": [],
   "source": [
    "import pandas as pd\n",
    "import numpy as np\n",
    "import plotly.express as px"
   ]
  },
  {
   "cell_type": "code",
   "outputs": [
    {
     "data": {
      "text/plain": "       Country  Year  fertility    life  population  child_mortality     gdp  \\\n0  Afghanistan  1964      7.671  33.639  10474903.0            339.7  1182.0   \n1  Afghanistan  1965      7.671  34.152  10697983.0            334.1  1182.0   \n2  Afghanistan  1966      7.671  34.662  10927724.0            328.7  1168.0   \n3  Afghanistan  1967      7.671  35.170  11163656.0            323.3  1173.0   \n4  Afghanistan  1968      7.671  35.674  11411022.0            318.1  1187.0   \n\n       region  \n0  South Asia  \n1  South Asia  \n2  South Asia  \n3  South Asia  \n4  South Asia  ",
      "text/html": "<div>\n<style scoped>\n    .dataframe tbody tr th:only-of-type {\n        vertical-align: middle;\n    }\n\n    .dataframe tbody tr th {\n        vertical-align: top;\n    }\n\n    .dataframe thead th {\n        text-align: right;\n    }\n</style>\n<table border=\"1\" class=\"dataframe\">\n  <thead>\n    <tr style=\"text-align: right;\">\n      <th></th>\n      <th>Country</th>\n      <th>Year</th>\n      <th>fertility</th>\n      <th>life</th>\n      <th>population</th>\n      <th>child_mortality</th>\n      <th>gdp</th>\n      <th>region</th>\n    </tr>\n  </thead>\n  <tbody>\n    <tr>\n      <th>0</th>\n      <td>Afghanistan</td>\n      <td>1964</td>\n      <td>7.671</td>\n      <td>33.639</td>\n      <td>10474903.0</td>\n      <td>339.7</td>\n      <td>1182.0</td>\n      <td>South Asia</td>\n    </tr>\n    <tr>\n      <th>1</th>\n      <td>Afghanistan</td>\n      <td>1965</td>\n      <td>7.671</td>\n      <td>34.152</td>\n      <td>10697983.0</td>\n      <td>334.1</td>\n      <td>1182.0</td>\n      <td>South Asia</td>\n    </tr>\n    <tr>\n      <th>2</th>\n      <td>Afghanistan</td>\n      <td>1966</td>\n      <td>7.671</td>\n      <td>34.662</td>\n      <td>10927724.0</td>\n      <td>328.7</td>\n      <td>1168.0</td>\n      <td>South Asia</td>\n    </tr>\n    <tr>\n      <th>3</th>\n      <td>Afghanistan</td>\n      <td>1967</td>\n      <td>7.671</td>\n      <td>35.170</td>\n      <td>11163656.0</td>\n      <td>323.3</td>\n      <td>1173.0</td>\n      <td>South Asia</td>\n    </tr>\n    <tr>\n      <th>4</th>\n      <td>Afghanistan</td>\n      <td>1968</td>\n      <td>7.671</td>\n      <td>35.674</td>\n      <td>11411022.0</td>\n      <td>318.1</td>\n      <td>1187.0</td>\n      <td>South Asia</td>\n    </tr>\n  </tbody>\n</table>\n</div>"
     },
     "execution_count": 13,
     "metadata": {},
     "output_type": "execute_result"
    }
   ],
   "source": [
    "co2 = pd.read_csv('/Users/sahiyo/PycharmProjects/Data/co2.csv')\n",
    "gm = pd.read_csv('/Users/sahiyo/PycharmProjects/Data/gapminder.csv')\n",
    "gm.head()\n",
    "#co2.head()"
   ],
   "metadata": {
    "collapsed": false,
    "ExecuteTime": {
     "end_time": "2024-03-27T13:45:56.404630Z",
     "start_time": "2024-03-27T13:45:56.369256Z"
    }
   },
   "id": "7ab406ffa9be767c",
   "execution_count": 13
  },
  {
   "cell_type": "code",
   "outputs": [
    {
     "ename": "TypeError",
     "evalue": "dropna() got multiple values for argument 'axis'",
     "output_type": "error",
     "traceback": [
      "\u001B[0;31m---------------------------------------------------------------------------\u001B[0m",
      "\u001B[0;31mTypeError\u001B[0m                                 Traceback (most recent call last)",
      "\u001B[0;32m<ipython-input-11-a04de4ec8858>\u001B[0m in \u001B[0;36m<module>\u001B[0;34m\u001B[0m\n\u001B[1;32m      1\u001B[0m \u001B[0mdf_gm\u001B[0m \u001B[0;34m=\u001B[0m \u001B[0mgm\u001B[0m\u001B[0;34m[\u001B[0m\u001B[0;34m[\u001B[0m\u001B[0;34m\"Country\"\u001B[0m\u001B[0;34m,\u001B[0m\u001B[0;34m\"region\"\u001B[0m\u001B[0;34m]\u001B[0m\u001B[0;34m]\u001B[0m\u001B[0;34m.\u001B[0m\u001B[0mdrop_duplicates\u001B[0m\u001B[0;34m(\u001B[0m\u001B[0;34m)\u001B[0m\u001B[0;34m\u001B[0m\u001B[0m\n\u001B[1;32m      2\u001B[0m \u001B[0mmerged_df\u001B[0m \u001B[0;34m=\u001B[0m \u001B[0mpd\u001B[0m\u001B[0;34m.\u001B[0m\u001B[0mmerge\u001B[0m\u001B[0;34m(\u001B[0m\u001B[0mco2\u001B[0m\u001B[0;34m,\u001B[0m \u001B[0mdf_gm\u001B[0m\u001B[0;34m,\u001B[0m\u001B[0mleft_on\u001B[0m\u001B[0;34m=\u001B[0m\u001B[0;34m\"country\"\u001B[0m\u001B[0;34m,\u001B[0m\u001B[0mright_on\u001B[0m\u001B[0;34m=\u001B[0m\u001B[0;34m\"Country\"\u001B[0m\u001B[0;34m,\u001B[0m\u001B[0mhow\u001B[0m\u001B[0;34m=\u001B[0m\u001B[0;34m\"inner\"\u001B[0m\u001B[0;34m)\u001B[0m\u001B[0;34m\u001B[0m\u001B[0m\n\u001B[0;32m----> 3\u001B[0;31m \u001B[0mmerged_df\u001B[0m \u001B[0;34m=\u001B[0m \u001B[0mmerged_df\u001B[0m\u001B[0;34m.\u001B[0m\u001B[0mdropna\u001B[0m\u001B[0;34m(\u001B[0m\u001B[0;34m'Country'\u001B[0m\u001B[0;34m,\u001B[0m\u001B[0maxis\u001B[0m\u001B[0;34m=\u001B[0m\u001B[0;34m'column'\u001B[0m\u001B[0;34m)\u001B[0m\u001B[0;34m\u001B[0m\u001B[0m\n\u001B[0m\u001B[1;32m      4\u001B[0m \u001B[0mnew_co2\u001B[0m \u001B[0;34m-\u001B[0m \u001B[0mpd\u001B[0m\u001B[0;34m.\u001B[0m\u001B[0mmelt\u001B[0m\u001B[0;34m(\u001B[0m\u001B[0mmerged_df\u001B[0m\u001B[0;34m,\u001B[0m\u001B[0mid_vars\u001B[0m\u001B[0;34m=\u001B[0m\u001B[0;34m[\u001B[0m\u001B[0;34m'country'\u001B[0m\u001B[0;34m,\u001B[0m\u001B[0;34m'region'\u001B[0m\u001B[0;34m]\u001B[0m\u001B[0;34m)\u001B[0m\u001B[0;34m\u001B[0m\u001B[0m\n\u001B[1;32m      5\u001B[0m \u001B[0mcolumns\u001B[0m \u001B[0;34m=\u001B[0m \u001B[0;34m[\u001B[0m\u001B[0;34m'country'\u001B[0m\u001B[0;34m,\u001B[0m\u001B[0;34m'region'\u001B[0m\u001B[0;34m,\u001B[0m\u001B[0;34m'year'\u001B[0m\u001B[0;34m,\u001B[0m\u001B[0mco2\u001B[0m\u001B[0;34m]\u001B[0m\u001B[0;34m\u001B[0m\u001B[0m\n",
      "\u001B[0;31mTypeError\u001B[0m: dropna() got multiple values for argument 'axis'"
     ]
    }
   ],
   "source": [
    "df_gm = gm[[\"Country\",\"region\"]].drop_duplicates()\n",
    "merged_df = pd.merge(co2, df_gm,left_on=\"country\",right_on=\"Country\",how=\"inner\")\n",
    "merged_df = merged_df.dropna('country',axis='columns')\n",
    "new_co2 - pd.melt(merged_df,id_vars=['country','region'])\n",
    "columns = ['country','region','year',co2]\n",
    "new_co2.columns = columns\n",
    "new_co2.head()"
   ],
   "metadata": {
    "collapsed": false,
    "ExecuteTime": {
     "end_time": "2024-03-27T13:45:34.562827Z",
     "start_time": "2024-03-27T13:45:34.541079Z"
    }
   },
   "id": "b79478b9fc38aee1",
   "execution_count": 11
  },
  {
   "cell_type": "code",
   "outputs": [],
   "source": [],
   "metadata": {
    "collapsed": false
   },
   "id": "8f45ddfadba2e231"
  }
 ],
 "metadata": {
  "kernelspec": {
   "display_name": "Python 3",
   "language": "python",
   "name": "python3"
  },
  "language_info": {
   "codemirror_mode": {
    "name": "ipython",
    "version": 2
   },
   "file_extension": ".py",
   "mimetype": "text/x-python",
   "name": "python",
   "nbconvert_exporter": "python",
   "pygments_lexer": "ipython2",
   "version": "2.7.6"
  }
 },
 "nbformat": 4,
 "nbformat_minor": 5
}
