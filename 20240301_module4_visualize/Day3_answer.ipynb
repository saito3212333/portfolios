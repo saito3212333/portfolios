{
 "cells": [
  {
   "cell_type": "code",
   "execution_count": 1,
   "metadata": {
    "ExecuteTime": {
     "end_time": "2024-03-29T01:43:23.411232Z",
     "start_time": "2024-03-29T01:43:23.278656Z"
    }
   },
   "outputs": [
    {
     "name": "stderr",
     "output_type": "stream",
     "text": [
      "/var/folders/pg/6j_pvh8d1c58ksk8np5cmthr0000gn/T/ipykernel_6604/2504811429.py:1: DeprecationWarning: \n",
      "Pyarrow will become a required dependency of pandas in the next major release of pandas (pandas 3.0),\n",
      "(to allow more performant data types, such as the Arrow string type, and better interoperability with other libraries)\n",
      "but was not found to be installed on your system.\n",
      "If this would cause problems for you,\n",
      "please provide us feedback at https://github.com/pandas-dev/pandas/issues/54466\n",
      "        \n",
      "  import pandas as pd\n"
     ]
    }
   ],
   "source": [
    "import pandas as pd\n",
    "import numpy as np\n"
   ]
  },
  {
   "cell_type": "code",
   "execution_count": 55,
   "metadata": {
    "ExecuteTime": {
     "end_time": "2024-03-27T15:32:44.933361Z",
     "start_time": "2024-03-27T15:32:44.920805Z"
    }
   },
   "outputs": [
    {
     "data": {
      "text/plain": "\"\\nurl_co2 = 'https://raw.githubusercontent.com/TrainingByPackt/Interactive-Data-Visualization-with-Python/master/datasets/co2.csv'\\nco2 = pd.read_csv(url_co2)\\nco2.head()\\n\""
     },
     "execution_count": 55,
     "metadata": {},
     "output_type": "execute_result"
    }
   ],
   "source": [
    "\"\"\"\n",
    "url_co2 = 'https://raw.githubusercontent.com/TrainingByPackt/Interactive-Data-Visualization-with-Python/master/datasets/co2.csv'\n",
    "co2 = pd.read_csv(url_co2)\n",
    "co2.head()\n",
    "\"\"\"\n"
   ]
  },
  {
   "cell_type": "code",
   "outputs": [
    {
     "data": {
      "text/plain": "       Country  Year  fertility    life  population  child_mortality     gdp  \\\n0  Afghanistan  1964      7.671  33.639  10474903.0            339.7  1182.0   \n1  Afghanistan  1965      7.671  34.152  10697983.0            334.1  1182.0   \n2  Afghanistan  1966      7.671  34.662  10927724.0            328.7  1168.0   \n3  Afghanistan  1967      7.671  35.170  11163656.0            323.3  1173.0   \n4  Afghanistan  1968      7.671  35.674  11411022.0            318.1  1187.0   \n\n       region  \n0  South Asia  \n1  South Asia  \n2  South Asia  \n3  South Asia  \n4  South Asia  ",
      "text/html": "<div>\n<style scoped>\n    .dataframe tbody tr th:only-of-type {\n        vertical-align: middle;\n    }\n\n    .dataframe tbody tr th {\n        vertical-align: top;\n    }\n\n    .dataframe thead th {\n        text-align: right;\n    }\n</style>\n<table border=\"1\" class=\"dataframe\">\n  <thead>\n    <tr style=\"text-align: right;\">\n      <th></th>\n      <th>Country</th>\n      <th>Year</th>\n      <th>fertility</th>\n      <th>life</th>\n      <th>population</th>\n      <th>child_mortality</th>\n      <th>gdp</th>\n      <th>region</th>\n    </tr>\n  </thead>\n  <tbody>\n    <tr>\n      <th>0</th>\n      <td>Afghanistan</td>\n      <td>1964</td>\n      <td>7.671</td>\n      <td>33.639</td>\n      <td>10474903.0</td>\n      <td>339.7</td>\n      <td>1182.0</td>\n      <td>South Asia</td>\n    </tr>\n    <tr>\n      <th>1</th>\n      <td>Afghanistan</td>\n      <td>1965</td>\n      <td>7.671</td>\n      <td>34.152</td>\n      <td>10697983.0</td>\n      <td>334.1</td>\n      <td>1182.0</td>\n      <td>South Asia</td>\n    </tr>\n    <tr>\n      <th>2</th>\n      <td>Afghanistan</td>\n      <td>1966</td>\n      <td>7.671</td>\n      <td>34.662</td>\n      <td>10927724.0</td>\n      <td>328.7</td>\n      <td>1168.0</td>\n      <td>South Asia</td>\n    </tr>\n    <tr>\n      <th>3</th>\n      <td>Afghanistan</td>\n      <td>1967</td>\n      <td>7.671</td>\n      <td>35.170</td>\n      <td>11163656.0</td>\n      <td>323.3</td>\n      <td>1173.0</td>\n      <td>South Asia</td>\n    </tr>\n    <tr>\n      <th>4</th>\n      <td>Afghanistan</td>\n      <td>1968</td>\n      <td>7.671</td>\n      <td>35.674</td>\n      <td>11411022.0</td>\n      <td>318.1</td>\n      <td>1187.0</td>\n      <td>South Asia</td>\n    </tr>\n  </tbody>\n</table>\n</div>"
     },
     "execution_count": 2,
     "metadata": {},
     "output_type": "execute_result"
    }
   ],
   "source": [
    "co2 = pd.read_csv('/Users/sahiyo/PycharmProjects/Data/co2.csv')\n",
    "gm = pd.read_csv('/Users/sahiyo/PycharmProjects/Data/gapminder.csv')\n",
    "gm.head()"
   ],
   "metadata": {
    "collapsed": false,
    "ExecuteTime": {
     "end_time": "2024-03-29T01:43:26.000699Z",
     "start_time": "2024-03-29T01:43:25.978884Z"
    }
   },
   "execution_count": 2
  },
  {
   "cell_type": "code",
   "execution_count": 3,
   "metadata": {
    "ExecuteTime": {
     "end_time": "2024-03-29T01:43:26.874247Z",
     "start_time": "2024-03-29T01:43:26.871427Z"
    }
   },
   "outputs": [
    {
     "name": "stdout",
     "output_type": "stream",
     "text": [
      "<class 'pandas.core.frame.DataFrame'>\n",
      "RangeIndex: 10111 entries, 0 to 10110\n",
      "Data columns (total 8 columns):\n",
      " #   Column           Non-Null Count  Dtype  \n",
      "---  ------           --------------  -----  \n",
      " 0   Country          10111 non-null  object \n",
      " 1   Year             10111 non-null  int64  \n",
      " 2   fertility        10100 non-null  float64\n",
      " 3   life             10111 non-null  float64\n",
      " 4   population       10108 non-null  float64\n",
      " 5   child_mortality  9210 non-null   float64\n",
      " 6   gdp              9000 non-null   float64\n",
      " 7   region           10111 non-null  object \n",
      "dtypes: float64(5), int64(1), object(2)\n",
      "memory usage: 632.1+ KB\n"
     ]
    }
   ],
   "source": [
    "gm.info()"
   ]
  },
  {
   "cell_type": "code",
   "execution_count": 4,
   "metadata": {
    "ExecuteTime": {
     "end_time": "2024-03-29T01:43:27.444022Z",
     "start_time": "2024-03-29T01:43:27.437920Z"
    }
   },
   "outputs": [
    {
     "data": {
      "text/plain": "                 Country                      region\n0            Afghanistan                  South Asia\n50               Albania       Europe & Central Asia\n100              Algeria  Middle East & North Africa\n150               Angola          Sub-Saharan Africa\n200  Antigua and Barbuda                     America",
      "text/html": "<div>\n<style scoped>\n    .dataframe tbody tr th:only-of-type {\n        vertical-align: middle;\n    }\n\n    .dataframe tbody tr th {\n        vertical-align: top;\n    }\n\n    .dataframe thead th {\n        text-align: right;\n    }\n</style>\n<table border=\"1\" class=\"dataframe\">\n  <thead>\n    <tr style=\"text-align: right;\">\n      <th></th>\n      <th>Country</th>\n      <th>region</th>\n    </tr>\n  </thead>\n  <tbody>\n    <tr>\n      <th>0</th>\n      <td>Afghanistan</td>\n      <td>South Asia</td>\n    </tr>\n    <tr>\n      <th>50</th>\n      <td>Albania</td>\n      <td>Europe &amp; Central Asia</td>\n    </tr>\n    <tr>\n      <th>100</th>\n      <td>Algeria</td>\n      <td>Middle East &amp; North Africa</td>\n    </tr>\n    <tr>\n      <th>150</th>\n      <td>Angola</td>\n      <td>Sub-Saharan Africa</td>\n    </tr>\n    <tr>\n      <th>200</th>\n      <td>Antigua and Barbuda</td>\n      <td>America</td>\n    </tr>\n  </tbody>\n</table>\n</div>"
     },
     "execution_count": 4,
     "metadata": {},
     "output_type": "execute_result"
    }
   ],
   "source": [
    "# 'gm'データフレームから'Country'列と'region'列を選択して新しいデータフレームを作成\n",
    "df_gm = gm[['Country', 'region']].drop_duplicates()\n",
    "\n",
    "# 新しいデータフレームの最初の数行を表示\n",
    "df_gm.head()"
   ]
  },
  {
   "cell_type": "markdown",
   "source": [
    "drop_duplicates()は、データフレームから重複する行を削除するためのPandasのメソッドです。デフォルトでは、すべての列の値が同じ行が重複と見なされ、最初に出現した行が残ります。特定の列の重複のみを考慮する場合は、subsetパラメータを使用して列を指定できます。"
   ],
   "metadata": {
    "collapsed": false
   }
  },
  {
   "cell_type": "code",
   "execution_count": 5,
   "metadata": {
    "ExecuteTime": {
     "end_time": "2024-03-29T01:43:28.713693Z",
     "start_time": "2024-03-29T01:43:28.701708Z"
    }
   },
   "outputs": [
    {
     "data": {
      "text/plain": "               country  1800  1801  1802  1803  1804  1805  1806  1807  1808  \\\n0          Afghanistan   NaN   NaN   NaN   NaN   NaN   NaN   NaN   NaN   NaN   \n1              Albania   NaN   NaN   NaN   NaN   NaN   NaN   NaN   NaN   NaN   \n2              Algeria   NaN   NaN   NaN   NaN   NaN   NaN   NaN   NaN   NaN   \n3               Angola   NaN   NaN   NaN   NaN   NaN   NaN   NaN   NaN   NaN   \n4  Antigua and Barbuda   NaN   NaN   NaN   NaN   NaN   NaN   NaN   NaN   NaN   \n\n   ...    2007   2008   2009   2010   2011  2012   2013   2014  \\\n0  ...  0.0854  0.154  0.242  0.294  0.412  0.35  0.316  0.299   \n1  ...  1.3000  1.460  1.480  1.560  1.790  1.68  1.730  1.960   \n2  ...  3.1900  3.160  3.420  3.300  3.290  3.46  3.510  3.720   \n3  ...  1.2000  1.180  1.230  1.240  1.250  1.33  1.250  1.290   \n4  ...  5.1400  5.190  5.450  5.540  5.360  5.42  5.360  5.380   \n\n               Country                      region  \n0          Afghanistan                  South Asia  \n1              Albania       Europe & Central Asia  \n2              Algeria  Middle East & North Africa  \n3               Angola          Sub-Saharan Africa  \n4  Antigua and Barbuda                     America  \n\n[5 rows x 218 columns]",
      "text/html": "<div>\n<style scoped>\n    .dataframe tbody tr th:only-of-type {\n        vertical-align: middle;\n    }\n\n    .dataframe tbody tr th {\n        vertical-align: top;\n    }\n\n    .dataframe thead th {\n        text-align: right;\n    }\n</style>\n<table border=\"1\" class=\"dataframe\">\n  <thead>\n    <tr style=\"text-align: right;\">\n      <th></th>\n      <th>country</th>\n      <th>1800</th>\n      <th>1801</th>\n      <th>1802</th>\n      <th>1803</th>\n      <th>1804</th>\n      <th>1805</th>\n      <th>1806</th>\n      <th>1807</th>\n      <th>1808</th>\n      <th>...</th>\n      <th>2007</th>\n      <th>2008</th>\n      <th>2009</th>\n      <th>2010</th>\n      <th>2011</th>\n      <th>2012</th>\n      <th>2013</th>\n      <th>2014</th>\n      <th>Country</th>\n      <th>region</th>\n    </tr>\n  </thead>\n  <tbody>\n    <tr>\n      <th>0</th>\n      <td>Afghanistan</td>\n      <td>NaN</td>\n      <td>NaN</td>\n      <td>NaN</td>\n      <td>NaN</td>\n      <td>NaN</td>\n      <td>NaN</td>\n      <td>NaN</td>\n      <td>NaN</td>\n      <td>NaN</td>\n      <td>...</td>\n      <td>0.0854</td>\n      <td>0.154</td>\n      <td>0.242</td>\n      <td>0.294</td>\n      <td>0.412</td>\n      <td>0.35</td>\n      <td>0.316</td>\n      <td>0.299</td>\n      <td>Afghanistan</td>\n      <td>South Asia</td>\n    </tr>\n    <tr>\n      <th>1</th>\n      <td>Albania</td>\n      <td>NaN</td>\n      <td>NaN</td>\n      <td>NaN</td>\n      <td>NaN</td>\n      <td>NaN</td>\n      <td>NaN</td>\n      <td>NaN</td>\n      <td>NaN</td>\n      <td>NaN</td>\n      <td>...</td>\n      <td>1.3000</td>\n      <td>1.460</td>\n      <td>1.480</td>\n      <td>1.560</td>\n      <td>1.790</td>\n      <td>1.68</td>\n      <td>1.730</td>\n      <td>1.960</td>\n      <td>Albania</td>\n      <td>Europe &amp; Central Asia</td>\n    </tr>\n    <tr>\n      <th>2</th>\n      <td>Algeria</td>\n      <td>NaN</td>\n      <td>NaN</td>\n      <td>NaN</td>\n      <td>NaN</td>\n      <td>NaN</td>\n      <td>NaN</td>\n      <td>NaN</td>\n      <td>NaN</td>\n      <td>NaN</td>\n      <td>...</td>\n      <td>3.1900</td>\n      <td>3.160</td>\n      <td>3.420</td>\n      <td>3.300</td>\n      <td>3.290</td>\n      <td>3.46</td>\n      <td>3.510</td>\n      <td>3.720</td>\n      <td>Algeria</td>\n      <td>Middle East &amp; North Africa</td>\n    </tr>\n    <tr>\n      <th>3</th>\n      <td>Angola</td>\n      <td>NaN</td>\n      <td>NaN</td>\n      <td>NaN</td>\n      <td>NaN</td>\n      <td>NaN</td>\n      <td>NaN</td>\n      <td>NaN</td>\n      <td>NaN</td>\n      <td>NaN</td>\n      <td>...</td>\n      <td>1.2000</td>\n      <td>1.180</td>\n      <td>1.230</td>\n      <td>1.240</td>\n      <td>1.250</td>\n      <td>1.33</td>\n      <td>1.250</td>\n      <td>1.290</td>\n      <td>Angola</td>\n      <td>Sub-Saharan Africa</td>\n    </tr>\n    <tr>\n      <th>4</th>\n      <td>Antigua and Barbuda</td>\n      <td>NaN</td>\n      <td>NaN</td>\n      <td>NaN</td>\n      <td>NaN</td>\n      <td>NaN</td>\n      <td>NaN</td>\n      <td>NaN</td>\n      <td>NaN</td>\n      <td>NaN</td>\n      <td>...</td>\n      <td>5.1400</td>\n      <td>5.190</td>\n      <td>5.450</td>\n      <td>5.540</td>\n      <td>5.360</td>\n      <td>5.42</td>\n      <td>5.360</td>\n      <td>5.380</td>\n      <td>Antigua and Barbuda</td>\n      <td>America</td>\n    </tr>\n  </tbody>\n</table>\n<p>5 rows × 218 columns</p>\n</div>"
     },
     "execution_count": 5,
     "metadata": {},
     "output_type": "execute_result"
    }
   ],
   "source": [
    "df_merged = pd.merge(co2,df_gm,left_on='country',right_on='Country',how='inner')\n",
    "df_merged.head()"
   ]
  },
  {
   "cell_type": "markdown",
   "source": [
    "結合方法は'inner'であり、共通して存在する行のみが結合されます。"
   ],
   "metadata": {
    "collapsed": false
   }
  },
  {
   "cell_type": "code",
   "execution_count": 6,
   "metadata": {
    "ExecuteTime": {
     "end_time": "2024-03-29T01:43:29.577396Z",
     "start_time": "2024-03-29T01:43:29.564155Z"
    }
   },
   "outputs": [
    {
     "data": {
      "text/plain": "               country                      region  year  co2\n0          Afghanistan                  South Asia  1800  NaN\n1              Albania       Europe & Central Asia  1800  NaN\n2              Algeria  Middle East & North Africa  1800  NaN\n3               Angola          Sub-Saharan Africa  1800  NaN\n4  Antigua and Barbuda                     America  1800  NaN",
      "text/html": "<div>\n<style scoped>\n    .dataframe tbody tr th:only-of-type {\n        vertical-align: middle;\n    }\n\n    .dataframe tbody tr th {\n        vertical-align: top;\n    }\n\n    .dataframe thead th {\n        text-align: right;\n    }\n</style>\n<table border=\"1\" class=\"dataframe\">\n  <thead>\n    <tr style=\"text-align: right;\">\n      <th></th>\n      <th>country</th>\n      <th>region</th>\n      <th>year</th>\n      <th>co2</th>\n    </tr>\n  </thead>\n  <tbody>\n    <tr>\n      <th>0</th>\n      <td>Afghanistan</td>\n      <td>South Asia</td>\n      <td>1800</td>\n      <td>NaN</td>\n    </tr>\n    <tr>\n      <th>1</th>\n      <td>Albania</td>\n      <td>Europe &amp; Central Asia</td>\n      <td>1800</td>\n      <td>NaN</td>\n    </tr>\n    <tr>\n      <th>2</th>\n      <td>Algeria</td>\n      <td>Middle East &amp; North Africa</td>\n      <td>1800</td>\n      <td>NaN</td>\n    </tr>\n    <tr>\n      <th>3</th>\n      <td>Angola</td>\n      <td>Sub-Saharan Africa</td>\n      <td>1800</td>\n      <td>NaN</td>\n    </tr>\n    <tr>\n      <th>4</th>\n      <td>Antigua and Barbuda</td>\n      <td>America</td>\n      <td>1800</td>\n      <td>NaN</td>\n    </tr>\n  </tbody>\n</table>\n</div>"
     },
     "execution_count": 6,
     "metadata": {},
     "output_type": "execute_result"
    }
   ],
   "source": [
    "# df_mergedをid_varsで指定された列を保持して、残りの列をメルトして新しいデータフレームを作成\n",
    "new_co2 = pd.melt(df_merged, id_vars=['country', 'region'])\n",
    "\n",
    "# 列名を指定\n",
    "columns = ['country', 'region', 'year', 'co2']\n",
    "new_co2.columns = columns\n",
    "\n",
    "# 新しいデータフレームの最初の数行を表示\n",
    "new_co2.head()"
   ]
  },
  {
   "cell_type": "markdown",
   "source": [
    "melt()は、Pandasのデータ変換関数の1つです。この関数は、データフレームを再構成し、複数の列を1つの列にまとめます。具体的には、指定された列を除いて他のすべての列を行に変換します。\n",
    "\n",
    "id_vars: 変更しない列のリスト。これらの列は、変換後のデータフレームにそのまま残ります"
   ],
   "metadata": {
    "collapsed": false
   }
  },
  {
   "cell_type": "code",
   "execution_count": 7,
   "metadata": {
    "ExecuteTime": {
     "end_time": "2024-03-29T01:43:30.324231Z",
     "start_time": "2024-03-29T01:43:30.320585Z"
    }
   },
   "outputs": [
    {
     "name": "stdout",
     "output_type": "stream",
     "text": [
      "<class 'pandas.core.frame.DataFrame'>\n",
      "RangeIndex: 37368 entries, 0 to 37367\n",
      "Data columns (total 4 columns):\n",
      " #   Column   Non-Null Count  Dtype \n",
      "---  ------   --------------  ----- \n",
      " 0   country  37368 non-null  object\n",
      " 1   region   37368 non-null  object\n",
      " 2   year     37368 non-null  object\n",
      " 3   co2      15963 non-null  object\n",
      "dtypes: object(4)\n",
      "memory usage: 1.1+ MB\n"
     ]
    }
   ],
   "source": [
    "new_co2.info()"
   ]
  },
  {
   "cell_type": "code",
   "execution_count": 8,
   "metadata": {
    "ExecuteTime": {
     "end_time": "2024-03-29T01:43:30.613365Z",
     "start_time": "2024-03-29T01:43:30.598432Z"
    }
   },
   "outputs": [
    {
     "data": {
      "text/plain": "                   country                      region  year     co2\n28372          Afghanistan                  South Asia  1964  0.0863\n28373              Albania       Europe & Central Asia  1964    1.09\n28374              Algeria  Middle East & North Africa  1964    0.46\n28375               Angola          Sub-Saharan Africa  1964   0.201\n28376  Antigua and Barbuda                     America  1964    1.54",
      "text/html": "<div>\n<style scoped>\n    .dataframe tbody tr th:only-of-type {\n        vertical-align: middle;\n    }\n\n    .dataframe tbody tr th {\n        vertical-align: top;\n    }\n\n    .dataframe thead th {\n        text-align: right;\n    }\n</style>\n<table border=\"1\" class=\"dataframe\">\n  <thead>\n    <tr style=\"text-align: right;\">\n      <th></th>\n      <th>country</th>\n      <th>region</th>\n      <th>year</th>\n      <th>co2</th>\n    </tr>\n  </thead>\n  <tbody>\n    <tr>\n      <th>28372</th>\n      <td>Afghanistan</td>\n      <td>South Asia</td>\n      <td>1964</td>\n      <td>0.0863</td>\n    </tr>\n    <tr>\n      <th>28373</th>\n      <td>Albania</td>\n      <td>Europe &amp; Central Asia</td>\n      <td>1964</td>\n      <td>1.09</td>\n    </tr>\n    <tr>\n      <th>28374</th>\n      <td>Algeria</td>\n      <td>Middle East &amp; North Africa</td>\n      <td>1964</td>\n      <td>0.46</td>\n    </tr>\n    <tr>\n      <th>28375</th>\n      <td>Angola</td>\n      <td>Sub-Saharan Africa</td>\n      <td>1964</td>\n      <td>0.201</td>\n    </tr>\n    <tr>\n      <th>28376</th>\n      <td>Antigua and Barbuda</td>\n      <td>America</td>\n      <td>1964</td>\n      <td>1.54</td>\n    </tr>\n  </tbody>\n</table>\n</div>"
     },
     "execution_count": 8,
     "metadata": {},
     "output_type": "execute_result"
    }
   ],
   "source": [
    "# 'year'列のユニークな値を取得\n",
    "new_co2['year'].unique()\n",
    "\n",
    "# 'year'列が'Country'ではない行のみを新しいCO2データフレームに選択\n",
    "new_co2 = new_co2[new_co2['year'] != 'Country']\n",
    "\n",
    "# 'year'列を整数に変換し、1963年より後の行のみを含む新しいCO2データフレームを作成\n",
    "df_co2 = new_co2[new_co2['year'].astype('int64') > 1963]\n",
    "\n",
    "# 新しいCO2データフレームの最初の数行を表示\n",
    "df_co2.head()\n",
    "\n"
   ]
  },
  {
   "cell_type": "markdown",
   "source": [
    "astype('int64')は、PandasのSeriesやDataFrameのデータ型を整数型（64ビット整数）に変換するメソッドです。このメソッドは、数値として扱われるべき列のデータ型を整数に変更するのに便利です。"
   ],
   "metadata": {
    "collapsed": false
   }
  },
  {
   "cell_type": "code",
   "execution_count": 9,
   "metadata": {
    "ExecuteTime": {
     "end_time": "2024-03-29T01:43:31.756728Z",
     "start_time": "2024-03-29T01:43:31.739315Z"
    }
   },
   "outputs": [
    {
     "name": "stdout",
     "output_type": "stream",
     "text": [
      "<class 'pandas.core.frame.DataFrame'>\n",
      "Index: 8823 entries, 28372 to 37194\n",
      "Data columns (total 4 columns):\n",
      " #   Column   Non-Null Count  Dtype \n",
      "---  ------   --------------  ----- \n",
      " 0   country  8823 non-null   object\n",
      " 1   region   8823 non-null   object\n",
      " 2   year     8823 non-null   int64 \n",
      " 3   co2      8375 non-null   object\n",
      "dtypes: int64(1), object(3)\n",
      "memory usage: 344.6+ KB\n"
     ]
    },
    {
     "data": {
      "text/plain": "           country      region  year     co2\n28372  Afghanistan  South Asia  1964  0.0863\n28545  Afghanistan  South Asia  1965   0.101\n28718  Afghanistan  South Asia  1966   0.108\n28891  Afghanistan  South Asia  1967   0.124\n29064  Afghanistan  South Asia  1968   0.116",
      "text/html": "<div>\n<style scoped>\n    .dataframe tbody tr th:only-of-type {\n        vertical-align: middle;\n    }\n\n    .dataframe tbody tr th {\n        vertical-align: top;\n    }\n\n    .dataframe thead th {\n        text-align: right;\n    }\n</style>\n<table border=\"1\" class=\"dataframe\">\n  <thead>\n    <tr style=\"text-align: right;\">\n      <th></th>\n      <th>country</th>\n      <th>region</th>\n      <th>year</th>\n      <th>co2</th>\n    </tr>\n  </thead>\n  <tbody>\n    <tr>\n      <th>28372</th>\n      <td>Afghanistan</td>\n      <td>South Asia</td>\n      <td>1964</td>\n      <td>0.0863</td>\n    </tr>\n    <tr>\n      <th>28545</th>\n      <td>Afghanistan</td>\n      <td>South Asia</td>\n      <td>1965</td>\n      <td>0.101</td>\n    </tr>\n    <tr>\n      <th>28718</th>\n      <td>Afghanistan</td>\n      <td>South Asia</td>\n      <td>1966</td>\n      <td>0.108</td>\n    </tr>\n    <tr>\n      <th>28891</th>\n      <td>Afghanistan</td>\n      <td>South Asia</td>\n      <td>1967</td>\n      <td>0.124</td>\n    </tr>\n    <tr>\n      <th>29064</th>\n      <td>Afghanistan</td>\n      <td>South Asia</td>\n      <td>1968</td>\n      <td>0.116</td>\n    </tr>\n  </tbody>\n</table>\n</div>"
     },
     "execution_count": 9,
     "metadata": {},
     "output_type": "execute_result"
    }
   ],
   "source": [
    "# 'country'列と'year'列でデータフレームをソート\n",
    "df_co2 = df_co2.sort_values(by=['country', 'year'])\n",
    "\n",
    "# 'year'列のデータ型をint64に変換\n",
    "df_co2['year'] = df_co2['year'].astype('int64')\n",
    "\n",
    "# データフレームの情報を表示\n",
    "df_co2.info()\n",
    "\n",
    "# データフレームの最初の数行を表示\n",
    "df_co2.head()\n"
   ]
  },
  {
   "cell_type": "code",
   "execution_count": 10,
   "metadata": {
    "ExecuteTime": {
     "end_time": "2024-03-29T01:43:32.281047Z",
     "start_time": "2024-03-29T01:43:32.277101Z"
    }
   },
   "outputs": [
    {
     "data": {
      "text/plain": "       Country  Year  fertility    life  population  child_mortality     gdp  \\\n0  Afghanistan  1964      7.671  33.639  10474903.0            339.7  1182.0   \n1  Afghanistan  1965      7.671  34.152  10697983.0            334.1  1182.0   \n2  Afghanistan  1966      7.671  34.662  10927724.0            328.7  1168.0   \n3  Afghanistan  1967      7.671  35.170  11163656.0            323.3  1173.0   \n4  Afghanistan  1968      7.671  35.674  11411022.0            318.1  1187.0   \n\n       region  \n0  South Asia  \n1  South Asia  \n2  South Asia  \n3  South Asia  \n4  South Asia  ",
      "text/html": "<div>\n<style scoped>\n    .dataframe tbody tr th:only-of-type {\n        vertical-align: middle;\n    }\n\n    .dataframe tbody tr th {\n        vertical-align: top;\n    }\n\n    .dataframe thead th {\n        text-align: right;\n    }\n</style>\n<table border=\"1\" class=\"dataframe\">\n  <thead>\n    <tr style=\"text-align: right;\">\n      <th></th>\n      <th>Country</th>\n      <th>Year</th>\n      <th>fertility</th>\n      <th>life</th>\n      <th>population</th>\n      <th>child_mortality</th>\n      <th>gdp</th>\n      <th>region</th>\n    </tr>\n  </thead>\n  <tbody>\n    <tr>\n      <th>0</th>\n      <td>Afghanistan</td>\n      <td>1964</td>\n      <td>7.671</td>\n      <td>33.639</td>\n      <td>10474903.0</td>\n      <td>339.7</td>\n      <td>1182.0</td>\n      <td>South Asia</td>\n    </tr>\n    <tr>\n      <th>1</th>\n      <td>Afghanistan</td>\n      <td>1965</td>\n      <td>7.671</td>\n      <td>34.152</td>\n      <td>10697983.0</td>\n      <td>334.1</td>\n      <td>1182.0</td>\n      <td>South Asia</td>\n    </tr>\n    <tr>\n      <th>2</th>\n      <td>Afghanistan</td>\n      <td>1966</td>\n      <td>7.671</td>\n      <td>34.662</td>\n      <td>10927724.0</td>\n      <td>328.7</td>\n      <td>1168.0</td>\n      <td>South Asia</td>\n    </tr>\n    <tr>\n      <th>3</th>\n      <td>Afghanistan</td>\n      <td>1967</td>\n      <td>7.671</td>\n      <td>35.170</td>\n      <td>11163656.0</td>\n      <td>323.3</td>\n      <td>1173.0</td>\n      <td>South Asia</td>\n    </tr>\n    <tr>\n      <th>4</th>\n      <td>Afghanistan</td>\n      <td>1968</td>\n      <td>7.671</td>\n      <td>35.674</td>\n      <td>11411022.0</td>\n      <td>318.1</td>\n      <td>1187.0</td>\n      <td>South Asia</td>\n    </tr>\n  </tbody>\n</table>\n</div>"
     },
     "execution_count": 10,
     "metadata": {},
     "output_type": "execute_result"
    }
   ],
   "source": [
    "gm.head()"
   ]
  },
  {
   "cell_type": "code",
   "execution_count": 11,
   "metadata": {
    "ExecuteTime": {
     "end_time": "2024-03-29T01:43:32.805373Z",
     "start_time": "2024-03-29T01:43:32.783852Z"
    }
   },
   "outputs": [
    {
     "data": {
      "text/plain": "       country  year     gdp\n0  Afghanistan  1964  1182.0\n1  Afghanistan  1965  1182.0\n2  Afghanistan  1966  1168.0\n3  Afghanistan  1967  1173.0\n4  Afghanistan  1968  1187.0",
      "text/html": "<div>\n<style scoped>\n    .dataframe tbody tr th:only-of-type {\n        vertical-align: middle;\n    }\n\n    .dataframe tbody tr th {\n        vertical-align: top;\n    }\n\n    .dataframe thead th {\n        text-align: right;\n    }\n</style>\n<table border=\"1\" class=\"dataframe\">\n  <thead>\n    <tr style=\"text-align: right;\">\n      <th></th>\n      <th>country</th>\n      <th>year</th>\n      <th>gdp</th>\n    </tr>\n  </thead>\n  <tbody>\n    <tr>\n      <th>0</th>\n      <td>Afghanistan</td>\n      <td>1964</td>\n      <td>1182.0</td>\n    </tr>\n    <tr>\n      <th>1</th>\n      <td>Afghanistan</td>\n      <td>1965</td>\n      <td>1182.0</td>\n    </tr>\n    <tr>\n      <th>2</th>\n      <td>Afghanistan</td>\n      <td>1966</td>\n      <td>1168.0</td>\n    </tr>\n    <tr>\n      <th>3</th>\n      <td>Afghanistan</td>\n      <td>1967</td>\n      <td>1173.0</td>\n    </tr>\n    <tr>\n      <th>4</th>\n      <td>Afghanistan</td>\n      <td>1968</td>\n      <td>1187.0</td>\n    </tr>\n  </tbody>\n</table>\n</div>"
     },
     "execution_count": 11,
     "metadata": {},
     "output_type": "execute_result"
    }
   ],
   "source": [
    "# 'Country'、'Year'、'gdp'の列を選択して新しいデータフレームを作成\n",
    "df_gdp = gm[['Country', 'Year', 'gdp']]\n",
    "\n",
    "# 列名を'country'、'year'、'gdp'に変更\n",
    "df_gdp.columns = ['country', 'year', 'gdp']\n",
    "\n",
    "# 新しいデータフレームの最初の数行を表示\n",
    "df_gdp.head()\n"
   ]
  },
  {
   "cell_type": "code",
   "execution_count": 12,
   "metadata": {
    "ExecuteTime": {
     "end_time": "2024-03-29T01:43:33.291672Z",
     "start_time": "2024-03-29T01:43:33.283982Z"
    }
   },
   "outputs": [
    {
     "data": {
      "text/plain": "       country      region  year     co2     gdp\n0  Afghanistan  South Asia  1964  0.0863  1182.0\n1  Afghanistan  South Asia  1965  0.1010  1182.0\n2  Afghanistan  South Asia  1966  0.1080  1168.0\n3  Afghanistan  South Asia  1967  0.1240  1173.0\n4  Afghanistan  South Asia  1968  0.1160  1187.0",
      "text/html": "<div>\n<style scoped>\n    .dataframe tbody tr th:only-of-type {\n        vertical-align: middle;\n    }\n\n    .dataframe tbody tr th {\n        vertical-align: top;\n    }\n\n    .dataframe thead th {\n        text-align: right;\n    }\n</style>\n<table border=\"1\" class=\"dataframe\">\n  <thead>\n    <tr style=\"text-align: right;\">\n      <th></th>\n      <th>country</th>\n      <th>region</th>\n      <th>year</th>\n      <th>co2</th>\n      <th>gdp</th>\n    </tr>\n  </thead>\n  <tbody>\n    <tr>\n      <th>0</th>\n      <td>Afghanistan</td>\n      <td>South Asia</td>\n      <td>1964</td>\n      <td>0.0863</td>\n      <td>1182.0</td>\n    </tr>\n    <tr>\n      <th>1</th>\n      <td>Afghanistan</td>\n      <td>South Asia</td>\n      <td>1965</td>\n      <td>0.1010</td>\n      <td>1182.0</td>\n    </tr>\n    <tr>\n      <th>2</th>\n      <td>Afghanistan</td>\n      <td>South Asia</td>\n      <td>1966</td>\n      <td>0.1080</td>\n      <td>1168.0</td>\n    </tr>\n    <tr>\n      <th>3</th>\n      <td>Afghanistan</td>\n      <td>South Asia</td>\n      <td>1967</td>\n      <td>0.1240</td>\n      <td>1173.0</td>\n    </tr>\n    <tr>\n      <th>4</th>\n      <td>Afghanistan</td>\n      <td>South Asia</td>\n      <td>1968</td>\n      <td>0.1160</td>\n      <td>1187.0</td>\n    </tr>\n  </tbody>\n</table>\n</div>"
     },
     "execution_count": 12,
     "metadata": {},
     "output_type": "execute_result"
    }
   ],
   "source": [
    "# CO2データフレームとGDPデータフレームを'country'と'year'で結合し、新しいデータフレームを作成（左結合）\n",
    "data = pd.merge(df_co2, df_gdp, on=['country', 'year'], how='left')\n",
    "\n",
    "# 欠損値を含む行を削除\n",
    "data = data.dropna()\n",
    "\n",
    "# 'co2'列のデータ型をfloat64に変換\n",
    "data['co2'] = data['co2'].astype('float64')\n",
    "\n",
    "# 新しいデータフレームの最初の数行を表示\n",
    "data.head()"
   ]
  },
  {
   "cell_type": "code",
   "execution_count": 13,
   "metadata": {
    "ExecuteTime": {
     "end_time": "2024-03-29T01:43:33.837532Z",
     "start_time": "2024-03-29T01:43:33.829011Z"
    }
   },
   "outputs": [],
   "source": [
    "# 'co2'列のデータをNumPy配列に変換\n",
    "co2_arr = np.array(data['co2'])\n",
    "\n",
    "# 'gdp'列のデータをNumPy配列に変換\n",
    "gdp_arr = np.array(data['gdp'])"
   ]
  },
  {
   "cell_type": "code",
   "execution_count": 14,
   "metadata": {
    "ExecuteTime": {
     "end_time": "2024-03-29T01:43:34.543446Z",
     "start_time": "2024-03-29T01:43:34.536236Z"
    }
   },
   "outputs": [
    {
     "data": {
      "text/plain": "array([[1.        , 0.78219731],\n       [0.78219731, 1.        ]])"
     },
     "execution_count": 14,
     "metadata": {},
     "output_type": "execute_result"
    }
   ],
   "source": [
    "np.corrcoef(co2_arr,gdp_arr)"
   ]
  },
  {
   "cell_type": "markdown",
   "source": [
    "np.corrcoef()関数は、与えられた2つの配列（またはシーケンス）の相関係数を計算します。具体的には、ピアソンの積率相関係数を計算します。"
   ],
   "metadata": {
    "collapsed": false
   }
  },
  {
   "cell_type": "code",
   "execution_count": 15,
   "metadata": {
    "ExecuteTime": {
     "end_time": "2024-03-29T01:43:36.386273Z",
     "start_time": "2024-03-29T01:43:36.352262Z"
    }
   },
   "outputs": [],
   "source": [
    "from bokeh.io import curdoc, output_notebook\n",
    "from bokeh.plotting import figure, show\n",
    "from bokeh.models import HoverTool, ColumnDataSource, Slider, CategoricalColorMapper\n",
    "from bokeh.palettes import Spectral6\n",
    "from bokeh.layouts import row, column\n",
    "\n"
   ]
  },
  {
   "cell_type": "markdown",
   "source": [
    "# curdoc:\n",
    "現在のBokehドキュメントを表すオブジェクトを提供します。通常、Bokehアプリケーションを作成する際に使用されます。\n",
    "# output_notebook:\n",
    " Jupyter Notebook上でBokehプロットを表示するために使用される関数です\n",
    "# figure: \n",
    " Bokehのプロットを作成するための基本的な要素です。描画するプロットの種類やスタイルなどを指定します。\n",
    "# show: \n",
    "Bokehプロットをブラウザで表示するための関数です。\n",
    "# HoverTool: \n",
    "マウスカーソルをプロットの上に移動したときに表示されるツールチップを作成するためのツールです。\n",
    "# ColumnDataSource:\n",
    " データをBokehプロットに供給するためのデータソースです。Pandas DataFrameなどからデータを読み込んでプロットに使用します。\n",
    "# Slider: \n",
    "スライダーを作成するためのウィジェットです。ユーザーが値を選択したり調整したりするのに使用されます。\n",
    "# CategoricalColorMapper:\n",
    " カテゴリカルなデータに対して色を割り当てるためのカラーマッパーです。\n",
    "# Spectral6: \n",
    "プロットの色を指定するためのカラーパレットです。この場合、6つの異なる色が含まれています。\n",
    "# row: \n",
    "複数のBokehプロットを横に並べるためのレイアウト要素です。\n",
    "# column: \n",
    "複数のBokehプロットを縦に並べるためのレイアウト要素です。"
   ],
   "metadata": {
    "collapsed": false
   }
  },
  {
   "cell_type": "code",
   "execution_count": 16,
   "metadata": {
    "ExecuteTime": {
     "end_time": "2024-03-29T01:43:38.030498Z",
     "start_time": "2024-03-29T01:43:38.022334Z"
    }
   },
   "outputs": [
    {
     "data": {
      "text/html": "    <style>\n        .bk-notebook-logo {\n            display: block;\n            width: 20px;\n            height: 20px;\n            background-image: url(data:image/png;base64,iVBORw0KGgoAAAANSUhEUgAAABQAAAAUCAYAAACNiR0NAAAABHNCSVQICAgIfAhkiAAAAAlwSFlzAAALEgAACxIB0t1+/AAAABx0RVh0U29mdHdhcmUAQWRvYmUgRmlyZXdvcmtzIENTNui8sowAAAOkSURBVDiNjZRtaJVlGMd/1/08zzln5zjP1LWcU9N0NkN8m2CYjpgQYQXqSs0I84OLIC0hkEKoPtiH3gmKoiJDU7QpLgoLjLIQCpEsNJ1vqUOdO7ppbuec5+V+rj4ctwzd8IIbbi6u+8f1539dt3A78eXC7QizUF7gyV1fD1Yqg4JWz84yffhm0qkFqBogB9rM8tZdtwVsPUhWhGcFJngGeWrPzHm5oaMmkfEg1usvLFyc8jLRqDOMru7AyC8saQr7GG7f5fvDeH7Ej8CM66nIF+8yngt6HWaKh7k49Soy9nXurCi1o3qUbS3zWfrYeQDTB/Qj6kX6Ybhw4B+bOYoLKCC9H3Nu/leUTZ1JdRWkkn2ldcCamzrcf47KKXdAJllSlxAOkRgyHsGC/zRday5Qld9DyoM4/q/rUoy/CXh3jzOu3bHUVZeU+DEn8FInkPBFlu3+nW3Nw0mk6vCDiWg8CeJaxEwuHS3+z5RgY+YBR6V1Z1nxSOfoaPa4LASWxxdNp+VWTk7+4vzaou8v8PN+xo+KY2xsw6une2frhw05CTYOmQvsEhjhWjn0bmXPjpE1+kplmmkP3suftwTubK9Vq22qKmrBhpY4jvd5afdRA3wGjFAgcnTK2s4hY0/GPNIb0nErGMCRxWOOX64Z8RAC4oCXdklmEvcL8o0BfkNK4lUg9HTl+oPlQxdNo3Mg4Nv175e/1LDGzZen30MEjRUtmXSfiTVu1kK8W4txyV6BMKlbgk3lMwYCiusNy9fVfvvwMxv8Ynl6vxoByANLTWplvuj/nF9m2+PDtt1eiHPBr1oIfhCChQMBw6Aw0UulqTKZdfVvfG7VcfIqLG9bcldL/+pdWTLxLUy8Qq38heUIjh4XlzZxzQm19lLFlr8vdQ97rjZVOLf8nclzckbcD4wxXMidpX30sFd37Fv/GtwwhzhxGVAprjbg0gCAEeIgwCZyTV2Z1REEW8O4py0wsjeloKoMr6iCY6dP92H6Vw/oTyICIthibxjm/DfN9lVz8IqtqKYLUXfoKVMVQVVJOElGjrnnUt9T9wbgp8AyYKaGlqingHZU/uG2NTZSVqwHQTWkx9hxjkpWDaCg6Ckj5qebgBVbT3V3NNXMSiWSDdGV3hrtzla7J+duwPOToIg42ChPQOQjspnSlp1V+Gjdged7+8UN5CRAV7a5EdFNwCjEaBR27b3W890TE7g24NAP/mMDXRWrGoFPQI9ls/MWO2dWFAar/xcOIImbbpA3zgAAAABJRU5ErkJggg==);\n        }\n    </style>\n    <div>\n        <a href=\"https://bokeh.org\" target=\"_blank\" class=\"bk-notebook-logo\"></a>\n        <span id=\"afed7595-23f1-4127-b397-b49dc97398ae\">Loading BokehJS ...</span>\n    </div>\n"
     },
     "metadata": {},
     "output_type": "display_data"
    },
    {
     "data": {
      "application/javascript": "'use strict';\n(function(root) {\n  function now() {\n    return new Date();\n  }\n\n  const force = true;\n\n  if (typeof root._bokeh_onload_callbacks === \"undefined\" || force === true) {\n    root._bokeh_onload_callbacks = [];\n    root._bokeh_is_loading = undefined;\n  }\n\nconst JS_MIME_TYPE = 'application/javascript';\n  const HTML_MIME_TYPE = 'text/html';\n  const EXEC_MIME_TYPE = 'application/vnd.bokehjs_exec.v0+json';\n  const CLASS_NAME = 'output_bokeh rendered_html';\n\n  /**\n   * Render data to the DOM node\n   */\n  function render(props, node) {\n    const script = document.createElement(\"script\");\n    node.appendChild(script);\n  }\n\n  /**\n   * Handle when an output is cleared or removed\n   */\n  function handleClearOutput(event, handle) {\n    function drop(id) {\n      const view = Bokeh.index.get_by_id(id)\n      if (view != null) {\n        view.model.document.clear()\n        Bokeh.index.delete(view)\n      }\n    }\n\n    const cell = handle.cell;\n\n    const id = cell.output_area._bokeh_element_id;\n    const server_id = cell.output_area._bokeh_server_id;\n\n    // Clean up Bokeh references\n    if (id != null) {\n      drop(id)\n    }\n\n    if (server_id !== undefined) {\n      // Clean up Bokeh references\n      const cmd_clean = \"from bokeh.io.state import curstate; print(curstate().uuid_to_server['\" + server_id + \"'].get_sessions()[0].document.roots[0]._id)\";\n      cell.notebook.kernel.execute(cmd_clean, {\n        iopub: {\n          output: function(msg) {\n            const id = msg.content.text.trim()\n            drop(id)\n          }\n        }\n      });\n      // Destroy server and session\n      const cmd_destroy = \"import bokeh.io.notebook as ion; ion.destroy_server('\" + server_id + \"')\";\n      cell.notebook.kernel.execute(cmd_destroy);\n    }\n  }\n\n  /**\n   * Handle when a new output is added\n   */\n  function handleAddOutput(event, handle) {\n    const output_area = handle.output_area;\n    const output = handle.output;\n\n    // limit handleAddOutput to display_data with EXEC_MIME_TYPE content only\n    if ((output.output_type != \"display_data\") || (!Object.prototype.hasOwnProperty.call(output.data, EXEC_MIME_TYPE))) {\n      return\n    }\n\n    const toinsert = output_area.element.find(\".\" + CLASS_NAME.split(' ')[0]);\n\n    if (output.metadata[EXEC_MIME_TYPE][\"id\"] !== undefined) {\n      toinsert[toinsert.length - 1].firstChild.textContent = output.data[JS_MIME_TYPE];\n      // store reference to embed id on output_area\n      output_area._bokeh_element_id = output.metadata[EXEC_MIME_TYPE][\"id\"];\n    }\n    if (output.metadata[EXEC_MIME_TYPE][\"server_id\"] !== undefined) {\n      const bk_div = document.createElement(\"div\");\n      bk_div.innerHTML = output.data[HTML_MIME_TYPE];\n      const script_attrs = bk_div.children[0].attributes;\n      for (let i = 0; i < script_attrs.length; i++) {\n        toinsert[toinsert.length - 1].firstChild.setAttribute(script_attrs[i].name, script_attrs[i].value);\n        toinsert[toinsert.length - 1].firstChild.textContent = bk_div.children[0].textContent\n      }\n      // store reference to server id on output_area\n      output_area._bokeh_server_id = output.metadata[EXEC_MIME_TYPE][\"server_id\"];\n    }\n  }\n\n  function register_renderer(events, OutputArea) {\n\n    function append_mime(data, metadata, element) {\n      // create a DOM node to render to\n      const toinsert = this.create_output_subarea(\n        metadata,\n        CLASS_NAME,\n        EXEC_MIME_TYPE\n      );\n      this.keyboard_manager.register_events(toinsert);\n      // Render to node\n      const props = {data: data, metadata: metadata[EXEC_MIME_TYPE]};\n      render(props, toinsert[toinsert.length - 1]);\n      element.append(toinsert);\n      return toinsert\n    }\n\n    /* Handle when an output is cleared or removed */\n    events.on('clear_output.CodeCell', handleClearOutput);\n    events.on('delete.Cell', handleClearOutput);\n\n    /* Handle when a new output is added */\n    events.on('output_added.OutputArea', handleAddOutput);\n\n    /**\n     * Register the mime type and append_mime function with output_area\n     */\n    OutputArea.prototype.register_mime_type(EXEC_MIME_TYPE, append_mime, {\n      /* Is output safe? */\n      safe: true,\n      /* Index of renderer in `output_area.display_order` */\n      index: 0\n    });\n  }\n\n  // register the mime type if in Jupyter Notebook environment and previously unregistered\n  if (root.Jupyter !== undefined) {\n    const events = require('base/js/events');\n    const OutputArea = require('notebook/js/outputarea').OutputArea;\n\n    if (OutputArea.prototype.mime_types().indexOf(EXEC_MIME_TYPE) == -1) {\n      register_renderer(events, OutputArea);\n    }\n  }\n  if (typeof (root._bokeh_timeout) === \"undefined\" || force === true) {\n    root._bokeh_timeout = Date.now() + 5000;\n    root._bokeh_failed_load = false;\n  }\n\n  const NB_LOAD_WARNING = {'data': {'text/html':\n     \"<div style='background-color: #fdd'>\\n\"+\n     \"<p>\\n\"+\n     \"BokehJS does not appear to have successfully loaded. If loading BokehJS from CDN, this \\n\"+\n     \"may be due to a slow or bad network connection. Possible fixes:\\n\"+\n     \"</p>\\n\"+\n     \"<ul>\\n\"+\n     \"<li>re-rerun `output_notebook()` to attempt to load from CDN again, or</li>\\n\"+\n     \"<li>use INLINE resources instead, as so:</li>\\n\"+\n     \"</ul>\\n\"+\n     \"<code>\\n\"+\n     \"from bokeh.resources import INLINE\\n\"+\n     \"output_notebook(resources=INLINE)\\n\"+\n     \"</code>\\n\"+\n     \"</div>\"}};\n\n  function display_loaded(error = null) {\n    const el = document.getElementById(\"afed7595-23f1-4127-b397-b49dc97398ae\");\n    if (el != null) {\n      const html = (() => {\n        if (typeof root.Bokeh === \"undefined\") {\n          if (error == null) {\n            return \"BokehJS is loading ...\";\n          } else {\n            return \"BokehJS failed to load.\";\n          }\n        } else {\n          const prefix = `BokehJS ${root.Bokeh.version}`;\n          if (error == null) {\n            return `${prefix} successfully loaded.`;\n          } else {\n            return `${prefix} <b>encountered errors</b> while loading and may not function as expected.`;\n          }\n        }\n      })();\n      el.innerHTML = html;\n\n      if (error != null) {\n        const wrapper = document.createElement(\"div\");\n        wrapper.style.overflow = \"auto\";\n        wrapper.style.height = \"5em\";\n        wrapper.style.resize = \"vertical\";\n        const content = document.createElement(\"div\");\n        content.style.fontFamily = \"monospace\";\n        content.style.whiteSpace = \"pre-wrap\";\n        content.style.backgroundColor = \"rgb(255, 221, 221)\";\n        content.textContent = error.stack ?? error.toString();\n        wrapper.append(content);\n        el.append(wrapper);\n      }\n    } else if (Date.now() < root._bokeh_timeout) {\n      setTimeout(() => display_loaded(error), 100);\n    }\n  }\n\n  function run_callbacks() {\n    try {\n      root._bokeh_onload_callbacks.forEach(function(callback) {\n        if (callback != null)\n          callback();\n      });\n    } finally {\n      delete root._bokeh_onload_callbacks\n    }\n    console.debug(\"Bokeh: all callbacks have finished\");\n  }\n\n  function load_libs(css_urls, js_urls, callback) {\n    if (css_urls == null) css_urls = [];\n    if (js_urls == null) js_urls = [];\n\n    root._bokeh_onload_callbacks.push(callback);\n    if (root._bokeh_is_loading > 0) {\n      console.debug(\"Bokeh: BokehJS is being loaded, scheduling callback at\", now());\n      return null;\n    }\n    if (js_urls == null || js_urls.length === 0) {\n      run_callbacks();\n      return null;\n    }\n    console.debug(\"Bokeh: BokehJS not loaded, scheduling load and callback at\", now());\n    root._bokeh_is_loading = css_urls.length + js_urls.length;\n\n    function on_load() {\n      root._bokeh_is_loading--;\n      if (root._bokeh_is_loading === 0) {\n        console.debug(\"Bokeh: all BokehJS libraries/stylesheets loaded\");\n        run_callbacks()\n      }\n    }\n\n    function on_error(url) {\n      console.error(\"failed to load \" + url);\n    }\n\n    for (let i = 0; i < css_urls.length; i++) {\n      const url = css_urls[i];\n      const element = document.createElement(\"link\");\n      element.onload = on_load;\n      element.onerror = on_error.bind(null, url);\n      element.rel = \"stylesheet\";\n      element.type = \"text/css\";\n      element.href = url;\n      console.debug(\"Bokeh: injecting link tag for BokehJS stylesheet: \", url);\n      document.body.appendChild(element);\n    }\n\n    for (let i = 0; i < js_urls.length; i++) {\n      const url = js_urls[i];\n      const element = document.createElement('script');\n      element.onload = on_load;\n      element.onerror = on_error.bind(null, url);\n      element.async = false;\n      element.src = url;\n      console.debug(\"Bokeh: injecting script tag for BokehJS library: \", url);\n      document.head.appendChild(element);\n    }\n  };\n\n  function inject_raw_css(css) {\n    const element = document.createElement(\"style\");\n    element.appendChild(document.createTextNode(css));\n    document.body.appendChild(element);\n  }\n\n  const js_urls = [\"https://cdn.bokeh.org/bokeh/release/bokeh-3.4.0.min.js\", \"https://cdn.bokeh.org/bokeh/release/bokeh-gl-3.4.0.min.js\", \"https://cdn.bokeh.org/bokeh/release/bokeh-widgets-3.4.0.min.js\", \"https://cdn.bokeh.org/bokeh/release/bokeh-tables-3.4.0.min.js\", \"https://cdn.bokeh.org/bokeh/release/bokeh-mathjax-3.4.0.min.js\"];\n  const css_urls = [];\n\n  const inline_js = [    function(Bokeh) {\n      Bokeh.set_log_level(\"info\");\n    },\nfunction(Bokeh) {\n    }\n  ];\n\n  function run_inline_js() {\n    if (root.Bokeh !== undefined || force === true) {\n      try {\n            for (let i = 0; i < inline_js.length; i++) {\n      inline_js[i].call(root, root.Bokeh);\n    }\n\n      } catch (error) {display_loaded(error);throw error;\n      }if (force === true) {\n        display_loaded();\n      }} else if (Date.now() < root._bokeh_timeout) {\n      setTimeout(run_inline_js, 100);\n    } else if (!root._bokeh_failed_load) {\n      console.log(\"Bokeh: BokehJS failed to load within specified timeout.\");\n      root._bokeh_failed_load = true;\n    } else if (force !== true) {\n      const cell = $(document.getElementById(\"afed7595-23f1-4127-b397-b49dc97398ae\")).parents('.cell').data().cell;\n      cell.output_area.append_execute_result(NB_LOAD_WARNING)\n    }\n  }\n\n  if (root._bokeh_is_loading === 0) {\n    console.debug(\"Bokeh: BokehJS loaded, going straight to plotting\");\n    run_inline_js();\n  } else {\n    load_libs(css_urls, js_urls, function() {\n      console.debug(\"Bokeh: BokehJS plotting callback run at\", now());\n      run_inline_js();\n    });\n  }\n}(window));",
      "application/vnd.bokehjs_load.v0+json": "'use strict';\n(function(root) {\n  function now() {\n    return new Date();\n  }\n\n  const force = true;\n\n  if (typeof root._bokeh_onload_callbacks === \"undefined\" || force === true) {\n    root._bokeh_onload_callbacks = [];\n    root._bokeh_is_loading = undefined;\n  }\n\n\n  if (typeof (root._bokeh_timeout) === \"undefined\" || force === true) {\n    root._bokeh_timeout = Date.now() + 5000;\n    root._bokeh_failed_load = false;\n  }\n\n  const NB_LOAD_WARNING = {'data': {'text/html':\n     \"<div style='background-color: #fdd'>\\n\"+\n     \"<p>\\n\"+\n     \"BokehJS does not appear to have successfully loaded. If loading BokehJS from CDN, this \\n\"+\n     \"may be due to a slow or bad network connection. Possible fixes:\\n\"+\n     \"</p>\\n\"+\n     \"<ul>\\n\"+\n     \"<li>re-rerun `output_notebook()` to attempt to load from CDN again, or</li>\\n\"+\n     \"<li>use INLINE resources instead, as so:</li>\\n\"+\n     \"</ul>\\n\"+\n     \"<code>\\n\"+\n     \"from bokeh.resources import INLINE\\n\"+\n     \"output_notebook(resources=INLINE)\\n\"+\n     \"</code>\\n\"+\n     \"</div>\"}};\n\n  function display_loaded(error = null) {\n    const el = document.getElementById(\"afed7595-23f1-4127-b397-b49dc97398ae\");\n    if (el != null) {\n      const html = (() => {\n        if (typeof root.Bokeh === \"undefined\") {\n          if (error == null) {\n            return \"BokehJS is loading ...\";\n          } else {\n            return \"BokehJS failed to load.\";\n          }\n        } else {\n          const prefix = `BokehJS ${root.Bokeh.version}`;\n          if (error == null) {\n            return `${prefix} successfully loaded.`;\n          } else {\n            return `${prefix} <b>encountered errors</b> while loading and may not function as expected.`;\n          }\n        }\n      })();\n      el.innerHTML = html;\n\n      if (error != null) {\n        const wrapper = document.createElement(\"div\");\n        wrapper.style.overflow = \"auto\";\n        wrapper.style.height = \"5em\";\n        wrapper.style.resize = \"vertical\";\n        const content = document.createElement(\"div\");\n        content.style.fontFamily = \"monospace\";\n        content.style.whiteSpace = \"pre-wrap\";\n        content.style.backgroundColor = \"rgb(255, 221, 221)\";\n        content.textContent = error.stack ?? error.toString();\n        wrapper.append(content);\n        el.append(wrapper);\n      }\n    } else if (Date.now() < root._bokeh_timeout) {\n      setTimeout(() => display_loaded(error), 100);\n    }\n  }\n\n  function run_callbacks() {\n    try {\n      root._bokeh_onload_callbacks.forEach(function(callback) {\n        if (callback != null)\n          callback();\n      });\n    } finally {\n      delete root._bokeh_onload_callbacks\n    }\n    console.debug(\"Bokeh: all callbacks have finished\");\n  }\n\n  function load_libs(css_urls, js_urls, callback) {\n    if (css_urls == null) css_urls = [];\n    if (js_urls == null) js_urls = [];\n\n    root._bokeh_onload_callbacks.push(callback);\n    if (root._bokeh_is_loading > 0) {\n      console.debug(\"Bokeh: BokehJS is being loaded, scheduling callback at\", now());\n      return null;\n    }\n    if (js_urls == null || js_urls.length === 0) {\n      run_callbacks();\n      return null;\n    }\n    console.debug(\"Bokeh: BokehJS not loaded, scheduling load and callback at\", now());\n    root._bokeh_is_loading = css_urls.length + js_urls.length;\n\n    function on_load() {\n      root._bokeh_is_loading--;\n      if (root._bokeh_is_loading === 0) {\n        console.debug(\"Bokeh: all BokehJS libraries/stylesheets loaded\");\n        run_callbacks()\n      }\n    }\n\n    function on_error(url) {\n      console.error(\"failed to load \" + url);\n    }\n\n    for (let i = 0; i < css_urls.length; i++) {\n      const url = css_urls[i];\n      const element = document.createElement(\"link\");\n      element.onload = on_load;\n      element.onerror = on_error.bind(null, url);\n      element.rel = \"stylesheet\";\n      element.type = \"text/css\";\n      element.href = url;\n      console.debug(\"Bokeh: injecting link tag for BokehJS stylesheet: \", url);\n      document.body.appendChild(element);\n    }\n\n    for (let i = 0; i < js_urls.length; i++) {\n      const url = js_urls[i];\n      const element = document.createElement('script');\n      element.onload = on_load;\n      element.onerror = on_error.bind(null, url);\n      element.async = false;\n      element.src = url;\n      console.debug(\"Bokeh: injecting script tag for BokehJS library: \", url);\n      document.head.appendChild(element);\n    }\n  };\n\n  function inject_raw_css(css) {\n    const element = document.createElement(\"style\");\n    element.appendChild(document.createTextNode(css));\n    document.body.appendChild(element);\n  }\n\n  const js_urls = [\"https://cdn.bokeh.org/bokeh/release/bokeh-3.4.0.min.js\", \"https://cdn.bokeh.org/bokeh/release/bokeh-gl-3.4.0.min.js\", \"https://cdn.bokeh.org/bokeh/release/bokeh-widgets-3.4.0.min.js\", \"https://cdn.bokeh.org/bokeh/release/bokeh-tables-3.4.0.min.js\", \"https://cdn.bokeh.org/bokeh/release/bokeh-mathjax-3.4.0.min.js\"];\n  const css_urls = [];\n\n  const inline_js = [    function(Bokeh) {\n      Bokeh.set_log_level(\"info\");\n    },\nfunction(Bokeh) {\n    }\n  ];\n\n  function run_inline_js() {\n    if (root.Bokeh !== undefined || force === true) {\n      try {\n            for (let i = 0; i < inline_js.length; i++) {\n      inline_js[i].call(root, root.Bokeh);\n    }\n\n      } catch (error) {display_loaded(error);throw error;\n      }if (force === true) {\n        display_loaded();\n      }} else if (Date.now() < root._bokeh_timeout) {\n      setTimeout(run_inline_js, 100);\n    } else if (!root._bokeh_failed_load) {\n      console.log(\"Bokeh: BokehJS failed to load within specified timeout.\");\n      root._bokeh_failed_load = true;\n    } else if (force !== true) {\n      const cell = $(document.getElementById(\"afed7595-23f1-4127-b397-b49dc97398ae\")).parents('.cell').data().cell;\n      cell.output_area.append_execute_result(NB_LOAD_WARNING)\n    }\n  }\n\n  if (root._bokeh_is_loading === 0) {\n    console.debug(\"Bokeh: BokehJS loaded, going straight to plotting\");\n    run_inline_js();\n  } else {\n    load_libs(css_urls, js_urls, function() {\n      console.debug(\"Bokeh: BokehJS plotting callback run at\", now());\n      run_inline_js();\n    });\n  }\n}(window));"
     },
     "metadata": {},
     "output_type": "display_data"
    }
   ],
   "source": [
    "output_notebook()"
   ]
  },
  {
   "cell_type": "markdown",
   "source": [
    " output_notebook()関数は、Bokehライブラリで作成したプロットをJupyter Notebook上で表示するために必要です。この関数を呼び出すことで、プロットがノートブック上に表示されます。"
   ],
   "metadata": {
    "collapsed": false
   }
  },
  {
   "cell_type": "code",
   "execution_count": 17,
   "metadata": {
    "ExecuteTime": {
     "end_time": "2024-03-29T01:43:40.221643Z",
     "start_time": "2024-03-29T01:43:40.214963Z"
    }
   },
   "outputs": [],
   "source": [
    "regions_list = data.region.unique().tolist()"
   ]
  },
  {
   "cell_type": "markdown",
   "source": [
    "tolist()メソッドは、NumPy配列やPandas Seriesなどの配列構造をPythonのリストに変換するために使用されます。これにより、配列の要素がPythonのリストにコピーされます。"
   ],
   "metadata": {
    "collapsed": false
   }
  },
  {
   "cell_type": "code",
   "execution_count": 18,
   "metadata": {
    "ExecuteTime": {
     "end_time": "2024-03-29T01:43:42.638653Z",
     "start_time": "2024-03-29T01:43:42.633772Z"
    }
   },
   "outputs": [],
   "source": [
    "color_mapper = CategoricalColorMapper(factors=regions_list, palette= Spectral6)"
   ]
  },
  {
   "cell_type": "markdown",
   "source": [
    "CategoricalColorMapperは、カテゴリカルなデータに色を割り当てるためのBokehのモジュールです。factorsパラメータには、カテゴリカルなデータの一覧が含まれ、paletteパラメータには、各カテゴリに割り当てる色のパレットが指定されます。\n",
    "\n",
    "このコードでは、regions_listに含まれるカテゴリを各地域として指定し、Spectral6パレットを使用して色を割り当てています。これにより、地域ごとに異なる色がプロットされます。"
   ],
   "metadata": {
    "collapsed": false
   }
  },
  {
   "cell_type": "code",
   "execution_count": 19,
   "metadata": {
    "ExecuteTime": {
     "end_time": "2024-03-29T01:43:44.885322Z",
     "start_time": "2024-03-29T01:43:44.878664Z"
    }
   },
   "outputs": [],
   "source": [
    "# ColumnDataSourceを作成し、プロットに必要なデータを提供します。\n",
    "# ここでは、2002年のGDPとCO2排出量データを取得し、それぞれ'x'と'y'として設定します。\n",
    "# 'country'と'region'は各データポイントに関連付けられるメタデータとして提供されます。\n",
    "source = ColumnDataSource(data={\n",
    "    'x': data.gdp[data['year'] == 2002],\n",
    "    'y': data.co2[data['year'] == 2002],\n",
    "    'country': data.country[data['year'] == 2002],\n",
    "    'region': data.region[data['year'] == 2002]\n",
    "})\n",
    "\n",
    "# x軸とy軸の範囲を設定します。ここでは、GDPとCO2排出量の最小値と最大値を使用します。\n",
    "xmin, xmax = min(data.gdp), max(data.gdp)\n",
    "ymin, ymax = min(data.co2), max(data.co2)\n"
   ]
  },
  {
   "cell_type": "code",
   "execution_count": 20,
   "metadata": {
    "ExecuteTime": {
     "end_time": "2024-03-29T01:43:45.877444Z",
     "start_time": "2024-03-29T01:43:45.873871Z"
    }
   },
   "outputs": [],
   "source": [
    "# 'CO2 Emissions vs GDP in 2002'というタイトルを持つプロットを作成します。\n",
    "# 高さは600ピクセル、幅は800ピクセルです。\n",
    "# x軸とy軸の範囲は、xminからxmax、yminからymaxまでの範囲に設定されます。\n",
    "# y軸のスケールは対数スケールとなります（'log'）。\n",
    "plot = figure(title='CO2 Emissions vs GDP in 2002',\n",
    "              height=600, width=800,\n",
    "              x_range=(xmin, xmax),\n",
    "              y_range=(ymin, ymax),\n",
    "              y_axis_type='log')\n"
   ]
  },
  {
   "cell_type": "code",
   "execution_count": 21,
   "metadata": {
    "ExecuteTime": {
     "end_time": "2024-03-29T01:43:47.187442Z",
     "start_time": "2024-03-29T01:43:47.157663Z"
    }
   },
   "outputs": [
    {
     "name": "stderr",
     "output_type": "stream",
     "text": [
      "BokehDeprecationWarning: 'circle() method with size value' was deprecated in Bokeh 3.4.0 and will be removed, use 'scatter(size=...) instead' instead.\n"
     ]
    },
    {
     "data": {
      "text/html": "\n  <div id=\"a58627bb-8cf2-40cd-a697-011731b5d1d7\" data-root-id=\"p1005\" style=\"display: contents;\"></div>\n"
     },
     "metadata": {},
     "output_type": "display_data"
    },
    {
     "data": {
      "application/javascript": "(function(root) {\n  function embed_document(root) {\n  const docs_json = {\"640734a8-00f0-4f81-88e2-cc6fe7cc60ae\":{\"version\":\"3.4.0\",\"title\":\"Bokeh Application\",\"roots\":[{\"type\":\"object\",\"name\":\"Figure\",\"id\":\"p1005\",\"attributes\":{\"width\":800,\"x_range\":{\"type\":\"object\",\"name\":\"Range1d\",\"id\":\"p1015\",\"attributes\":{\"start\":142.0,\"end\":182668.0}},\"y_range\":{\"type\":\"object\",\"name\":\"Range1d\",\"id\":\"p1016\",\"attributes\":{\"end\":101.0}},\"x_scale\":{\"type\":\"object\",\"name\":\"LinearScale\",\"id\":\"p1017\"},\"y_scale\":{\"type\":\"object\",\"name\":\"LogScale\",\"id\":\"p1018\"},\"title\":{\"type\":\"object\",\"name\":\"Title\",\"id\":\"p1008\",\"attributes\":{\"text\":\"CO2 Emissions vs GDP in 2002\",\"text_color\":\"#E0E0E0\",\"text_font\":\"Helvetica\",\"text_font_size\":\"1.15em\"}},\"outline_line_color\":\"#E0E0E0\",\"outline_line_alpha\":0.25,\"renderers\":[{\"type\":\"object\",\"name\":\"GlyphRenderer\",\"id\":\"p1046\",\"attributes\":{\"data_source\":{\"type\":\"object\",\"name\":\"ColumnDataSource\",\"id\":\"p1002\",\"attributes\":{\"selected\":{\"type\":\"object\",\"name\":\"Selection\",\"id\":\"p1003\",\"attributes\":{\"indices\":[],\"line_indices\":[]}},\"selection_policy\":{\"type\":\"object\",\"name\":\"UnionRenderers\",\"id\":\"p1004\"},\"data\":{\"type\":\"map\",\"entries\":[[\"x\",{\"type\":\"ndarray\",\"array\":{\"type\":\"bytes\",\"data\":\"AAAAAAB0kEAAAAAAABm3QAAAAAAAxcRAAAAAAABerUAAAAAAAD3SQAAAAAAAs8JAAAAAAACMrEAAAAAA4MLhQAAAAABAOeNAAAAAAADatEAAAAAAAKXZQAAAAADAUOVAAAAAAADkmkAAAAAAgOHLQAAAAAAA0L9AAAAAAICS4kAAAAAAAHy9QAAAAAAAyJhAAAAAAAC8r0AAAAAAAO+wQAAAAAAABLpAAAAAAICoxEAAAAAAALvGQAAAAAAglvJAAAAAAAD2w0AAAAAAACyRQAAAAAAA2IZAAAAAAACwl0AAAAAAAGCjQAAAAADAr+JAAAAAAACMrkAAAAAAAICRQAAAAACAcc1AAAAAAAC9sEAAAAAAAJTAQAAAAAAApJdAAAAAAACwf0AAAAAAAKqyQAAAAAAApsJAAAAAAACwpkAAAAAAQJTQQAAAAACA4cZAAAAAAECj3kAAAAAAYHvkQAAAAAAAhKBAAAAAAABJvkAAAAAAAE2/QAAAAAAARblAAAAAAIAU1UAAAAAAAEyXQAAAAACAk9BAAAAAAAA4hEAAAAAAAFm6QAAAAABAf+FAAAAAAKBA4UAAAAAAgLnQQAAAAAAAiJdAAAAAAACgrEAAAAAAQEriQAAAAAAAXKJAAAAAAEAA2kAAAAAAAAPDQAAAAAAA9bhAAAAAAADAkkAAAAAAAByUQAAAAAAATbRAAAAAAADkmUAAAAAAANarQAAAAAAA19JAAAAAAIC54EAAAAAAAPikQAAAAAAAKrhAAAAAAADUyEAAAAAAgKPEQAAAAADgsOVAAAAAAIAS2EAAAAAAIO/hQAAAAACATsBAAAAAAAB+30AAAAAAAOC/QAAAAAAAqsdAAAAAAACQoEAAAAAAAIybQAAAAABgu/FAAAAAAAD3yEAAAAAAgNPHQAAAAAAAQJpAAAAAAABwhkAAAAAAgOPUQAAAAAAA3stAAAAAAEB69EAAAAAAAD3AQAAAAAAArJNAAAAAAAAggkAAAAAAACfPQAAAAAAAdL1AAAAAAADUlUAAAAAAwJnYQAAAAAAArKRAAAAAAIDfxkAAAAAAgNHLQAAAAAAAcKlAAAAAAADopEAAAAAAAD2zQAAAAACAkcNAAAAAAADPskAAAAAAAPiEQAAAAAAAKKFAAAAAAACHuEAAAAAAANyYQAAAAAAAb+RAAAAAAEDx3EAAAAAAAPiqQAAAAAAA8IhAAAAAAADUpkAAAAAAAF/tQAAAAACAyuVAAAAAAACaqkAAAAAAADbDQAAAAAAAeJtAAAAAAAButkAAAAAAACW6QAAAAAAA9LBAAAAAAAA6zUAAAAAAgOfZQAAAAADQmPxAAAAAAIBSxkAAAAAAgJLMQAAAAAAAgItAAAAAAAClskAAAAAAAB6hQAAAAABgB+FAAAAAAADsnUAAAAAAgArBQAAAAABAR9FAAAAAAAD8kEAAAAAAYB3pQAAAAAAAJNBAAAAAAABp10AAAAAAAPCWQAAAAAAA+IJAAAAAAIDyw0AAAAAAgB7fQAAAAAAA97NAAAAAAADmokAAAAAAAIPEQAAAAAAAyLRAAAAAAKCG4kAAAAAAIAPoQAAAAAAAYrVAAAAAAADYlUAAAAAAAByZQAAAAACAW8JAAAAAAABMlUAAAAAAANySQAAAAAAADrNAAAAAAEBP00AAAAAAAEi+QAAAAACAvshAAAAAAABltUAAAAAAAGyRQAAAAAAABbZAAAAAACC4+UAAAAAAQJTgQAAAAADgo+ZAAAAAAIBExkAAAAAAAGikQAAAAAAARqNAAAAAAICkyUAAAAAAANCmQAAAAAAAAKJAAAAAAAAAokA=\"},\"shape\":[172],\"dtype\":\"float64\",\"order\":\"little\"}],[\"y\",{\"type\":\"ndarray\",\"array\":{\"type\":\"bytes\",\"data\":\"5WGh1jTvqD8zMzMzMzPzP3sUrkfhegZA30+Nl24S5z8pXI/C9SgRQFK4HoXrUQpAAAAAAAAA8D8AAAAAAIAxQAAAAAAAgCBApHA9CtejDEBmZmZmZmYUQGZmZmZmZjVABFYOLbKdzz8fhetRuB4SQFyPwvUoXBVAzczMzMzMJEBmZmZmZmb6Pz0K16NwPdI/PzVeukkM5j8zMzMzMzPzP1K4HoXrUQ5A7FG4HoXrAUBxPQrXo3D9PzMzMzMzMylArkfhehSuFkCYTBWMSuq0P3ZxGw3gLaA/ZmZmZmZmxj+JQWDl0CLLP5qZmZmZmTBA2/l+arx04z8Spb3BFyaTPz0K16NwPQxArkfhehSuB0BxPQrXo3D1PwrXo3A9Csc/zojS3uALkz9vEoPAyqHFP/YoXI/C9fg/4XoUrkfh2j+PwvUoXI8TQKRwPQrXowJAw/UoXI/CHEDhehSuR2EjQPT91HjpJuE/j8L1KFyP/j8AAAAAAAD8P1K4HoXrUfA/4XoUrkfhHUDHSzeJQWDFP5qZmZmZmSVADXGsi9tosD9xPQrXo3DxP5qZmZmZmSdA7FG4HoXrGEA9CtejcD0MQH0/NV66Scw/2/l+arx05z9mZmZmZmYkQKwcWmQ739c/MzMzMzOzIEAUrkfhehQAQEoMAiuHFu0/nu+nxks3yT8QWDm0yHa+P83MzMzMzABA5dAi2/l+yj/8qfHSTWLsPwrXo3A9ChZAcT0K16NwHkCLbOf7qfHuP4/C9Shcj/Y/pHA9CtejF0AAAAAAAAAMQM3MzMzMzCVArkfhehQuI0BSuB6F61EfQGZmZmZmZg5AFK5H4XoUI0CF61G4HoUJQDMzMzMzsyFAuB6F61G4zj/FILByaJHdPzMzMzMzMztArkfhehSuB0ApXI/C9SgSQAAAAAAAAPA/JzEIrBxaxD/NzMzMzEwhQI/C9Shcjw5AMzMzMzMzNUBcj8L1KFwVQFkXt9EA3rI/coqO5PIfsj8fhetRuB4WQClcj8L1KABAwhcmUwWjsj/sUbgehesWQBSuR+F6FN4/MzMzMzMzA0DD9Shcj8IPQHE9CtejcPU/ukkMAiuH7j8fhetRuB4LQBSuR+F6FApAzczMzMzM9D9zaJHtfD+1P/YoXI/C9cg/TmIQWDm07D8xCKwcWmS7P5qZmZmZmSZAw/UoXI/CIEDLoUW28/3oP0+vlGWIY60/sp3vp8ZL5z+4HoXrUbggQM3MzMzMzCVAc2iR7Xw/6T/D9Shcj8L9PwrXo3A9CuM/Di2yne+n5j9SuB6F61HwP6rx0k1iEOw/pHA9CtejHkCamZmZmZkZQDMzMzMzs09AzczMzMzMEUBmZmZmZmYlQL3jFB3J5a8/ZDvfT42X6j/sUbgehevZP83MzMzMzC1ALbKd76fG2z9cj8L1KFwTQJqZmZmZmRlAsHJoke18vz/NzMzMzMwmQBSuR+F6FB1ACtejcD0KH0BeukkMAivXP4/k8h/Sb68/UrgehetRHkD2KFyPwvUdQI/C9Shcj+I/6SYxCKwc0j/sUbgehesJQKRwPQrXo/A/w/UoXI/CGUB7FK5H4XoWQFK4HoXrUQJA46WbxCCw0j817zhFR3K5PwAAAAAAAApAZmZmZmZmxj8UrkfhehTOP6RwPQrXo/A/ZmZmZmZmNkDhehSuR+EAQEjhehSuRwlA16NwPQpXIUCCc0aU9gavP4/C9ShcjxpAMzMzMzMzOEBSuB6F69EhQJqZmZmZmTNAPQrXo3A99j8fhetRuB4UQNejcD0K19s/cT0K16NwHkDZzvdT46XrP2IQWDm0yMY/ObTIdr6f7j8=\"},\"shape\":[172],\"dtype\":\"float64\",\"order\":\"little\"}],[\"country\",{\"type\":\"ndarray\",\"array\":[\"Afghanistan\",\"Albania\",\"Algeria\",\"Angola\",\"Antigua and Barbuda\",\"Argentina\",\"Armenia\",\"Australia\",\"Austria\",\"Azerbaijan\",\"Bahamas\",\"Bahrain\",\"Bangladesh\",\"Barbados\",\"Belarus\",\"Belgium\",\"Belize\",\"Benin\",\"Bhutan\",\"Bolivia\",\"Bosnia and Herzegovina\",\"Botswana\",\"Brazil\",\"Brunei\",\"Bulgaria\",\"Burkina Faso\",\"Burundi\",\"Cambodia\",\"Cameroon\",\"Canada\",\"Cape Verde\",\"Chad\",\"Chile\",\"China\",\"Colombia\",\"Comoros\",\"Congo, Dem. Rep.\",\"Congo, Rep.\",\"Costa Rica\",\"Cote d'Ivoire\",\"Croatia\",\"Cuba\",\"Cyprus\",\"Denmark\",\"Djibouti\",\"Ecuador\",\"Egypt\",\"El Salvador\",\"Equatorial Guinea\",\"Eritrea\",\"Estonia\",\"Ethiopia\",\"Fiji\",\"Finland\",\"France\",\"Gabon\",\"Gambia\",\"Georgia\",\"Germany\",\"Ghana\",\"Greece\",\"Grenada\",\"Guatemala\",\"Guinea\",\"Guinea-Bissau\",\"Guyana\",\"Haiti\",\"Honduras\",\"Hungary\",\"Iceland\",\"India\",\"Indonesia\",\"Iran\",\"Iraq\",\"Ireland\",\"Israel\",\"Italy\",\"Jamaica\",\"Japan\",\"Jordan\",\"Kazakhstan\",\"Kenya\",\"Kiribati\",\"Kuwait\",\"Latvia\",\"Lebanon\",\"Lesotho\",\"Liberia\",\"Libya\",\"Lithuania\",\"Luxembourg\",\"Macedonia, FYR\",\"Madagascar\",\"Malawi\",\"Malaysia\",\"Maldives\",\"Mali\",\"Malta\",\"Mauritania\",\"Mauritius\",\"Mexico\",\"Micronesia, Fed. Sts.\",\"Moldova\",\"Mongolia\",\"Montenegro\",\"Morocco\",\"Mozambique\",\"Myanmar\",\"Namibia\",\"Nepal\",\"Netherlands\",\"New Zealand\",\"Nicaragua\",\"Niger\",\"Nigeria\",\"Norway\",\"Oman\",\"Pakistan\",\"Panama\",\"Papua New Guinea\",\"Paraguay\",\"Peru\",\"Philippines\",\"Poland\",\"Portugal\",\"Qatar\",\"Romania\",\"Russia\",\"Rwanda\",\"Samoa\",\"Sao Tome and Principe\",\"Saudi Arabia\",\"Senegal\",\"Serbia\",\"Seychelles\",\"Sierra Leone\",\"Singapore\",\"Slovak Republic\",\"Slovenia\",\"Solomon Islands\",\"Somalia\",\"South Africa\",\"Spain\",\"Sri Lanka\",\"Sudan\",\"Suriname\",\"Swaziland\",\"Sweden\",\"Switzerland\",\"Syria\",\"Tajikistan\",\"Tanzania\",\"Thailand\",\"Timor-Leste\",\"Togo\",\"Tonga\",\"Trinidad and Tobago\",\"Tunisia\",\"Turkey\",\"Turkmenistan\",\"Uganda\",\"Ukraine\",\"United Arab Emirates\",\"United Kingdom\",\"United States\",\"Uruguay\",\"Uzbekistan\",\"Vanuatu\",\"Venezuela\",\"Vietnam\",\"Zambia\",\"Zimbabwe\"],\"shape\":[172],\"dtype\":\"object\",\"order\":\"little\"}],[\"region\",{\"type\":\"ndarray\",\"array\":[\"South Asia\",\"Europe & Central Asia\",\"Middle East & North Africa\",\"Sub-Saharan Africa\",\"America\",\"America\",\"Europe & Central Asia\",\"East Asia & Pacific\",\"Europe & Central Asia\",\"Europe & Central Asia\",\"America\",\"Middle East & North Africa\",\"South Asia\",\"America\",\"Europe & Central Asia\",\"Europe & Central Asia\",\"America\",\"Sub-Saharan Africa\",\"South Asia\",\"America\",\"Europe & Central Asia\",\"Sub-Saharan Africa\",\"America\",\"East Asia & Pacific\",\"Europe & Central Asia\",\"Sub-Saharan Africa\",\"Sub-Saharan Africa\",\"East Asia & Pacific\",\"Sub-Saharan Africa\",\"America\",\"Sub-Saharan Africa\",\"Sub-Saharan Africa\",\"America\",\"East Asia & Pacific\",\"America\",\"Sub-Saharan Africa\",\"Sub-Saharan Africa\",\"Sub-Saharan Africa\",\"America\",\"Sub-Saharan Africa\",\"Europe & Central Asia\",\"America\",\"Europe & Central Asia\",\"Europe & Central Asia\",\"Middle East & North Africa\",\"America\",\"Middle East & North Africa\",\"America\",\"Sub-Saharan Africa\",\"Sub-Saharan Africa\",\"Europe & Central Asia\",\"Sub-Saharan Africa\",\"East Asia & Pacific\",\"Europe & Central Asia\",\"Europe & Central Asia\",\"Sub-Saharan Africa\",\"Sub-Saharan Africa\",\"Europe & Central Asia\",\"Europe & Central Asia\",\"Sub-Saharan Africa\",\"Europe & Central Asia\",\"America\",\"America\",\"Sub-Saharan Africa\",\"Sub-Saharan Africa\",\"America\",\"America\",\"America\",\"Europe & Central Asia\",\"Europe & Central Asia\",\"South Asia\",\"East Asia & Pacific\",\"Middle East & North Africa\",\"Middle East & North Africa\",\"Europe & Central Asia\",\"Middle East & North Africa\",\"Europe & Central Asia\",\"America\",\"East Asia & Pacific\",\"Middle East & North Africa\",\"Europe & Central Asia\",\"Sub-Saharan Africa\",\"East Asia & Pacific\",\"Middle East & North Africa\",\"Europe & Central Asia\",\"Middle East & North Africa\",\"Sub-Saharan Africa\",\"Sub-Saharan Africa\",\"Middle East & North Africa\",\"Europe & Central Asia\",\"Europe & Central Asia\",\"Europe & Central Asia\",\"Sub-Saharan Africa\",\"Sub-Saharan Africa\",\"East Asia & Pacific\",\"South Asia\",\"Sub-Saharan Africa\",\"Europe & Central Asia\",\"Sub-Saharan Africa\",\"Sub-Saharan Africa\",\"America\",\"East Asia & Pacific\",\"Europe & Central Asia\",\"East Asia & Pacific\",\"Europe & Central Asia\",\"Middle East & North Africa\",\"Sub-Saharan Africa\",\"East Asia & Pacific\",\"Sub-Saharan Africa\",\"South Asia\",\"Europe & Central Asia\",\"East Asia & Pacific\",\"America\",\"Sub-Saharan Africa\",\"Sub-Saharan Africa\",\"Europe & Central Asia\",\"Middle East & North Africa\",\"South Asia\",\"America\",\"East Asia & Pacific\",\"America\",\"America\",\"East Asia & Pacific\",\"Europe & Central Asia\",\"Europe & Central Asia\",\"Middle East & North Africa\",\"Europe & Central Asia\",\"Europe & Central Asia\",\"Sub-Saharan Africa\",\"East Asia & Pacific\",\"Sub-Saharan Africa\",\"Middle East & North Africa\",\"Sub-Saharan Africa\",\"Europe & Central Asia\",\"Sub-Saharan Africa\",\"Sub-Saharan Africa\",\"East Asia & Pacific\",\"Europe & Central Asia\",\"Europe & Central Asia\",\"East Asia & Pacific\",\"Sub-Saharan Africa\",\"Sub-Saharan Africa\",\"Europe & Central Asia\",\"South Asia\",\"Sub-Saharan Africa\",\"America\",\"Sub-Saharan Africa\",\"Europe & Central Asia\",\"Europe & Central Asia\",\"Middle East & North Africa\",\"Europe & Central Asia\",\"Sub-Saharan Africa\",\"East Asia & Pacific\",\"East Asia & Pacific\",\"Sub-Saharan Africa\",\"East Asia & Pacific\",\"America\",\"Middle East & North Africa\",\"Europe & Central Asia\",\"Europe & Central Asia\",\"Sub-Saharan Africa\",\"Europe & Central Asia\",\"Middle East & North Africa\",\"Europe & Central Asia\",\"America\",\"America\",\"Europe & Central Asia\",\"East Asia & Pacific\",\"America\",\"East Asia & Pacific\",\"Sub-Saharan Africa\",\"Sub-Saharan Africa\"],\"shape\":[172],\"dtype\":\"object\",\"order\":\"little\"}]]}}},\"view\":{\"type\":\"object\",\"name\":\"CDSView\",\"id\":\"p1047\",\"attributes\":{\"filter\":{\"type\":\"object\",\"name\":\"AllIndices\",\"id\":\"p1048\"}}},\"glyph\":{\"type\":\"object\",\"name\":\"Scatter\",\"id\":\"p1043\",\"attributes\":{\"x\":{\"type\":\"field\",\"field\":\"x\"},\"y\":{\"type\":\"field\",\"field\":\"y\"},\"size\":{\"type\":\"value\",\"value\":7},\"line_color\":{\"type\":\"field\",\"field\":\"region\",\"transform\":{\"type\":\"object\",\"name\":\"CategoricalColorMapper\",\"id\":\"p1001\",\"attributes\":{\"palette\":[\"#3288bd\",\"#99d594\",\"#e6f598\",\"#fee08b\",\"#fc8d59\",\"#d53e4f\"],\"factors\":[\"South Asia\",\"Europe & Central Asia\",\"Middle East & North Africa\",\"Sub-Saharan Africa\",\"America\",\"East Asia & Pacific\"]}}},\"fill_color\":{\"type\":\"field\",\"field\":\"region\",\"transform\":{\"id\":\"p1001\"}},\"fill_alpha\":{\"type\":\"value\",\"value\":0.8},\"hatch_color\":{\"type\":\"field\",\"field\":\"region\",\"transform\":{\"id\":\"p1001\"}}}},\"nonselection_glyph\":{\"type\":\"object\",\"name\":\"Scatter\",\"id\":\"p1044\",\"attributes\":{\"x\":{\"type\":\"field\",\"field\":\"x\"},\"y\":{\"type\":\"field\",\"field\":\"y\"},\"size\":{\"type\":\"value\",\"value\":7},\"line_color\":{\"type\":\"field\",\"field\":\"region\",\"transform\":{\"id\":\"p1001\"}},\"line_alpha\":{\"type\":\"value\",\"value\":0.1},\"fill_color\":{\"type\":\"field\",\"field\":\"region\",\"transform\":{\"id\":\"p1001\"}},\"fill_alpha\":{\"type\":\"value\",\"value\":0.1},\"hatch_color\":{\"type\":\"field\",\"field\":\"region\",\"transform\":{\"id\":\"p1001\"}},\"hatch_alpha\":{\"type\":\"value\",\"value\":0.1}}},\"muted_glyph\":{\"type\":\"object\",\"name\":\"Scatter\",\"id\":\"p1045\",\"attributes\":{\"x\":{\"type\":\"field\",\"field\":\"x\"},\"y\":{\"type\":\"field\",\"field\":\"y\"},\"size\":{\"type\":\"value\",\"value\":7},\"line_color\":{\"type\":\"field\",\"field\":\"region\",\"transform\":{\"id\":\"p1001\"}},\"line_alpha\":{\"type\":\"value\",\"value\":0.2},\"fill_color\":{\"type\":\"field\",\"field\":\"region\",\"transform\":{\"id\":\"p1001\"}},\"fill_alpha\":{\"type\":\"value\",\"value\":0.2},\"hatch_color\":{\"type\":\"field\",\"field\":\"region\",\"transform\":{\"id\":\"p1001\"}},\"hatch_alpha\":{\"type\":\"value\",\"value\":0.2}}}}}],\"toolbar\":{\"type\":\"object\",\"name\":\"Toolbar\",\"id\":\"p1014\",\"attributes\":{\"tools\":[{\"type\":\"object\",\"name\":\"PanTool\",\"id\":\"p1029\"},{\"type\":\"object\",\"name\":\"WheelZoomTool\",\"id\":\"p1030\",\"attributes\":{\"renderers\":\"auto\"}},{\"type\":\"object\",\"name\":\"BoxZoomTool\",\"id\":\"p1031\",\"attributes\":{\"overlay\":{\"type\":\"object\",\"name\":\"BoxAnnotation\",\"id\":\"p1032\",\"attributes\":{\"syncable\":false,\"level\":\"overlay\",\"visible\":false,\"left\":{\"type\":\"number\",\"value\":\"nan\"},\"right\":{\"type\":\"number\",\"value\":\"nan\"},\"top\":{\"type\":\"number\",\"value\":\"nan\"},\"bottom\":{\"type\":\"number\",\"value\":\"nan\"},\"left_units\":\"canvas\",\"right_units\":\"canvas\",\"top_units\":\"canvas\",\"bottom_units\":\"canvas\",\"line_color\":\"black\",\"line_alpha\":1.0,\"line_width\":2,\"line_dash\":[4,4],\"fill_color\":\"lightgrey\",\"fill_alpha\":0.5}}}},{\"type\":\"object\",\"name\":\"SaveTool\",\"id\":\"p1037\"},{\"type\":\"object\",\"name\":\"ResetTool\",\"id\":\"p1038\"},{\"type\":\"object\",\"name\":\"HelpTool\",\"id\":\"p1039\"}]}},\"left\":[{\"type\":\"object\",\"name\":\"LogAxis\",\"id\":\"p1024\",\"attributes\":{\"ticker\":{\"type\":\"object\",\"name\":\"LogTicker\",\"id\":\"p1025\",\"attributes\":{\"num_minor_ticks\":10,\"mantissas\":[1,5]}},\"formatter\":{\"type\":\"object\",\"name\":\"LogTickFormatter\",\"id\":\"p1026\"},\"axis_label\":\"CO2 Emissions (tons per person)\",\"axis_label_standoff\":10,\"axis_label_text_color\":\"#E0E0E0\",\"axis_label_text_font\":\"Helvetica\",\"axis_label_text_font_size\":\"1.25em\",\"axis_label_text_font_style\":\"normal\",\"major_label_policy\":{\"type\":\"object\",\"name\":\"AllLabels\",\"id\":\"p1027\"},\"major_label_text_color\":\"#E0E0E0\",\"major_label_text_font\":\"Helvetica\",\"major_label_text_font_size\":\"1.025em\",\"axis_line_color\":\"#E0E0E0\",\"axis_line_alpha\":0,\"major_tick_line_color\":\"#E0E0E0\",\"major_tick_line_alpha\":0,\"minor_tick_line_color\":\"#E0E0E0\",\"minor_tick_line_alpha\":0}}],\"below\":[{\"type\":\"object\",\"name\":\"LinearAxis\",\"id\":\"p1019\",\"attributes\":{\"ticker\":{\"type\":\"object\",\"name\":\"BasicTicker\",\"id\":\"p1020\",\"attributes\":{\"mantissas\":[1,2,5]}},\"formatter\":{\"type\":\"object\",\"name\":\"BasicTickFormatter\",\"id\":\"p1021\"},\"axis_label\":\"Income Per Person\",\"axis_label_standoff\":10,\"axis_label_text_color\":\"#E0E0E0\",\"axis_label_text_font\":\"Helvetica\",\"axis_label_text_font_size\":\"1.25em\",\"axis_label_text_font_style\":\"normal\",\"major_label_policy\":{\"type\":\"object\",\"name\":\"AllLabels\",\"id\":\"p1022\"},\"major_label_text_color\":\"#E0E0E0\",\"major_label_text_font\":\"Helvetica\",\"major_label_text_font_size\":\"1.025em\",\"axis_line_color\":\"#E0E0E0\",\"axis_line_alpha\":0,\"major_tick_line_color\":\"#E0E0E0\",\"major_tick_line_alpha\":0,\"minor_tick_line_color\":\"#E0E0E0\",\"minor_tick_line_alpha\":0}}],\"center\":[{\"type\":\"object\",\"name\":\"Grid\",\"id\":\"p1023\",\"attributes\":{\"axis\":{\"id\":\"p1019\"},\"grid_line_color\":\"#E0E0E0\",\"grid_line_alpha\":0.25}},{\"type\":\"object\",\"name\":\"Grid\",\"id\":\"p1028\",\"attributes\":{\"dimension\":1,\"axis\":{\"id\":\"p1024\"},\"grid_line_color\":\"#E0E0E0\",\"grid_line_alpha\":0.25}},{\"type\":\"object\",\"name\":\"Legend\",\"id\":\"p1049\",\"attributes\":{\"border_line_alpha\":0,\"background_fill_color\":\"#20262B\",\"background_fill_alpha\":0.25,\"label_text_color\":\"#E0E0E0\",\"label_text_font\":\"Helvetica\",\"label_text_font_size\":\"1.025em\",\"label_standoff\":8,\"glyph_width\":15,\"spacing\":8,\"items\":[{\"type\":\"object\",\"name\":\"LegendItem\",\"id\":\"p1050\",\"attributes\":{\"label\":{\"type\":\"field\",\"field\":\"region\"},\"renderers\":[{\"id\":\"p1046\"}]}}]}}],\"background_fill_color\":\"#20262B\",\"border_fill_color\":\"#15191C\"}}]}};\n  const render_items = [{\"docid\":\"640734a8-00f0-4f81-88e2-cc6fe7cc60ae\",\"roots\":{\"p1005\":\"a58627bb-8cf2-40cd-a697-011731b5d1d7\"},\"root_ids\":[\"p1005\"]}];\n  void root.Bokeh.embed.embed_items_notebook(docs_json, render_items);\n  }\n  if (root.Bokeh !== undefined) {\n    embed_document(root);\n  } else {\n    let attempts = 0;\n    const timer = setInterval(function(root) {\n      if (root.Bokeh !== undefined) {\n        clearInterval(timer);\n        embed_document(root);\n      } else {\n        attempts++;\n        if (attempts > 100) {\n          clearInterval(timer);\n          console.log(\"Bokeh: ERROR: Unable to run BokehJS code because BokehJS library is missing\");\n        }\n      }\n    }, 10, root)\n  }\n})(window);",
      "application/vnd.bokehjs_exec.v0+json": ""
     },
     "metadata": {
      "application/vnd.bokehjs_exec.v0+json": {
       "id": "p1005"
      }
     },
     "output_type": "display_data"
    }
   ],
   "source": [
    "from bokeh.io import show\n",
    "\n",
    "# plot.circle()メソッドでlegend_fieldを指定していますが、それに加えて\n",
    "# 凡例の位置を設定することと、明示的に凡例を追加します。\n",
    "plot.circle(x='x', y='y', fill_alpha=0.8, source=source, size=7,\n",
    "            color=dict(field='region', transform=color_mapper), legend_field='region')\n",
    "plot.yaxis.axis_label = 'CO2 Emissions (tons per person)'\n",
    "plot.xaxis.axis_label = 'Income Per Person'\n",
    "\n",
    "# 凡例の位置を設定します（例えば、右上に設定します）。\n",
    "plot.legend.location = 'top_right'\n",
    "\n",
    "# ツールバーの位置を設定します（右側に設定します）。\n",
    "plot.toolbar_location = 'right'\n",
    "\n",
    "# グラフを表示します。\n",
    "show(plot)\n"
   ]
  },
  {
   "cell_type": "markdown",
   "metadata": {},
   "source": [
    "Adding a Slider to a Static Visualization"
   ]
  },
  {
   "cell_type": "code",
   "execution_count": 22,
   "metadata": {
    "ExecuteTime": {
     "end_time": "2024-03-29T01:43:53.603902Z",
     "start_time": "2024-03-29T01:43:53.595977Z"
    }
   },
   "outputs": [],
   "source": [
    "slider = Slider(start=min(data.year),end=max(data.year),step =1, value=min(data.year),title= 'Year')\n",
    "\n",
    "def update_plot(atrr,old, new):\n",
    "    yr = slider.value\n",
    "    new_data={\n",
    "        'x':data.gdp[data['year']==yr],\n",
    "        'y':data.co2[data['year']==yr],\n",
    "        'country':data.country[data['year']==yr],\n",
    "        'region':data.region[data['year']==yr]\n",
    "    }\n",
    "    source.data = new_data\n",
    "    plot.title.text = 'CO2 Emissions vs GDP in %d' %yr\n",
    "\n",
    "slider.on_change('value',update_plot)\n",
    "layout = row(column(slider),plot)\n",
    "curdoc().add_root(layout)"
   ]
  },
  {
   "cell_type": "markdown",
   "metadata": {},
   "source": [
    "Add a Hover Tool to my layout"
   ]
  },
  {
   "cell_type": "code",
   "execution_count": 23,
   "metadata": {
    "ExecuteTime": {
     "end_time": "2024-03-29T01:44:02.353105Z",
     "start_time": "2024-03-29T01:44:02.349491Z"
    }
   },
   "outputs": [],
   "source": [
    "# ホバーツールを作成し、ツールチップに表示する情報を設定します。\n",
    "# '@country'、'@x'、'@y'は、それぞれデータソース内のcountry、x、y列の値を表します。\n",
    "hover = HoverTool(tooltips=[('Country', '@country'), ('GDP', '@x'), (\"CO2 Emission\", '@y')])\n",
    "\n",
    "# プロットにホバーツールを追加します。\n",
    "plot.add_tools(hover)\n"
   ]
  },
  {
   "cell_type": "code",
   "outputs": [
    {
     "ename": "TypeError",
     "evalue": "argument of type 'HoverTool' is not iterable",
     "output_type": "error",
     "traceback": [
      "\u001B[0;31m---------------------------------------------------------------------------\u001B[0m",
      "\u001B[0;31mTypeError\u001B[0m                                 Traceback (most recent call last)",
      "Cell \u001B[0;32mIn[25], line 1\u001B[0m\n\u001B[0;32m----> 1\u001B[0m \u001B[43mshow\u001B[49m\u001B[43m(\u001B[49m\u001B[43mplot\u001B[49m\u001B[43m,\u001B[49m\u001B[43mhover\u001B[49m\u001B[43m,\u001B[49m\u001B[43mslider\u001B[49m\u001B[43m)\u001B[49m\n",
      "File \u001B[0;32m~/PycharmProjects/portfolios/.venv/lib/python3.12/site-packages/bokeh/io/showing.py:149\u001B[0m, in \u001B[0;36mshow\u001B[0;34m(obj, browser, new, notebook_handle, notebook_url, **kwargs)\u001B[0m\n\u001B[1;32m    146\u001B[0m state \u001B[38;5;241m=\u001B[39m curstate()\n\u001B[1;32m    148\u001B[0m \u001B[38;5;28;01mif\u001B[39;00m \u001B[38;5;28misinstance\u001B[39m(obj, UIElement):\n\u001B[0;32m--> 149\u001B[0m     \u001B[38;5;28;01mreturn\u001B[39;00m \u001B[43m_show_with_state\u001B[49m\u001B[43m(\u001B[49m\u001B[43mobj\u001B[49m\u001B[43m,\u001B[49m\u001B[43m \u001B[49m\u001B[43mstate\u001B[49m\u001B[43m,\u001B[49m\u001B[43m \u001B[49m\u001B[43mbrowser\u001B[49m\u001B[43m,\u001B[49m\u001B[43m \u001B[49m\u001B[43mnew\u001B[49m\u001B[43m,\u001B[49m\u001B[43m \u001B[49m\u001B[43mnotebook_handle\u001B[49m\u001B[38;5;241;43m=\u001B[39;49m\u001B[43mnotebook_handle\u001B[49m\u001B[43m)\u001B[49m\n\u001B[1;32m    151\u001B[0m \u001B[38;5;28;01mdef\u001B[39;00m \u001B[38;5;21mis_application\u001B[39m(obj: Any) \u001B[38;5;241m-\u001B[39m\u001B[38;5;241m>\u001B[39m TypeGuard[Application]:\n\u001B[1;32m    152\u001B[0m     \u001B[38;5;28;01mreturn\u001B[39;00m \u001B[38;5;28mgetattr\u001B[39m(obj, \u001B[38;5;124m'\u001B[39m\u001B[38;5;124m_is_a_bokeh_application_class\u001B[39m\u001B[38;5;124m'\u001B[39m, \u001B[38;5;28;01mFalse\u001B[39;00m)\n",
      "File \u001B[0;32m~/PycharmProjects/portfolios/.venv/lib/python3.12/site-packages/bokeh/io/showing.py:189\u001B[0m, in \u001B[0;36m_show_with_state\u001B[0;34m(obj, state, browser, new, notebook_handle)\u001B[0m\n\u001B[1;32m    184\u001B[0m \u001B[38;5;28;01mdef\u001B[39;00m \u001B[38;5;21m_show_with_state\u001B[39m(obj: UIElement, state: State, browser: \u001B[38;5;28mstr\u001B[39m \u001B[38;5;241m|\u001B[39m \u001B[38;5;28;01mNone\u001B[39;00m,\n\u001B[1;32m    185\u001B[0m         new: BrowserTarget, notebook_handle: \u001B[38;5;28mbool\u001B[39m \u001B[38;5;241m=\u001B[39m \u001B[38;5;28;01mFalse\u001B[39;00m) \u001B[38;5;241m-\u001B[39m\u001B[38;5;241m>\u001B[39m CommsHandle \u001B[38;5;241m|\u001B[39m \u001B[38;5;28;01mNone\u001B[39;00m:\n\u001B[1;32m    186\u001B[0m \u001B[38;5;250m    \u001B[39m\u001B[38;5;124;03m'''\u001B[39;00m\n\u001B[1;32m    187\u001B[0m \n\u001B[1;32m    188\u001B[0m \u001B[38;5;124;03m    '''\u001B[39;00m\n\u001B[0;32m--> 189\u001B[0m     controller \u001B[38;5;241m=\u001B[39m \u001B[43mget_browser_controller\u001B[49m\u001B[43m(\u001B[49m\u001B[43mbrowser\u001B[49m\u001B[38;5;241;43m=\u001B[39;49m\u001B[43mbrowser\u001B[49m\u001B[43m)\u001B[49m\n\u001B[1;32m    191\u001B[0m     comms_handle \u001B[38;5;241m=\u001B[39m \u001B[38;5;28;01mNone\u001B[39;00m\n\u001B[1;32m    192\u001B[0m     shown \u001B[38;5;241m=\u001B[39m \u001B[38;5;28;01mFalse\u001B[39;00m\n",
      "File \u001B[0;32m~/PycharmProjects/portfolios/.venv/lib/python3.12/site-packages/bokeh/util/browser.py:88\u001B[0m, in \u001B[0;36mget_browser_controller\u001B[0;34m(browser)\u001B[0m\n\u001B[1;32m     86\u001B[0m     controller \u001B[38;5;241m=\u001B[39m DummyWebBrowser()\n\u001B[1;32m     87\u001B[0m \u001B[38;5;28;01melse\u001B[39;00m:\n\u001B[0;32m---> 88\u001B[0m     controller \u001B[38;5;241m=\u001B[39m \u001B[43mwebbrowser\u001B[49m\u001B[38;5;241;43m.\u001B[39;49m\u001B[43mget\u001B[49m\u001B[43m(\u001B[49m\u001B[43mbrowser\u001B[49m\u001B[43m)\u001B[49m\n\u001B[1;32m     90\u001B[0m \u001B[38;5;28;01mreturn\u001B[39;00m controller\n",
      "File \u001B[0;32m/Library/Frameworks/Python.framework/Versions/3.12/lib/python3.12/webbrowser.py:49\u001B[0m, in \u001B[0;36mget\u001B[0;34m(using)\u001B[0m\n\u001B[1;32m     47\u001B[0m     alternatives \u001B[38;5;241m=\u001B[39m _tryorder\n\u001B[1;32m     48\u001B[0m \u001B[38;5;28;01mfor\u001B[39;00m browser \u001B[38;5;129;01min\u001B[39;00m alternatives:\n\u001B[0;32m---> 49\u001B[0m     \u001B[38;5;28;01mif\u001B[39;00m \u001B[38;5;124;43m'\u001B[39;49m\u001B[38;5;132;43;01m%s\u001B[39;49;00m\u001B[38;5;124;43m'\u001B[39;49m\u001B[43m \u001B[49m\u001B[38;5;129;43;01min\u001B[39;49;00m\u001B[43m \u001B[49m\u001B[43mbrowser\u001B[49m:\n\u001B[1;32m     50\u001B[0m         \u001B[38;5;66;03m# User gave us a command line, split it into name and args\u001B[39;00m\n\u001B[1;32m     51\u001B[0m         browser \u001B[38;5;241m=\u001B[39m shlex\u001B[38;5;241m.\u001B[39msplit(browser)\n\u001B[1;32m     52\u001B[0m         \u001B[38;5;28;01mif\u001B[39;00m browser[\u001B[38;5;241m-\u001B[39m\u001B[38;5;241m1\u001B[39m] \u001B[38;5;241m==\u001B[39m \u001B[38;5;124m'\u001B[39m\u001B[38;5;124m&\u001B[39m\u001B[38;5;124m'\u001B[39m:\n",
      "\u001B[0;31mTypeError\u001B[0m: argument of type 'HoverTool' is not iterable"
     ]
    }
   ],
   "source": [],
   "metadata": {
    "collapsed": false,
    "ExecuteTime": {
     "end_time": "2024-03-29T01:44:32.074355Z",
     "start_time": "2024-03-29T01:44:31.918834Z"
    }
   },
   "execution_count": 25
  },
  {
   "cell_type": "code",
   "outputs": [],
   "source": [],
   "metadata": {
    "collapsed": false
   }
  }
 ],
 "metadata": {
  "kernelspec": {
   "display_name": "Python 3",
   "language": "python",
   "name": "python3"
  },
  "language_info": {
   "codemirror_mode": {
    "name": "ipython",
    "version": 3
   },
   "file_extension": ".py",
   "mimetype": "text/x-python",
   "name": "python",
   "nbconvert_exporter": "python",
   "pygments_lexer": "ipython3",
   "version": "3.11.3"
  },
  "orig_nbformat": 4
 },
 "nbformat": 4,
 "nbformat_minor": 2
}
