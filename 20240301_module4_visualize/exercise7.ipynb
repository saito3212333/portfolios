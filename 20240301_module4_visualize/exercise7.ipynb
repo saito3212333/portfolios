{
 "cells": [
  {
   "cell_type": "code",
   "execution_count": null,
   "metadata": {},
   "outputs": [],
   "source": [
    "import pandas as pd\n",
    "import plotly.express as px"
   ]
  },
  {
   "cell_type": "code",
   "execution_count": null,
   "metadata": {},
   "outputs": [],
   "source": [
    "co2 = pd.read_csv('/Users/sahiyo/PycharmProjects/Data/co2.csv')\n",
    "gm = pd.read_csv('/Users/sahiyo/PycharmProjects/Data/gapminder.csv')\n",
    "\n",
    "\n"
   ]
  },
  {
   "cell_type": "markdown",
   "source": [
    "Using the CO2 and Gapminder data, you need to create multiple visualizations using the Plotly Express library to understand which visualization best fits our data.\n",
    "\n",
    "https://plotly.com/python/plotly-express/"
   ],
   "metadata": {
    "collapsed": false
   }
  },
  {
   "cell_type": "code",
   "execution_count": null,
   "metadata": {},
   "outputs": [],
   "source": [
    "df_gm = gm[['Country', 'region']].drop_duplicates()\n",
    "merged_df = pd.merge(co2,df_gm,left_on=\"country\",right_on=\"Country\",how='inner')\n",
    "merged_df = merged_df.drop('Country',axis='columns')\n",
    "new_co2 = pd.melt(merged_df,id_vars=['country','region'])\n",
    "columns = ['country','region','year','co2']\n",
    "new_co2.columns = columns\n",
    "new_co2.head()\n"
   ]
  },
  {
   "cell_type": "code",
   "execution_count": null,
   "metadata": {},
   "outputs": [],
   "source": [
    "df_co2 = new_co2[new_co2['year'].astype('int64')>1963]\n",
    "df_co2 = df_co2.sort_values(by=['country','year'])\n",
    "\n",
    "\n",
    "df_co2['year']= df_co2['year'].astype('int64')\n",
    "df_co2.info()\n",
    "df_co2.head()"
   ]
  },
  {
   "cell_type": "code",
   "execution_count": null,
   "metadata": {},
   "outputs": [],
   "source": [
    "df_gdp = gm[['Country','Year','gdp']]\n",
    "df_gdp.columns=['country','year','gdp']\n",
    "data = pd.merge(df_co2,df_gdp,on='country',how='left')\n",
    "data.head()"
   ]
  },
  {
   "cell_type": "code",
   "execution_count": null,
   "metadata": {},
   "outputs": [],
   "source": [
    "import math\n",
    "xmin,xmax = min(data.gdp),max(data.gdp)\n",
    "ymin,ymax = min(data.co2),max(data.co2)"
   ]
  },
  {
   "cell_type": "code",
   "execution_count": null,
   "metadata": {},
   "outputs": [],
   "source": [
    "fig = px.scatter(data, x='year_x', y='co2',\n",
    "                 color='region', width=800, height=600, marginal_y='violin',\n",
    "                 template=\"simple_white\")\n",
    "fig.show()\n"
   ]
  },
  {
   "cell_type": "code",
   "outputs": [],
   "source": [
    "# > Create a scatter plot with the x and y axes as gdp and co2 respectively. Add a box plot for the co2 values with the marginal_y parameter. Add a rug plot for the gdp values with the marginal_x parameter. Add animation parameters on the year column.\n",
    "\n",
    "\n",
    "fig = px.scatter(data, x='gdp', y='co2',animation_group='country', animation_frame='year_x',\n",
    "                 width=800, height=600,\n",
    "                 color='region', marginal_y='box',marginal_x='rug',\n",
    "                 template=\"simple_white\")\n",
    "fig.show()\n"
   ],
   "metadata": {
    "collapsed": false
   },
   "execution_count": null
  },
  {
   "cell_type": "code",
   "outputs": [],
   "source": [
    "# Create a density contour plot with the x and y axes as gdp and co2 respectively. Add a box plot for the co2 values with the marginal_y parameter. Add a rug plot for the gdp values with the marginal_x parameter. Add animation parameters on the year column."
   ],
   "metadata": {
    "collapsed": false
   }
  },
  {
   "cell_type": "code",
   "outputs": [],
   "source": [
    "fig = px.density_heatmap(data, x='gdp', y='co2',animation_frame='year_x',\n",
    "                         width=800, height=600,\n",
    "                         marginal_y='box',marginal_x='rug',\n",
    "                         template=\"simple_white\")\n",
    "fig.show()\n"
   ],
   "metadata": {
    "collapsed": false
   },
   "execution_count": null
  },
  {
   "cell_type": "code",
   "outputs": [],
   "source": [],
   "metadata": {
    "collapsed": false
   }
  }
 ],
 "metadata": {
  "kernelspec": {
   "display_name": "Python 3",
   "language": "python",
   "name": "python3"
  },
  "language_info": {
   "codemirror_mode": {
    "name": "ipython",
    "version": 3
   },
   "file_extension": ".py",
   "mimetype": "text/x-python",
   "name": "python",
   "nbconvert_exporter": "python",
   "pygments_lexer": "ipython3",
   "version": "3.11.3"
  },
  "orig_nbformat": 4
 },
 "nbformat": 4,
 "nbformat_minor": 2
}
