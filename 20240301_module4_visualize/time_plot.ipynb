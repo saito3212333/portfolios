{
 "cells": [
  {
   "cell_type": "code",
   "execution_count": 1,
   "id": "initial_id",
   "metadata": {
    "collapsed": true,
    "ExecuteTime": {
     "end_time": "2024-04-04T13:46:40.019925Z",
     "start_time": "2024-04-04T13:46:39.606690Z"
    }
   },
   "outputs": [],
   "source": [
    "import pandas as pd\n",
    "import dateutil as "
   ]
  },
  {
   "cell_type": "code",
   "outputs": [
    {
     "name": "stdout",
     "output_type": "stream",
     "text": [
      "     Month  #Passengers\n",
      "0  1949-01          112\n",
      "1  1949-02          118\n",
      "2  1949-03          132\n",
      "3  1949-04          129\n",
      "4  1949-05          121\n"
     ]
    }
   ],
   "source": [
    "df = pd.read_csv('/Users/sahiyo/PycharmProjects/Data/AirPassengers.csv')\n",
    "print(df.head())"
   ],
   "metadata": {
    "collapsed": false,
    "ExecuteTime": {
     "end_time": "2024-04-04T13:48:23.555366Z",
     "start_time": "2024-04-04T13:48:23.541966Z"
    }
   },
   "id": "feff10c727d47061",
   "execution_count": 2
  },
  {
   "cell_type": "code",
   "outputs": [
    {
     "name": "stdout",
     "output_type": "stream",
     "text": [
      "<class 'pandas.core.frame.DataFrame'>\n",
      "RangeIndex: 144 entries, 0 to 143\n",
      "Data columns (total 2 columns):\n",
      " #   Column       Non-Null Count  Dtype         \n",
      "---  ------       --------------  -----         \n",
      " 0   Month        144 non-null    datetime64[ns]\n",
      " 1   #Passengers  144 non-null    int64         \n",
      "dtypes: datetime64[ns](1), int64(1)\n",
      "memory usage: 2.4 KB\n"
     ]
    }
   ],
   "source": [
    "df['Month'] = pd.to_datetime(df['Month'])\n",
    "df.info()"
   ],
   "metadata": {
    "collapsed": false,
    "ExecuteTime": {
     "end_time": "2024-04-04T13:50:18.464671Z",
     "start_time": "2024-04-04T13:50:18.457357Z"
    }
   },
   "id": "86a5c3030e2ab093",
   "execution_count": 3
  },
  {
   "cell_type": "code",
   "outputs": [
    {
     "data": {
      "text/plain": "         Month  #Passengers  month  year       day\n0   1949-01-01          112      1  1949  Saturday\n1   1949-02-01          118      2  1949   Tuesday\n2   1949-03-01          132      3  1949   Tuesday\n3   1949-04-01          129      4  1949    Friday\n4   1949-05-01          121      5  1949    Sunday\n..         ...          ...    ...   ...       ...\n139 1960-08-01          606      8  1960    Monday\n140 1960-09-01          508      9  1960  Thursday\n141 1960-10-01          461     10  1960  Saturday\n142 1960-11-01          390     11  1960   Tuesday\n143 1960-12-01          432     12  1960  Thursday\n\n[144 rows x 5 columns]",
      "text/html": "<div>\n<style scoped>\n    .dataframe tbody tr th:only-of-type {\n        vertical-align: middle;\n    }\n\n    .dataframe tbody tr th {\n        vertical-align: top;\n    }\n\n    .dataframe thead th {\n        text-align: right;\n    }\n</style>\n<table border=\"1\" class=\"dataframe\">\n  <thead>\n    <tr style=\"text-align: right;\">\n      <th></th>\n      <th>Month</th>\n      <th>#Passengers</th>\n      <th>month</th>\n      <th>year</th>\n      <th>day</th>\n    </tr>\n  </thead>\n  <tbody>\n    <tr>\n      <th>0</th>\n      <td>1949-01-01</td>\n      <td>112</td>\n      <td>1</td>\n      <td>1949</td>\n      <td>Saturday</td>\n    </tr>\n    <tr>\n      <th>1</th>\n      <td>1949-02-01</td>\n      <td>118</td>\n      <td>2</td>\n      <td>1949</td>\n      <td>Tuesday</td>\n    </tr>\n    <tr>\n      <th>2</th>\n      <td>1949-03-01</td>\n      <td>132</td>\n      <td>3</td>\n      <td>1949</td>\n      <td>Tuesday</td>\n    </tr>\n    <tr>\n      <th>3</th>\n      <td>1949-04-01</td>\n      <td>129</td>\n      <td>4</td>\n      <td>1949</td>\n      <td>Friday</td>\n    </tr>\n    <tr>\n      <th>4</th>\n      <td>1949-05-01</td>\n      <td>121</td>\n      <td>5</td>\n      <td>1949</td>\n      <td>Sunday</td>\n    </tr>\n    <tr>\n      <th>...</th>\n      <td>...</td>\n      <td>...</td>\n      <td>...</td>\n      <td>...</td>\n      <td>...</td>\n    </tr>\n    <tr>\n      <th>139</th>\n      <td>1960-08-01</td>\n      <td>606</td>\n      <td>8</td>\n      <td>1960</td>\n      <td>Monday</td>\n    </tr>\n    <tr>\n      <th>140</th>\n      <td>1960-09-01</td>\n      <td>508</td>\n      <td>9</td>\n      <td>1960</td>\n      <td>Thursday</td>\n    </tr>\n    <tr>\n      <th>141</th>\n      <td>1960-10-01</td>\n      <td>461</td>\n      <td>10</td>\n      <td>1960</td>\n      <td>Saturday</td>\n    </tr>\n    <tr>\n      <th>142</th>\n      <td>1960-11-01</td>\n      <td>390</td>\n      <td>11</td>\n      <td>1960</td>\n      <td>Tuesday</td>\n    </tr>\n    <tr>\n      <th>143</th>\n      <td>1960-12-01</td>\n      <td>432</td>\n      <td>12</td>\n      <td>1960</td>\n      <td>Thursday</td>\n    </tr>\n  </tbody>\n</table>\n<p>144 rows × 5 columns</p>\n</div>"
     },
     "execution_count": 7,
     "metadata": {},
     "output_type": "execute_result"
    }
   ],
   "source": [
    "df['month'] = df['Month'].dt.month\n",
    "df['year'] = df['Month'].dt.year\n",
    "df['day'] = df['Month'].dt.day_name()\n",
    "df"
   ],
   "metadata": {
    "collapsed": false,
    "ExecuteTime": {
     "end_time": "2024-04-04T13:54:24.239483Z",
     "start_time": "2024-04-04T13:54:24.232920Z"
    }
   },
   "id": "c4426270bc1a9cf8",
   "execution_count": 7
  },
  {
   "cell_type": "code",
   "outputs": [],
   "source": [],
   "metadata": {
    "collapsed": false
   },
   "id": "8beb0eb6a6a0a1e6"
  }
 ],
 "metadata": {
  "kernelspec": {
   "display_name": "Python 3",
   "language": "python",
   "name": "python3"
  },
  "language_info": {
   "codemirror_mode": {
    "name": "ipython",
    "version": 2
   },
   "file_extension": ".py",
   "mimetype": "text/x-python",
   "name": "python",
   "nbconvert_exporter": "python",
   "pygments_lexer": "ipython2",
   "version": "2.7.6"
  }
 },
 "nbformat": 4,
 "nbformat_minor": 5
}
