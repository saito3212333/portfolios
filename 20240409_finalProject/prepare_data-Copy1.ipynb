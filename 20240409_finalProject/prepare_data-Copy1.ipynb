{
 "cells": [
  {
   "cell_type": "code",
   "execution_count": 1,
   "id": "100b3083",
   "metadata": {},
   "outputs": [],
   "source": [
    "import pandas as pd\n",
    "import datetime"
   ]
  },
  {
   "cell_type": "markdown",
   "id": "94a3d21e",
   "metadata": {},
   "source": [
    "# tendency of visitors"
   ]
  },
  {
   "cell_type": "code",
   "execution_count": 2,
   "id": "8c12b630",
   "metadata": {},
   "outputs": [
    {
     "name": "stdout",
     "output_type": "stream",
     "text": [
      "<class 'pandas.core.frame.DataFrame'>\n",
      "RangeIndex: 49668 entries, 0 to 49667\n",
      "Data columns (total 5 columns):\n",
      " #   Column            Non-Null Count  Dtype \n",
      "---  ------            --------------  ----- \n",
      " 0   Country/Area      49668 non-null  object\n",
      " 1   Month (abbr)      49668 non-null  object\n",
      " 2   Year              49668 non-null  int64 \n",
      " 3   Visitor Arrivals  49641 non-null  object\n",
      " 4   Growth Rate(%)    46732 non-null  object\n",
      "dtypes: int64(1), object(4)\n",
      "memory usage: 1.9+ MB\n"
     ]
    }
   ],
   "source": [
    "df_tendency = pd.read_csv('/Users/sahiyo/PycharmProjects/Data/data_finalProject/monthly_on_visitors.csv')\n",
    "df_tendency.info()"
   ]
  },
  {
   "cell_type": "code",
   "execution_count": 3,
   "id": "a9ef8679",
   "metadata": {},
   "outputs": [
    {
     "data": {
      "text/html": [
       "<div>\n",
       "<style scoped>\n",
       "    .dataframe tbody tr th:only-of-type {\n",
       "        vertical-align: middle;\n",
       "    }\n",
       "\n",
       "    .dataframe tbody tr th {\n",
       "        vertical-align: top;\n",
       "    }\n",
       "\n",
       "    .dataframe thead th {\n",
       "        text-align: right;\n",
       "    }\n",
       "</style>\n",
       "<table border=\"1\" class=\"dataframe\">\n",
       "  <thead>\n",
       "    <tr style=\"text-align: right;\">\n",
       "      <th></th>\n",
       "      <th>Country/Area</th>\n",
       "      <th>Month (abbr)</th>\n",
       "      <th>Year</th>\n",
       "      <th>Visitor Arrivals</th>\n",
       "      <th>Growth Rate(%)</th>\n",
       "    </tr>\n",
       "  </thead>\n",
       "  <tbody>\n",
       "    <tr>\n",
       "      <th>0</th>\n",
       "      <td>Afghanistan</td>\n",
       "      <td>Jan.</td>\n",
       "      <td>2012</td>\n",
       "      <td>204</td>\n",
       "      <td>-93.525864805</td>\n",
       "    </tr>\n",
       "    <tr>\n",
       "      <th>1</th>\n",
       "      <td>Afghanistan</td>\n",
       "      <td>Feb.</td>\n",
       "      <td>2012</td>\n",
       "      <td>152</td>\n",
       "      <td>-95.490952240</td>\n",
       "    </tr>\n",
       "    <tr>\n",
       "      <th>2</th>\n",
       "      <td>Afghanistan</td>\n",
       "      <td>Mar.</td>\n",
       "      <td>2012</td>\n",
       "      <td>131</td>\n",
       "      <td>-95.931677019</td>\n",
       "    </tr>\n",
       "    <tr>\n",
       "      <th>3</th>\n",
       "      <td>Afghanistan</td>\n",
       "      <td>Apr.</td>\n",
       "      <td>2012</td>\n",
       "      <td>141</td>\n",
       "      <td>-96.276736203</td>\n",
       "    </tr>\n",
       "    <tr>\n",
       "      <th>4</th>\n",
       "      <td>Afghanistan</td>\n",
       "      <td>May</td>\n",
       "      <td>2012</td>\n",
       "      <td>150</td>\n",
       "      <td>-94.309559939</td>\n",
       "    </tr>\n",
       "  </tbody>\n",
       "</table>\n",
       "</div>"
      ],
      "text/plain": [
       "  Country/Area Month (abbr)  Year Visitor Arrivals Growth Rate(%)\n",
       "0  Afghanistan         Jan.  2012              204  -93.525864805\n",
       "1  Afghanistan         Feb.  2012              152  -95.490952240\n",
       "2  Afghanistan         Mar.  2012              131  -95.931677019\n",
       "3  Afghanistan         Apr.  2012              141  -96.276736203\n",
       "4  Afghanistan          May  2012              150  -94.309559939"
      ]
     },
     "execution_count": 3,
     "metadata": {},
     "output_type": "execute_result"
    }
   ],
   "source": [
    "df_tendency.head()"
   ]
  },
  {
   "cell_type": "code",
   "execution_count": 4,
   "id": "aefe2c1d",
   "metadata": {},
   "outputs": [
    {
     "data": {
      "text/html": [
       "<div>\n",
       "<style scoped>\n",
       "    .dataframe tbody tr th:only-of-type {\n",
       "        vertical-align: middle;\n",
       "    }\n",
       "\n",
       "    .dataframe tbody tr th {\n",
       "        vertical-align: top;\n",
       "    }\n",
       "\n",
       "    .dataframe thead th {\n",
       "        text-align: right;\n",
       "    }\n",
       "</style>\n",
       "<table border=\"1\" class=\"dataframe\">\n",
       "  <thead>\n",
       "    <tr style=\"text-align: right;\">\n",
       "      <th></th>\n",
       "      <th>Country/Area</th>\n",
       "      <th>Month (abbr)</th>\n",
       "      <th>Year</th>\n",
       "      <th>Visitor Arrivals</th>\n",
       "      <th>Growth Rate(%)</th>\n",
       "      <th>date</th>\n",
       "    </tr>\n",
       "  </thead>\n",
       "  <tbody>\n",
       "    <tr>\n",
       "      <th>0</th>\n",
       "      <td>Afghanistan</td>\n",
       "      <td>Jan.</td>\n",
       "      <td>2012</td>\n",
       "      <td>204</td>\n",
       "      <td>-93.525864805</td>\n",
       "      <td>2012-01-01</td>\n",
       "    </tr>\n",
       "    <tr>\n",
       "      <th>1</th>\n",
       "      <td>Afghanistan</td>\n",
       "      <td>Feb.</td>\n",
       "      <td>2012</td>\n",
       "      <td>152</td>\n",
       "      <td>-95.490952240</td>\n",
       "      <td>2012-02-01</td>\n",
       "    </tr>\n",
       "    <tr>\n",
       "      <th>2</th>\n",
       "      <td>Afghanistan</td>\n",
       "      <td>Mar.</td>\n",
       "      <td>2012</td>\n",
       "      <td>131</td>\n",
       "      <td>-95.931677019</td>\n",
       "      <td>2012-03-01</td>\n",
       "    </tr>\n",
       "    <tr>\n",
       "      <th>3</th>\n",
       "      <td>Afghanistan</td>\n",
       "      <td>Apr.</td>\n",
       "      <td>2012</td>\n",
       "      <td>141</td>\n",
       "      <td>-96.276736203</td>\n",
       "      <td>2012-04-01</td>\n",
       "    </tr>\n",
       "    <tr>\n",
       "      <th>4</th>\n",
       "      <td>Afghanistan</td>\n",
       "      <td>May</td>\n",
       "      <td>2012</td>\n",
       "      <td>150</td>\n",
       "      <td>-94.309559939</td>\n",
       "      <td>2012-05-01</td>\n",
       "    </tr>\n",
       "  </tbody>\n",
       "</table>\n",
       "</div>"
      ],
      "text/plain": [
       "  Country/Area Month (abbr)  Year Visitor Arrivals Growth Rate(%)       date\n",
       "0  Afghanistan         Jan.  2012              204  -93.525864805 2012-01-01\n",
       "1  Afghanistan         Feb.  2012              152  -95.490952240 2012-02-01\n",
       "2  Afghanistan         Mar.  2012              131  -95.931677019 2012-03-01\n",
       "3  Afghanistan         Apr.  2012              141  -96.276736203 2012-04-01\n",
       "4  Afghanistan          May  2012              150  -94.309559939 2012-05-01"
      ]
     },
     "execution_count": 4,
     "metadata": {},
     "output_type": "execute_result"
    }
   ],
   "source": [
    "df_tendency['date'] = pd.to_datetime(df_tendency['Year'].astype(str) + '-' + df_tendency['Month (abbr)'] + '-01')\n",
    "df_tendency.head()"
   ]
  },
  {
   "cell_type": "code",
   "execution_count": 5,
   "id": "d8c66929",
   "metadata": {},
   "outputs": [
    {
     "name": "stdout",
     "output_type": "stream",
     "text": [
      "<class 'pandas.core.frame.DataFrame'>\n",
      "RangeIndex: 49668 entries, 0 to 49667\n",
      "Data columns (total 6 columns):\n",
      " #   Column            Non-Null Count  Dtype         \n",
      "---  ------            --------------  -----         \n",
      " 0   Country/Area      49668 non-null  object        \n",
      " 1   Month (abbr)      49668 non-null  object        \n",
      " 2   Year              49668 non-null  int64         \n",
      " 3   Visitor Arrivals  49641 non-null  object        \n",
      " 4   Growth Rate(%)    46732 non-null  object        \n",
      " 5   date              49668 non-null  datetime64[ns]\n",
      "dtypes: datetime64[ns](1), int64(1), object(4)\n",
      "memory usage: 2.3+ MB\n"
     ]
    }
   ],
   "source": [
    "df_tendency.info() # check whether it was changed correctly or not"
   ]
  },
  {
   "cell_type": "code",
   "execution_count": 6,
   "id": "4f20a498",
   "metadata": {
    "scrolled": true
   },
   "outputs": [
    {
     "data": {
      "text/plain": [
       "Country/Area           0\n",
       "Month (abbr)           0\n",
       "Year                   0\n",
       "Visitor Arrivals      27\n",
       "Growth Rate(%)      2936\n",
       "date                   0\n",
       "dtype: int64"
      ]
     },
     "execution_count": 6,
     "metadata": {},
     "output_type": "execute_result"
    }
   ],
   "source": [
    "df_tendency.isnull().sum() # Check the missing value"
   ]
  },
  {
   "cell_type": "code",
   "execution_count": 7,
   "id": "40449484",
   "metadata": {},
   "outputs": [
    {
     "data": {
      "text/html": [
       "<div>\n",
       "<style scoped>\n",
       "    .dataframe tbody tr th:only-of-type {\n",
       "        vertical-align: middle;\n",
       "    }\n",
       "\n",
       "    .dataframe tbody tr th {\n",
       "        vertical-align: top;\n",
       "    }\n",
       "\n",
       "    .dataframe thead th {\n",
       "        text-align: right;\n",
       "    }\n",
       "</style>\n",
       "<table border=\"1\" class=\"dataframe\">\n",
       "  <thead>\n",
       "    <tr style=\"text-align: right;\">\n",
       "      <th></th>\n",
       "      <th>Country/Area</th>\n",
       "      <th>Month (abbr)</th>\n",
       "      <th>Year</th>\n",
       "      <th>Visitor Arrivals</th>\n",
       "      <th>Growth Rate(%)</th>\n",
       "      <th>date</th>\n",
       "    </tr>\n",
       "  </thead>\n",
       "  <tbody>\n",
       "    <tr>\n",
       "      <th>112</th>\n",
       "      <td>Afghanistan</td>\n",
       "      <td>May</td>\n",
       "      <td>2021</td>\n",
       "      <td>121</td>\n",
       "      <td>NaN</td>\n",
       "      <td>2021-05-01</td>\n",
       "    </tr>\n",
       "    <tr>\n",
       "      <th>244</th>\n",
       "      <td>Albania</td>\n",
       "      <td>May</td>\n",
       "      <td>2020</td>\n",
       "      <td>0</td>\n",
       "      <td>NaN</td>\n",
       "      <td>2020-05-01</td>\n",
       "    </tr>\n",
       "    <tr>\n",
       "      <th>387</th>\n",
       "      <td>Algeria</td>\n",
       "      <td>Apr.</td>\n",
       "      <td>2020</td>\n",
       "      <td>0</td>\n",
       "      <td>NaN</td>\n",
       "      <td>2020-04-01</td>\n",
       "    </tr>\n",
       "    <tr>\n",
       "      <th>388</th>\n",
       "      <td>Algeria</td>\n",
       "      <td>May</td>\n",
       "      <td>2020</td>\n",
       "      <td>0</td>\n",
       "      <td>NaN</td>\n",
       "      <td>2020-05-01</td>\n",
       "    </tr>\n",
       "    <tr>\n",
       "      <th>389</th>\n",
       "      <td>Algeria</td>\n",
       "      <td>Jun.</td>\n",
       "      <td>2020</td>\n",
       "      <td>0</td>\n",
       "      <td>NaN</td>\n",
       "      <td>2020-06-01</td>\n",
       "    </tr>\n",
       "    <tr>\n",
       "      <th>...</th>\n",
       "      <td>...</td>\n",
       "      <td>...</td>\n",
       "      <td>...</td>\n",
       "      <td>...</td>\n",
       "      <td>...</td>\n",
       "      <td>...</td>\n",
       "    </tr>\n",
       "    <tr>\n",
       "      <th>49501</th>\n",
       "      <td>Zambia</td>\n",
       "      <td>Feb.</td>\n",
       "      <td>2022</td>\n",
       "      <td>5</td>\n",
       "      <td>NaN</td>\n",
       "      <td>2022-02-01</td>\n",
       "    </tr>\n",
       "    <tr>\n",
       "      <th>49623</th>\n",
       "      <td>Zimbabwe</td>\n",
       "      <td>Apr.</td>\n",
       "      <td>2020</td>\n",
       "      <td>3</td>\n",
       "      <td>NaN</td>\n",
       "      <td>2020-04-01</td>\n",
       "    </tr>\n",
       "    <tr>\n",
       "      <th>49624</th>\n",
       "      <td>Zimbabwe</td>\n",
       "      <td>May</td>\n",
       "      <td>2020</td>\n",
       "      <td>0</td>\n",
       "      <td>NaN</td>\n",
       "      <td>2020-05-01</td>\n",
       "    </tr>\n",
       "    <tr>\n",
       "      <th>49625</th>\n",
       "      <td>Zimbabwe</td>\n",
       "      <td>Jun.</td>\n",
       "      <td>2020</td>\n",
       "      <td>1</td>\n",
       "      <td>NaN</td>\n",
       "      <td>2020-06-01</td>\n",
       "    </tr>\n",
       "    <tr>\n",
       "      <th>49626</th>\n",
       "      <td>Zimbabwe</td>\n",
       "      <td>Jul.</td>\n",
       "      <td>2020</td>\n",
       "      <td>2</td>\n",
       "      <td>NaN</td>\n",
       "      <td>2020-07-01</td>\n",
       "    </tr>\n",
       "  </tbody>\n",
       "</table>\n",
       "<p>2936 rows × 6 columns</p>\n",
       "</div>"
      ],
      "text/plain": [
       "      Country/Area Month (abbr)  Year Visitor Arrivals Growth Rate(%)  \\\n",
       "112    Afghanistan          May  2021              121            NaN   \n",
       "244        Albania          May  2020                0            NaN   \n",
       "387        Algeria         Apr.  2020                0            NaN   \n",
       "388        Algeria          May  2020                0            NaN   \n",
       "389        Algeria         Jun.  2020                0            NaN   \n",
       "...            ...          ...   ...              ...            ...   \n",
       "49501       Zambia         Feb.  2022                5            NaN   \n",
       "49623     Zimbabwe         Apr.  2020                3            NaN   \n",
       "49624     Zimbabwe          May  2020                0            NaN   \n",
       "49625     Zimbabwe         Jun.  2020                1            NaN   \n",
       "49626     Zimbabwe         Jul.  2020                2            NaN   \n",
       "\n",
       "            date  \n",
       "112   2021-05-01  \n",
       "244   2020-05-01  \n",
       "387   2020-04-01  \n",
       "388   2020-05-01  \n",
       "389   2020-06-01  \n",
       "...          ...  \n",
       "49501 2022-02-01  \n",
       "49623 2020-04-01  \n",
       "49624 2020-05-01  \n",
       "49625 2020-06-01  \n",
       "49626 2020-07-01  \n",
       "\n",
       "[2936 rows x 6 columns]"
      ]
     },
     "execution_count": 7,
     "metadata": {},
     "output_type": "execute_result"
    }
   ],
   "source": [
    "df_tendency[df_tendency.isnull().any(axis=1)]\n",
    "# Given that result, I can ignore the null value."
   ]
  },
  {
   "cell_type": "code",
   "execution_count": 8,
   "id": "51081a37",
   "metadata": {},
   "outputs": [
    {
     "data": {
      "text/html": [
       "<div>\n",
       "<style scoped>\n",
       "    .dataframe tbody tr th:only-of-type {\n",
       "        vertical-align: middle;\n",
       "    }\n",
       "\n",
       "    .dataframe tbody tr th {\n",
       "        vertical-align: top;\n",
       "    }\n",
       "\n",
       "    .dataframe thead th {\n",
       "        text-align: right;\n",
       "    }\n",
       "</style>\n",
       "<table border=\"1\" class=\"dataframe\">\n",
       "  <thead>\n",
       "    <tr style=\"text-align: right;\">\n",
       "      <th></th>\n",
       "      <th>Country/Area</th>\n",
       "      <th>Month (abbr)</th>\n",
       "      <th>Year</th>\n",
       "      <th>Visitor Arrivals</th>\n",
       "      <th>Growth Rate(%)</th>\n",
       "      <th>date</th>\n",
       "    </tr>\n",
       "  </thead>\n",
       "  <tbody>\n",
       "  </tbody>\n",
       "</table>\n",
       "</div>"
      ],
      "text/plain": [
       "Empty DataFrame\n",
       "Columns: [Country/Area, Month (abbr), Year, Visitor Arrivals, Growth Rate(%), date]\n",
       "Index: []"
      ]
     },
     "execution_count": 8,
     "metadata": {},
     "output_type": "execute_result"
    }
   ],
   "source": [
    "df_tendency[df_tendency.duplicated()]\n",
    "# output no duplicated"
   ]
  },
  {
   "cell_type": "code",
   "execution_count": 9,
   "id": "0f03d0f8",
   "metadata": {},
   "outputs": [],
   "source": [
    "df_tendency = df_tendency[['Country/Area','Visitor Arrivals','date']]"
   ]
  },
  {
   "cell_type": "code",
   "execution_count": 10,
   "id": "bfde1fd0",
   "metadata": {},
   "outputs": [],
   "source": [
    "df_tendency.columns = [['Country','NoVisitors','Date']]"
   ]
  },
  {
   "cell_type": "code",
   "execution_count": 11,
   "id": "4651e056",
   "metadata": {
    "scrolled": true
   },
   "outputs": [
    {
     "data": {
      "text/html": [
       "<div>\n",
       "<style scoped>\n",
       "    .dataframe tbody tr th:only-of-type {\n",
       "        vertical-align: middle;\n",
       "    }\n",
       "\n",
       "    .dataframe tbody tr th {\n",
       "        vertical-align: top;\n",
       "    }\n",
       "\n",
       "    .dataframe thead tr th {\n",
       "        text-align: left;\n",
       "    }\n",
       "</style>\n",
       "<table border=\"1\" class=\"dataframe\">\n",
       "  <thead>\n",
       "    <tr>\n",
       "      <th></th>\n",
       "      <th>Country</th>\n",
       "      <th>NoVisitors</th>\n",
       "      <th>Date</th>\n",
       "    </tr>\n",
       "  </thead>\n",
       "  <tbody>\n",
       "    <tr>\n",
       "      <th>0</th>\n",
       "      <td>Afghanistan</td>\n",
       "      <td>204</td>\n",
       "      <td>2012-01-01</td>\n",
       "    </tr>\n",
       "    <tr>\n",
       "      <th>1</th>\n",
       "      <td>Afghanistan</td>\n",
       "      <td>152</td>\n",
       "      <td>2012-02-01</td>\n",
       "    </tr>\n",
       "    <tr>\n",
       "      <th>2</th>\n",
       "      <td>Afghanistan</td>\n",
       "      <td>131</td>\n",
       "      <td>2012-03-01</td>\n",
       "    </tr>\n",
       "    <tr>\n",
       "      <th>3</th>\n",
       "      <td>Afghanistan</td>\n",
       "      <td>141</td>\n",
       "      <td>2012-04-01</td>\n",
       "    </tr>\n",
       "    <tr>\n",
       "      <th>4</th>\n",
       "      <td>Afghanistan</td>\n",
       "      <td>150</td>\n",
       "      <td>2012-05-01</td>\n",
       "    </tr>\n",
       "  </tbody>\n",
       "</table>\n",
       "</div>"
      ],
      "text/plain": [
       "       Country NoVisitors       Date\n",
       "0  Afghanistan        204 2012-01-01\n",
       "1  Afghanistan        152 2012-02-01\n",
       "2  Afghanistan        131 2012-03-01\n",
       "3  Afghanistan        141 2012-04-01\n",
       "4  Afghanistan        150 2012-05-01"
      ]
     },
     "execution_count": 11,
     "metadata": {},
     "output_type": "execute_result"
    }
   ],
   "source": [
    "df_tendency.head()"
   ]
  },
  {
   "cell_type": "code",
   "execution_count": 12,
   "id": "49e306b3",
   "metadata": {},
   "outputs": [],
   "source": [
    "df_tendency.to_csv('df_tendency.csv')"
   ]
  },
  {
   "cell_type": "markdown",
   "id": "09aabc68",
   "metadata": {},
   "source": [
    "# exchange_rates_df"
   ]
  },
  {
   "cell_type": "code",
   "execution_count": 2,
   "id": "29f6d120",
   "metadata": {},
   "outputs": [
    {
     "name": "stderr",
     "output_type": "stream",
     "text": [
      "[*********************100%%**********************]  1 of 1 completed\n",
      "[*********************100%%**********************]  1 of 1 completed\n",
      "[*********************100%%**********************]  1 of 1 completed\n",
      "[*********************100%%**********************]  1 of 1 completed\n"
     ]
    }
   ],
   "source": [
    "# I  get the data with Web site API.\n",
    "\n",
    "import yfinance as yf\n",
    "\n",
    "currency_pairs = ['USDCAD=X', 'EURCAD=X', 'GBPCAD=X', 'CNYCAD=X']\n",
    "\n",
    "start_date = '2012-01-01'\n",
    "end_date = '2024-04-13'\n",
    "\n",
    "\n",
    "daily_dates = pd.date_range(start=start_date, end=end_date)\n",
    "exchange_rates_df = pd.DataFrame(index=daily_dates, columns=currency_pairs)\n",
    "\n",
    "\n",
    "for pair in currency_pairs:\n",
    "    data = yf.download(pair, start=start_date, end=end_date)\n",
    "    if not data.empty:\n",
    "        exchange_rates_df[pair] = data['Adj Close']\n",
    "\n",
    "exchange_rates_df.dropna(inplace=True)"
   ]
  },
  {
   "cell_type": "code",
   "execution_count": 10,
   "id": "0521ae24",
   "metadata": {},
   "outputs": [
    {
     "name": "stderr",
     "output_type": "stream",
     "text": [
      "[*********************100%%**********************]  1 of 1 completed\n",
      "[*********************100%%**********************]  1 of 1 completed\n",
      "[*********************100%%**********************]  1 of 1 completed\n",
      "[*********************100%%**********************]  1 of 1 completed"
     ]
    },
    {
     "name": "stdout",
     "output_type": "stream",
     "text": [
      "            date       price currency_name\n",
      "0     2012-01-02   75.639999           CAD\n",
      "1     2012-01-03   75.579002           CAD\n",
      "2     2012-01-04   75.849998           CAD\n",
      "3     2012-01-05   75.660004           CAD\n",
      "4     2012-01-06   75.639999           CAD\n",
      "...          ...         ...           ...\n",
      "12795 2024-04-08  191.500000           GBP\n",
      "12796 2024-04-09  192.184998           GBP\n",
      "12797 2024-04-10  192.399994           GBP\n",
      "12798 2024-04-11  191.740005           GBP\n",
      "12799 2024-04-12  190.858994           GBP\n",
      "\n",
      "[12800 rows x 3 columns]\n"
     ]
    },
    {
     "name": "stderr",
     "output_type": "stream",
     "text": [
      "\n"
     ]
    }
   ],
   "source": [
    "import pandas as pd\n",
    "import yfinance as yf\n",
    "\n",
    "currency_pairs = ['CADJPY=X', 'USDJPY=X', 'EURJPY=X', 'GBPJPY=X']\n",
    "\n",
    "\n",
    "start_date = '2012-01-01'\n",
    "end_date = '2024-04-13'\n",
    "\n",
    "daily_dates = pd.date_range(start=start_date, end=end_date)\n",
    "exchange_rates_df = pd.DataFrame(index=daily_dates, columns=currency_pairs)\n",
    "\n",
    "for pair in currency_pairs:\n",
    "    data = yf.download(pair, start=start_date, end=end_date)\n",
    "    if not data.empty:\n",
    "        exchange_rates_df[pair] = data['Adj Close']\n",
    "\n",
    "exchange_rates_df.dropna(inplace=True)\n",
    "\n",
    "formatted_data = pd.melt(exchange_rates_df.reset_index(), id_vars=['index'], value_vars=currency_pairs, var_name='currency_pair', value_name='price')\n",
    "formatted_data['currency_name'] = formatted_data['currency_pair'].str.replace('JPY=X', '')\n",
    "formatted_data.drop(columns=['currency_pair'], inplace=True)\n",
    "formatted_data.columns = ['date', 'price', 'currency_name']\n",
    "\n",
    "print(formatted_data)\n"
   ]
  },
  {
   "cell_type": "code",
   "execution_count": 11,
   "id": "fde9b262",
   "metadata": {
    "scrolled": true
   },
   "outputs": [
    {
     "data": {
      "text/plain": [
       "date             0\n",
       "price            0\n",
       "currency_name    0\n",
       "dtype: int64"
      ]
     },
     "execution_count": 11,
     "metadata": {},
     "output_type": "execute_result"
    }
   ],
   "source": [
    "formatted_data.isnull().sum() # check the null"
   ]
  },
  {
   "cell_type": "code",
   "execution_count": 12,
   "id": "2f44ff07",
   "metadata": {
    "scrolled": true
   },
   "outputs": [
    {
     "data": {
      "text/html": [
       "<div>\n",
       "<style scoped>\n",
       "    .dataframe tbody tr th:only-of-type {\n",
       "        vertical-align: middle;\n",
       "    }\n",
       "\n",
       "    .dataframe tbody tr th {\n",
       "        vertical-align: top;\n",
       "    }\n",
       "\n",
       "    .dataframe thead th {\n",
       "        text-align: right;\n",
       "    }\n",
       "</style>\n",
       "<table border=\"1\" class=\"dataframe\">\n",
       "  <thead>\n",
       "    <tr style=\"text-align: right;\">\n",
       "      <th></th>\n",
       "      <th>date</th>\n",
       "      <th>price</th>\n",
       "      <th>currency_name</th>\n",
       "    </tr>\n",
       "  </thead>\n",
       "  <tbody>\n",
       "    <tr>\n",
       "      <th>0</th>\n",
       "      <td>2012-01-02</td>\n",
       "      <td>75.639999</td>\n",
       "      <td>CAD</td>\n",
       "    </tr>\n",
       "    <tr>\n",
       "      <th>1</th>\n",
       "      <td>2012-01-03</td>\n",
       "      <td>75.579002</td>\n",
       "      <td>CAD</td>\n",
       "    </tr>\n",
       "    <tr>\n",
       "      <th>2</th>\n",
       "      <td>2012-01-04</td>\n",
       "      <td>75.849998</td>\n",
       "      <td>CAD</td>\n",
       "    </tr>\n",
       "    <tr>\n",
       "      <th>3</th>\n",
       "      <td>2012-01-05</td>\n",
       "      <td>75.660004</td>\n",
       "      <td>CAD</td>\n",
       "    </tr>\n",
       "    <tr>\n",
       "      <th>4</th>\n",
       "      <td>2012-01-06</td>\n",
       "      <td>75.639999</td>\n",
       "      <td>CAD</td>\n",
       "    </tr>\n",
       "  </tbody>\n",
       "</table>\n",
       "</div>"
      ],
      "text/plain": [
       "        date      price currency_name\n",
       "0 2012-01-02  75.639999           CAD\n",
       "1 2012-01-03  75.579002           CAD\n",
       "2 2012-01-04  75.849998           CAD\n",
       "3 2012-01-05  75.660004           CAD\n",
       "4 2012-01-06  75.639999           CAD"
      ]
     },
     "execution_count": 12,
     "metadata": {},
     "output_type": "execute_result"
    }
   ],
   "source": [
    "formatted_data.head()"
   ]
  },
  {
   "cell_type": "code",
   "execution_count": 13,
   "id": "f4dd8732",
   "metadata": {},
   "outputs": [],
   "source": [
    "formatted_data.to_csv('exchange_rates.csv')"
   ]
  },
  {
   "cell_type": "code",
   "execution_count": 23,
   "id": "3b19710e",
   "metadata": {},
   "outputs": [],
   "source": [
    "df_area = pd.read_csv('/Users/sahiyo/PycharmProjects/Data/data_finalProject/area.csv')\n",
    "df_area.head()\n",
    "df_area.columns = [['Region','Year','No of Guests']]\n",
    "df_area.to_csv('df_area.csv')"
   ]
  },
  {
   "cell_type": "code",
   "execution_count": 22,
   "id": "19f13a0f",
   "metadata": {},
   "outputs": [],
   "source": [
    "df_pre = pd.read_csv('/Users/sahiyo/PycharmProjects/Data/data_finalProject/each_prefecture.csv')\n",
    "df_pre.head()\n",
    "df_pre.columns = [['Prefecture','Rate']]\n",
    "df_pre.to_csv('df_pre.csv')"
   ]
  },
  {
   "cell_type": "code",
   "execution_count": 53,
   "id": "460f733f",
   "metadata": {},
   "outputs": [],
   "source": [
    "data = {\n",
    "    'Year': [2009, 2010, 2011, 2012, 2013, 2014, 2015, 2016, 2017, 2018, 2019, 2020, 2021, 2022, 2023],\n",
    "    'Jan': [40742, 41543, 45879, 52059, 49195, 55248, 55173, 58719, 61936, 53101, 53548, 48109, 5421, 21015, 39230],\n",
    "    'Feb': [58944, 70770, 75748, 53236, 78316, 78236, 74507, 96411, 78900, 76520, 70857, 48533, 7084, 4857, 50131],\n",
    "    'Mar': [76489, 86547, 73112, 80363, 87849, 106267, 107665, 111420, 99890, 101837, 83336, 27491, 26678, 41544, 75040],\n",
    "    'Apr': [62035, 69949, 57489, 75979, 81714, 75242, 77539, 67498, 78121, 79120, 75705, 1802, 17128, 37198, 56205],\n",
    "    'May': [116912, 131359, 128726, 122648, 133490, 131785, 146083, 81090, 131864, 112429, 119068, 0, 0, 66566, 89164],\n",
    "    'Jun': [64982, 61044, 73912, 56822, 62303, 64596, 74063, 50269, 69754, 64247, 59299, 6090, 6415, 39050, 52528],\n",
    "    'Jul': [52105, 56158, 57115, 52872, 54202, 56621, 81024, 59916, 60826, 49374, 43950, 11672, 18626, 33611, 40201],\n",
    "    'Aug': [86596, 116774, 101290, 93737, 97540, 92211, 124873, 97940, 89730, 83608, 66005, 14864, 5783, 46088, 55042],\n",
    "    'Sep': [90970, 93836, 88937, 74834, 80998, 82073, 113483, 99340, 71298, 76637, 57850, 24021, 10397, 44605, 53349],\n",
    "    'Oct': [93845, 123515, 109282, 107251, 105784, 99875, 130965, 102862, 94714, 96386, 87290, 40015, 37147, 71116, 76955],\n",
    "    'Nov': [86390, 105510, 100017, 99258, 95912, 112723, 116995, 102360, 94988, 101419, 80483, 60881, 61062, 85866, 81995],\n",
    "    'Dec': [52800, 58410, 57778, 64601, 71241, 83325, 89668, 85821, 73322, 73819, 55435, 40852, 58765, 62529, 50623]\n",
    "}\n",
    "\n",
    "# DataFrameに変換\n",
    "df_glover = pd.DataFrame(data)\n",
    "df_glover = df_glover.melt(id_vars='Year', var_name='Month', value_name='Number')\n",
    "df_glover['name'] = 'Glover Garden'"
   ]
  },
  {
   "cell_type": "code",
   "execution_count": 54,
   "id": "ce8e6311",
   "metadata": {},
   "outputs": [],
   "source": [
    "data = {\n",
    "    'Year': [2009, 2010, 2011, 2012, 2013, 2014, 2015, 2016, 2017, 2018, 2019, 2020, 2021, 2022, 2023],\n",
    "    'Jan': [26185, 25778, 28871, 26707, 27475, 28835, 30778, 29732, 32454, 31593, 35301, 32848, 4249, 14342, 28572],\n",
    "    'Feb': [29576, 38232, 36262, 27994, 30857, 33243, 34111, 37683, 36607, 34861, 37307, 29734, 4795, 2602, 34054],\n",
    "    'Mar': [45102, 48192, 34871, 45016, 41857, 44552, 45941, 49176, 52670, 49242, 47818, 12719, 19792, 25427, 49025],\n",
    "    'Apr': [42330, 43950, 33624, 44896, 44508, 43052, 50523, 38390, 44588, 48051, 51854, 1106, 13835, 29371, 48915],\n",
    "    'May': [97419, 101153, 101178, 96088, 101614, 96153, 102900, 61235, 103355, 95146, 104208, 0, 189, 64311, 103749],\n",
    "    'Jun': [56722, 57542, 71145, 55244, 54495, 54849, 58033, 55391, 58127, 51824, 56386, 3932, 7050, 50022, 62641],\n",
    "    'Jul': [38789, 35020, 33377, 34680, 34570, 37338, 43872, 43776, 44582, 34051, 39242, 8460, 18402, 29443, 39539],\n",
    "    'Aug': [73203, 73711, 65550, 61203, 70732, 63207, 78406, 72943, 72253, 62110, 65575, 17066, 7704, 41518, 57791],\n",
    "    'Sep': [57812, 60277, 56972, 49244, 54090, 60435, 64751, 69568, 56144, 52685, 53959, 22655, 6208, 47197, 56972],\n",
    "    'Oct': [93121, 103511, 93413, 95852, 101053, 89427, 103680, 96153, 95464, 92334, 108372, 56079, 62215, 92594, 107478],\n",
    "    'Nov': [67600, 72098, 70924, 72816, 66763, 80172, 80294, 82962, 75348, 82758, 89317, 64513, 91733, 98993, 105214],\n",
    "    'Dec': [35418, 33927, 28648, 33370, 32924, 36458, 44651, 42027, 39757, 38962, 48433, 33663, 60412, 59133, 47974]\n",
    "}\n",
    "\n",
    "# DataFrameに変換\n",
    "df_atomic = pd.DataFrame(data)\n",
    "df_atomic = df_atomic.melt(id_vars='Year', var_name='Month', value_name='Number')\n",
    "df_atomic['name'] = 'Atomic Bomb Museum'"
   ]
  },
  {
   "cell_type": "code",
   "execution_count": 55,
   "id": "0feef243",
   "metadata": {},
   "outputs": [],
   "source": [
    "data = {\n",
    "    'Year': [2009, 2010, 2011, 2012, 2013, 2014, 2015, 2016, 2017, 2018, 2019, 2020, 2021, 2022, 2023],\n",
    "    'Jan': [14333, 14496, 14165, 17997, 19227, 20837, 20237, 19063, 26021, 30042, 27329, 24937, 2855, 11125, 25528],\n",
    "    'Feb': [22406, 29028, 25465, 20159, 30289, 33363, 29773, 35877, 33395, 43553, 41324, 29642, 3718, 2753, 32116],\n",
    "    'Mar': [27262, 31775, 24004, 31887, 37022, 38675, 39963, 37783, 45518, 51695, 44669, 17079, 16625, 26730, 48046],\n",
    "    'Apr': [21918, 24692, 22032, 26120, 30400, 27506, 28234, 23448, 33448, 42528, 40496, 1103, 10505, 22496, 36066],\n",
    "    'May': [51877, 58675, 56270, 52213, 57752, 55502, 59297, 35241, 66481, 65295, 71698, 0, 0, 41711, 56220],\n",
    "    'Jun': [27770, 27455, 39460, 26154, 27308, 28077, 30145, 20625, 32391, 33574, 31792, 3663, 3823, 24553, 34680],\n",
    "    'Jul': [19847, 20169, 20200, 20520, 21211, 21141, 24571, 20631, 26447, 24001, 23772, 8068, 11905, 21006, 25548],\n",
    "    'Aug': [35313, 38450, 35746, 38416, 40710, 38753, 35928, 33965, 42778, 43254, 39892, 10303, 4060, 30320, 34635],\n",
    "    'Sep': [36484, 36246, 35921, 33115, 36307, 38127, 39808, 38166, 38459, 44414, 36694, 16998, 5477, 30232, 31925],\n",
    "    'Oct': [53531, 60131, 60007, 53485, 56114, 52673, 58973, 51625, 53546, 69005, 59687, 30995, 30753, 51561, 54257],\n",
    "    'Nov': [43361, 43030, 42850, 50242, 49296, 55322, 48291, 54931, 57276, 60852, 54634, 44712, 51833, 61551, 55556],\n",
    "    'Dec': [21484, 19931, 19085, 23499, 26661, 27836, 28164, 33433, 44585, 35768, 28824, 26234, 38010, 40908, 31086]\n",
    "}\n",
    "\n",
    "df_Dejima = pd.DataFrame(data)\n",
    "df_Dejima = df_Dejima.melt(id_vars='Year', var_name='Month', value_name='Number')\n",
    "df_Dejima['name'] = 'Dejima'"
   ]
  },
  {
   "cell_type": "code",
   "execution_count": 56,
   "id": "84333e29",
   "metadata": {},
   "outputs": [],
   "source": [
    "data = {\n",
    "    'Year': [2009, 2010, 2011, 2012, 2013, 2014, 2015, 2016, 2017, 2018, 2019, 2020, 2021, 2022, 2023],\n",
    "    'Jan': [0, 0, 1356, 3872, 5423, 9087, 9575, 16646, 14672, 14995, 0, 0, 1242, 5188, 6250],\n",
    "    'Feb': [0, 3769, 6178, 5358, 8651, 14522, 15261, 21234, 17343, 19778, 22357, 3829, 0, 311, 14155],\n",
    "    'Mar': [0, 4755, 5541, 6713, 11139, 17379, 23822, 31096, 29819, 29835, 25873, 11064, 6656, 12172, 23827],\n",
    "    'Apr': [0, 5731, 4368, 7198, 9488, 14256, 15647, 19257, 20446, 19869, 22798, 565, 4211, 12564, 11177],\n",
    "    'May': [0, 8773, 10018, 11422, 14300, 20384, 27265, 19025, 31421, 27270, 27400, 0, 0, 17702, 19791],\n",
    "    'Jun': [0, 5316, 4839, 5905, 8839, 15860, 22802, 14425, 23255, 21122, 22750, 352, 1164, 6657, 11294],\n",
    "    'Jul': [0, 5407, 8528, 6306, 8330, 2725, 17830, 16436, 22322, 14878, 12587, 2547, 3774, 3055, 2567],\n",
    "    'Aug': [0, 9262, 10279, 10858, 17383, 12147, 22184, 32621, 26609, 23260, 12841, 4436, 934, 6207, 18871],\n",
    "    'Sep': [0, 10692, 12184, 8638, 17448, 22113, 29734, 23169, 25511, 23898, 11666, 0, 2385, 4005, 18621],\n",
    "    'Oct': [0, 12529, 14529, 12894, 18665, 18191, 30718, 26470, 28408, 2740, 0, 6396, 10548, 19865, 23865],\n",
    "    'Nov': [0, 10825, 10273, 10880, 18732, 24098, 28670, 31193, 32786, 0, 0, 17285, 12020, 23107, 18022],\n",
    "    'Dec': [0, 3360, 4959, 3483, 13169, 13234, 23112, 21047, 16299, 0, 0, 13571, 5965, 12723, 13198]\n",
    "}\n",
    "df_hashima = pd.DataFrame(data)\n",
    "df_hashima = df_hashima.melt(id_vars='Year', var_name='Month', value_name='Number')\n",
    "df_hashima['name'] = 'Hashima'"
   ]
  },
  {
   "cell_type": "code",
   "execution_count": 61,
   "id": "84847454",
   "metadata": {},
   "outputs": [],
   "source": [
    "df_facilities = pd.concat([df_atomic, df_Dejima, df_glover, df_hashima])\n",
    "df_facilities['Date'] = pd.to_datetime(df_facilities['Year'].astype(str) + '-' + df_facilities['Month'] + '-01')"
   ]
  },
  {
   "cell_type": "code",
   "execution_count": 62,
   "id": "116992c5",
   "metadata": {},
   "outputs": [
    {
     "name": "stdout",
     "output_type": "stream",
     "text": [
      "<class 'pandas.core.frame.DataFrame'>\n",
      "Int64Index: 720 entries, 0 to 179\n",
      "Data columns (total 5 columns):\n",
      " #   Column  Non-Null Count  Dtype         \n",
      "---  ------  --------------  -----         \n",
      " 0   Year    720 non-null    int64         \n",
      " 1   Month   720 non-null    object        \n",
      " 2   Number  720 non-null    int64         \n",
      " 3   name    720 non-null    object        \n",
      " 4   Date    720 non-null    datetime64[ns]\n",
      "dtypes: datetime64[ns](1), int64(2), object(2)\n",
      "memory usage: 33.8+ KB\n"
     ]
    }
   ],
   "source": [
    "df_facilities.info()"
   ]
  },
  {
   "cell_type": "code",
   "execution_count": 65,
   "id": "693d456a",
   "metadata": {},
   "outputs": [],
   "source": [
    "df_facilities = df_facilities[['name','Date','Number']]\n",
    "df_facilities.to_csv('df_facilities.csv')"
   ]
  },
  {
   "cell_type": "code",
   "execution_count": null,
   "id": "1beb2798",
   "metadata": {},
   "outputs": [],
   "source": []
  }
 ],
 "metadata": {
  "kernelspec": {
   "display_name": "Python 3 (ipykernel)",
   "language": "python",
   "name": "python3"
  },
  "language_info": {
   "codemirror_mode": {
    "name": "ipython",
    "version": 3
   },
   "file_extension": ".py",
   "mimetype": "text/x-python",
   "name": "python",
   "nbconvert_exporter": "python",
   "pygments_lexer": "ipython3",
   "version": "3.9.13"
  }
 },
 "nbformat": 4,
 "nbformat_minor": 5
}
