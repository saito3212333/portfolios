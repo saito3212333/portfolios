{
 "cells": [
  {
   "cell_type": "code",
   "execution_count": 1,
   "id": "100b3083",
   "metadata": {},
   "outputs": [],
   "source": [
    "import pandas as pd\n",
    "import datetime"
   ]
  },
  {
   "cell_type": "markdown",
   "id": "94a3d21e",
   "metadata": {},
   "source": [
    "# tendency of visitors"
   ]
  },
  {
   "cell_type": "code",
   "execution_count": 2,
   "id": "8c12b630",
   "metadata": {},
   "outputs": [
    {
     "name": "stdout",
     "output_type": "stream",
     "text": [
      "<class 'pandas.core.frame.DataFrame'>\n",
      "RangeIndex: 49668 entries, 0 to 49667\n",
      "Data columns (total 5 columns):\n",
      " #   Column            Non-Null Count  Dtype \n",
      "---  ------            --------------  ----- \n",
      " 0   Country/Area      49668 non-null  object\n",
      " 1   Month (abbr)      49668 non-null  object\n",
      " 2   Year              49668 non-null  int64 \n",
      " 3   Visitor Arrivals  49641 non-null  object\n",
      " 4   Growth Rate(%)    46732 non-null  object\n",
      "dtypes: int64(1), object(4)\n",
      "memory usage: 1.9+ MB\n"
     ]
    }
   ],
   "source": [
    "df_tendency = pd.read_csv('/Users/sahiyo/PycharmProjects/Data/data_finalProject/monthly_on_visitors.csv')\n",
    "df_tendency.info()"
   ]
  },
  {
   "cell_type": "code",
   "execution_count": 3,
   "id": "a9ef8679",
   "metadata": {},
   "outputs": [
    {
     "data": {
      "text/html": [
       "<div>\n",
       "<style scoped>\n",
       "    .dataframe tbody tr th:only-of-type {\n",
       "        vertical-align: middle;\n",
       "    }\n",
       "\n",
       "    .dataframe tbody tr th {\n",
       "        vertical-align: top;\n",
       "    }\n",
       "\n",
       "    .dataframe thead th {\n",
       "        text-align: right;\n",
       "    }\n",
       "</style>\n",
       "<table border=\"1\" class=\"dataframe\">\n",
       "  <thead>\n",
       "    <tr style=\"text-align: right;\">\n",
       "      <th></th>\n",
       "      <th>Country/Area</th>\n",
       "      <th>Month (abbr)</th>\n",
       "      <th>Year</th>\n",
       "      <th>Visitor Arrivals</th>\n",
       "      <th>Growth Rate(%)</th>\n",
       "    </tr>\n",
       "  </thead>\n",
       "  <tbody>\n",
       "    <tr>\n",
       "      <th>0</th>\n",
       "      <td>Afghanistan</td>\n",
       "      <td>Jan.</td>\n",
       "      <td>2012</td>\n",
       "      <td>204</td>\n",
       "      <td>-93.525864805</td>\n",
       "    </tr>\n",
       "    <tr>\n",
       "      <th>1</th>\n",
       "      <td>Afghanistan</td>\n",
       "      <td>Feb.</td>\n",
       "      <td>2012</td>\n",
       "      <td>152</td>\n",
       "      <td>-95.490952240</td>\n",
       "    </tr>\n",
       "    <tr>\n",
       "      <th>2</th>\n",
       "      <td>Afghanistan</td>\n",
       "      <td>Mar.</td>\n",
       "      <td>2012</td>\n",
       "      <td>131</td>\n",
       "      <td>-95.931677019</td>\n",
       "    </tr>\n",
       "    <tr>\n",
       "      <th>3</th>\n",
       "      <td>Afghanistan</td>\n",
       "      <td>Apr.</td>\n",
       "      <td>2012</td>\n",
       "      <td>141</td>\n",
       "      <td>-96.276736203</td>\n",
       "    </tr>\n",
       "    <tr>\n",
       "      <th>4</th>\n",
       "      <td>Afghanistan</td>\n",
       "      <td>May</td>\n",
       "      <td>2012</td>\n",
       "      <td>150</td>\n",
       "      <td>-94.309559939</td>\n",
       "    </tr>\n",
       "  </tbody>\n",
       "</table>\n",
       "</div>"
      ],
      "text/plain": [
       "  Country/Area Month (abbr)  Year Visitor Arrivals Growth Rate(%)\n",
       "0  Afghanistan         Jan.  2012              204  -93.525864805\n",
       "1  Afghanistan         Feb.  2012              152  -95.490952240\n",
       "2  Afghanistan         Mar.  2012              131  -95.931677019\n",
       "3  Afghanistan         Apr.  2012              141  -96.276736203\n",
       "4  Afghanistan          May  2012              150  -94.309559939"
      ]
     },
     "execution_count": 3,
     "metadata": {},
     "output_type": "execute_result"
    }
   ],
   "source": [
    "df_tendency.head()"
   ]
  },
  {
   "cell_type": "code",
   "execution_count": 4,
   "id": "aefe2c1d",
   "metadata": {},
   "outputs": [
    {
     "data": {
      "text/html": [
       "<div>\n",
       "<style scoped>\n",
       "    .dataframe tbody tr th:only-of-type {\n",
       "        vertical-align: middle;\n",
       "    }\n",
       "\n",
       "    .dataframe tbody tr th {\n",
       "        vertical-align: top;\n",
       "    }\n",
       "\n",
       "    .dataframe thead th {\n",
       "        text-align: right;\n",
       "    }\n",
       "</style>\n",
       "<table border=\"1\" class=\"dataframe\">\n",
       "  <thead>\n",
       "    <tr style=\"text-align: right;\">\n",
       "      <th></th>\n",
       "      <th>Country/Area</th>\n",
       "      <th>Month (abbr)</th>\n",
       "      <th>Year</th>\n",
       "      <th>Visitor Arrivals</th>\n",
       "      <th>Growth Rate(%)</th>\n",
       "      <th>date</th>\n",
       "    </tr>\n",
       "  </thead>\n",
       "  <tbody>\n",
       "    <tr>\n",
       "      <th>0</th>\n",
       "      <td>Afghanistan</td>\n",
       "      <td>Jan.</td>\n",
       "      <td>2012</td>\n",
       "      <td>204</td>\n",
       "      <td>-93.525864805</td>\n",
       "      <td>2012-01-01</td>\n",
       "    </tr>\n",
       "    <tr>\n",
       "      <th>1</th>\n",
       "      <td>Afghanistan</td>\n",
       "      <td>Feb.</td>\n",
       "      <td>2012</td>\n",
       "      <td>152</td>\n",
       "      <td>-95.490952240</td>\n",
       "      <td>2012-02-01</td>\n",
       "    </tr>\n",
       "    <tr>\n",
       "      <th>2</th>\n",
       "      <td>Afghanistan</td>\n",
       "      <td>Mar.</td>\n",
       "      <td>2012</td>\n",
       "      <td>131</td>\n",
       "      <td>-95.931677019</td>\n",
       "      <td>2012-03-01</td>\n",
       "    </tr>\n",
       "    <tr>\n",
       "      <th>3</th>\n",
       "      <td>Afghanistan</td>\n",
       "      <td>Apr.</td>\n",
       "      <td>2012</td>\n",
       "      <td>141</td>\n",
       "      <td>-96.276736203</td>\n",
       "      <td>2012-04-01</td>\n",
       "    </tr>\n",
       "    <tr>\n",
       "      <th>4</th>\n",
       "      <td>Afghanistan</td>\n",
       "      <td>May</td>\n",
       "      <td>2012</td>\n",
       "      <td>150</td>\n",
       "      <td>-94.309559939</td>\n",
       "      <td>2012-05-01</td>\n",
       "    </tr>\n",
       "  </tbody>\n",
       "</table>\n",
       "</div>"
      ],
      "text/plain": [
       "  Country/Area Month (abbr)  Year Visitor Arrivals Growth Rate(%)       date\n",
       "0  Afghanistan         Jan.  2012              204  -93.525864805 2012-01-01\n",
       "1  Afghanistan         Feb.  2012              152  -95.490952240 2012-02-01\n",
       "2  Afghanistan         Mar.  2012              131  -95.931677019 2012-03-01\n",
       "3  Afghanistan         Apr.  2012              141  -96.276736203 2012-04-01\n",
       "4  Afghanistan          May  2012              150  -94.309559939 2012-05-01"
      ]
     },
     "execution_count": 4,
     "metadata": {},
     "output_type": "execute_result"
    }
   ],
   "source": [
    "df_tendency['date'] = pd.to_datetime(df_tendency['Year'].astype(str) + '-' + df_tendency['Month (abbr)'] + '-01')\n",
    "df_tendency.head()"
   ]
  },
  {
   "cell_type": "code",
   "execution_count": 5,
   "id": "d8c66929",
   "metadata": {},
   "outputs": [
    {
     "name": "stdout",
     "output_type": "stream",
     "text": [
      "<class 'pandas.core.frame.DataFrame'>\n",
      "RangeIndex: 49668 entries, 0 to 49667\n",
      "Data columns (total 6 columns):\n",
      " #   Column            Non-Null Count  Dtype         \n",
      "---  ------            --------------  -----         \n",
      " 0   Country/Area      49668 non-null  object        \n",
      " 1   Month (abbr)      49668 non-null  object        \n",
      " 2   Year              49668 non-null  int64         \n",
      " 3   Visitor Arrivals  49641 non-null  object        \n",
      " 4   Growth Rate(%)    46732 non-null  object        \n",
      " 5   date              49668 non-null  datetime64[ns]\n",
      "dtypes: datetime64[ns](1), int64(1), object(4)\n",
      "memory usage: 2.3+ MB\n"
     ]
    }
   ],
   "source": [
    "df_tendency.info() # check whether it was changed correctly or not"
   ]
  },
  {
   "cell_type": "code",
   "execution_count": 6,
   "id": "4f20a498",
   "metadata": {
    "scrolled": true
   },
   "outputs": [
    {
     "data": {
      "text/plain": [
       "Country/Area           0\n",
       "Month (abbr)           0\n",
       "Year                   0\n",
       "Visitor Arrivals      27\n",
       "Growth Rate(%)      2936\n",
       "date                   0\n",
       "dtype: int64"
      ]
     },
     "execution_count": 6,
     "metadata": {},
     "output_type": "execute_result"
    }
   ],
   "source": [
    "df_tendency.isnull().sum() # Check the missing value"
   ]
  },
  {
   "cell_type": "code",
   "execution_count": 7,
   "id": "40449484",
   "metadata": {},
   "outputs": [
    {
     "data": {
      "text/html": [
       "<div>\n",
       "<style scoped>\n",
       "    .dataframe tbody tr th:only-of-type {\n",
       "        vertical-align: middle;\n",
       "    }\n",
       "\n",
       "    .dataframe tbody tr th {\n",
       "        vertical-align: top;\n",
       "    }\n",
       "\n",
       "    .dataframe thead th {\n",
       "        text-align: right;\n",
       "    }\n",
       "</style>\n",
       "<table border=\"1\" class=\"dataframe\">\n",
       "  <thead>\n",
       "    <tr style=\"text-align: right;\">\n",
       "      <th></th>\n",
       "      <th>Country/Area</th>\n",
       "      <th>Month (abbr)</th>\n",
       "      <th>Year</th>\n",
       "      <th>Visitor Arrivals</th>\n",
       "      <th>Growth Rate(%)</th>\n",
       "      <th>date</th>\n",
       "    </tr>\n",
       "  </thead>\n",
       "  <tbody>\n",
       "    <tr>\n",
       "      <th>112</th>\n",
       "      <td>Afghanistan</td>\n",
       "      <td>May</td>\n",
       "      <td>2021</td>\n",
       "      <td>121</td>\n",
       "      <td>NaN</td>\n",
       "      <td>2021-05-01</td>\n",
       "    </tr>\n",
       "    <tr>\n",
       "      <th>244</th>\n",
       "      <td>Albania</td>\n",
       "      <td>May</td>\n",
       "      <td>2020</td>\n",
       "      <td>0</td>\n",
       "      <td>NaN</td>\n",
       "      <td>2020-05-01</td>\n",
       "    </tr>\n",
       "    <tr>\n",
       "      <th>387</th>\n",
       "      <td>Algeria</td>\n",
       "      <td>Apr.</td>\n",
       "      <td>2020</td>\n",
       "      <td>0</td>\n",
       "      <td>NaN</td>\n",
       "      <td>2020-04-01</td>\n",
       "    </tr>\n",
       "    <tr>\n",
       "      <th>388</th>\n",
       "      <td>Algeria</td>\n",
       "      <td>May</td>\n",
       "      <td>2020</td>\n",
       "      <td>0</td>\n",
       "      <td>NaN</td>\n",
       "      <td>2020-05-01</td>\n",
       "    </tr>\n",
       "    <tr>\n",
       "      <th>389</th>\n",
       "      <td>Algeria</td>\n",
       "      <td>Jun.</td>\n",
       "      <td>2020</td>\n",
       "      <td>0</td>\n",
       "      <td>NaN</td>\n",
       "      <td>2020-06-01</td>\n",
       "    </tr>\n",
       "    <tr>\n",
       "      <th>...</th>\n",
       "      <td>...</td>\n",
       "      <td>...</td>\n",
       "      <td>...</td>\n",
       "      <td>...</td>\n",
       "      <td>...</td>\n",
       "      <td>...</td>\n",
       "    </tr>\n",
       "    <tr>\n",
       "      <th>49501</th>\n",
       "      <td>Zambia</td>\n",
       "      <td>Feb.</td>\n",
       "      <td>2022</td>\n",
       "      <td>5</td>\n",
       "      <td>NaN</td>\n",
       "      <td>2022-02-01</td>\n",
       "    </tr>\n",
       "    <tr>\n",
       "      <th>49623</th>\n",
       "      <td>Zimbabwe</td>\n",
       "      <td>Apr.</td>\n",
       "      <td>2020</td>\n",
       "      <td>3</td>\n",
       "      <td>NaN</td>\n",
       "      <td>2020-04-01</td>\n",
       "    </tr>\n",
       "    <tr>\n",
       "      <th>49624</th>\n",
       "      <td>Zimbabwe</td>\n",
       "      <td>May</td>\n",
       "      <td>2020</td>\n",
       "      <td>0</td>\n",
       "      <td>NaN</td>\n",
       "      <td>2020-05-01</td>\n",
       "    </tr>\n",
       "    <tr>\n",
       "      <th>49625</th>\n",
       "      <td>Zimbabwe</td>\n",
       "      <td>Jun.</td>\n",
       "      <td>2020</td>\n",
       "      <td>1</td>\n",
       "      <td>NaN</td>\n",
       "      <td>2020-06-01</td>\n",
       "    </tr>\n",
       "    <tr>\n",
       "      <th>49626</th>\n",
       "      <td>Zimbabwe</td>\n",
       "      <td>Jul.</td>\n",
       "      <td>2020</td>\n",
       "      <td>2</td>\n",
       "      <td>NaN</td>\n",
       "      <td>2020-07-01</td>\n",
       "    </tr>\n",
       "  </tbody>\n",
       "</table>\n",
       "<p>2936 rows × 6 columns</p>\n",
       "</div>"
      ],
      "text/plain": [
       "      Country/Area Month (abbr)  Year Visitor Arrivals Growth Rate(%)  \\\n",
       "112    Afghanistan          May  2021              121            NaN   \n",
       "244        Albania          May  2020                0            NaN   \n",
       "387        Algeria         Apr.  2020                0            NaN   \n",
       "388        Algeria          May  2020                0            NaN   \n",
       "389        Algeria         Jun.  2020                0            NaN   \n",
       "...            ...          ...   ...              ...            ...   \n",
       "49501       Zambia         Feb.  2022                5            NaN   \n",
       "49623     Zimbabwe         Apr.  2020                3            NaN   \n",
       "49624     Zimbabwe          May  2020                0            NaN   \n",
       "49625     Zimbabwe         Jun.  2020                1            NaN   \n",
       "49626     Zimbabwe         Jul.  2020                2            NaN   \n",
       "\n",
       "            date  \n",
       "112   2021-05-01  \n",
       "244   2020-05-01  \n",
       "387   2020-04-01  \n",
       "388   2020-05-01  \n",
       "389   2020-06-01  \n",
       "...          ...  \n",
       "49501 2022-02-01  \n",
       "49623 2020-04-01  \n",
       "49624 2020-05-01  \n",
       "49625 2020-06-01  \n",
       "49626 2020-07-01  \n",
       "\n",
       "[2936 rows x 6 columns]"
      ]
     },
     "execution_count": 7,
     "metadata": {},
     "output_type": "execute_result"
    }
   ],
   "source": [
    "df_tendency[df_tendency.isnull().any(axis=1)]\n",
    "# Given that result, I can ignore the null value."
   ]
  },
  {
   "cell_type": "code",
   "execution_count": 8,
   "id": "51081a37",
   "metadata": {},
   "outputs": [
    {
     "data": {
      "text/html": [
       "<div>\n",
       "<style scoped>\n",
       "    .dataframe tbody tr th:only-of-type {\n",
       "        vertical-align: middle;\n",
       "    }\n",
       "\n",
       "    .dataframe tbody tr th {\n",
       "        vertical-align: top;\n",
       "    }\n",
       "\n",
       "    .dataframe thead th {\n",
       "        text-align: right;\n",
       "    }\n",
       "</style>\n",
       "<table border=\"1\" class=\"dataframe\">\n",
       "  <thead>\n",
       "    <tr style=\"text-align: right;\">\n",
       "      <th></th>\n",
       "      <th>Country/Area</th>\n",
       "      <th>Month (abbr)</th>\n",
       "      <th>Year</th>\n",
       "      <th>Visitor Arrivals</th>\n",
       "      <th>Growth Rate(%)</th>\n",
       "      <th>date</th>\n",
       "    </tr>\n",
       "  </thead>\n",
       "  <tbody>\n",
       "  </tbody>\n",
       "</table>\n",
       "</div>"
      ],
      "text/plain": [
       "Empty DataFrame\n",
       "Columns: [Country/Area, Month (abbr), Year, Visitor Arrivals, Growth Rate(%), date]\n",
       "Index: []"
      ]
     },
     "execution_count": 8,
     "metadata": {},
     "output_type": "execute_result"
    }
   ],
   "source": [
    "df_tendency[df_tendency.duplicated()]\n",
    "# output no duplicated"
   ]
  },
  {
   "cell_type": "code",
   "execution_count": 9,
   "id": "0f03d0f8",
   "metadata": {},
   "outputs": [],
   "source": [
    "df_tendency = df_tendency[['Country/Area','Visitor Arrivals','date']]"
   ]
  },
  {
   "cell_type": "code",
   "execution_count": 10,
   "id": "bfde1fd0",
   "metadata": {},
   "outputs": [],
   "source": [
    "df_tendency.columns = [['Country','NoVisitors','Date']]"
   ]
  },
  {
   "cell_type": "code",
   "execution_count": 11,
   "id": "4651e056",
   "metadata": {
    "scrolled": true
   },
   "outputs": [
    {
     "data": {
      "text/html": [
       "<div>\n",
       "<style scoped>\n",
       "    .dataframe tbody tr th:only-of-type {\n",
       "        vertical-align: middle;\n",
       "    }\n",
       "\n",
       "    .dataframe tbody tr th {\n",
       "        vertical-align: top;\n",
       "    }\n",
       "\n",
       "    .dataframe thead tr th {\n",
       "        text-align: left;\n",
       "    }\n",
       "</style>\n",
       "<table border=\"1\" class=\"dataframe\">\n",
       "  <thead>\n",
       "    <tr>\n",
       "      <th></th>\n",
       "      <th>Country</th>\n",
       "      <th>NoVisitors</th>\n",
       "      <th>Date</th>\n",
       "    </tr>\n",
       "  </thead>\n",
       "  <tbody>\n",
       "    <tr>\n",
       "      <th>0</th>\n",
       "      <td>Afghanistan</td>\n",
       "      <td>204</td>\n",
       "      <td>2012-01-01</td>\n",
       "    </tr>\n",
       "    <tr>\n",
       "      <th>1</th>\n",
       "      <td>Afghanistan</td>\n",
       "      <td>152</td>\n",
       "      <td>2012-02-01</td>\n",
       "    </tr>\n",
       "    <tr>\n",
       "      <th>2</th>\n",
       "      <td>Afghanistan</td>\n",
       "      <td>131</td>\n",
       "      <td>2012-03-01</td>\n",
       "    </tr>\n",
       "    <tr>\n",
       "      <th>3</th>\n",
       "      <td>Afghanistan</td>\n",
       "      <td>141</td>\n",
       "      <td>2012-04-01</td>\n",
       "    </tr>\n",
       "    <tr>\n",
       "      <th>4</th>\n",
       "      <td>Afghanistan</td>\n",
       "      <td>150</td>\n",
       "      <td>2012-05-01</td>\n",
       "    </tr>\n",
       "  </tbody>\n",
       "</table>\n",
       "</div>"
      ],
      "text/plain": [
       "       Country NoVisitors       Date\n",
       "0  Afghanistan        204 2012-01-01\n",
       "1  Afghanistan        152 2012-02-01\n",
       "2  Afghanistan        131 2012-03-01\n",
       "3  Afghanistan        141 2012-04-01\n",
       "4  Afghanistan        150 2012-05-01"
      ]
     },
     "execution_count": 11,
     "metadata": {},
     "output_type": "execute_result"
    }
   ],
   "source": [
    "df_tendency.head()"
   ]
  },
  {
   "cell_type": "code",
   "execution_count": 12,
   "id": "49e306b3",
   "metadata": {},
   "outputs": [],
   "source": [
    "df_tendency.to_csv('df_tendency.csv')"
   ]
  },
  {
   "cell_type": "markdown",
   "id": "09aabc68",
   "metadata": {},
   "source": [
    "# exchange_rates_df"
   ]
  },
  {
   "cell_type": "code",
   "execution_count": 13,
   "id": "29f6d120",
   "metadata": {},
   "outputs": [
    {
     "name": "stderr",
     "output_type": "stream",
     "text": [
      "[*********************100%%**********************]  1 of 1 completed\n",
      "[*********************100%%**********************]  1 of 1 completed\n",
      "[*********************100%%**********************]  1 of 1 completed\n",
      "[*********************100%%**********************]  1 of 1 completed\n"
     ]
    }
   ],
   "source": [
    "# I  get the data with Web site API.\n",
    "\n",
    "import yfinance as yf\n",
    "\n",
    "currency_pairs = ['USDJPY=X', 'EURJPY=X', 'GBPJPY=X', 'CNYJPY=X']\n",
    "\n",
    "start_date = '2012-01-01'\n",
    "end_date = '2024-04-01'\n",
    "\n",
    "\n",
    "daily_dates = pd.date_range(start=start_date, end=end_date)\n",
    "exchange_rates_df = pd.DataFrame(index=daily_dates, columns=currency_pairs)\n",
    "\n",
    "\n",
    "for pair in currency_pairs:\n",
    "    data = yf.download(pair, start=start_date, end=end_date)\n",
    "    if not data.empty:\n",
    "        exchange_rates_df[pair] = data['Adj Close']\n",
    "\n",
    "exchange_rates_df.dropna(inplace=True)"
   ]
  },
  {
   "cell_type": "code",
   "execution_count": 14,
   "id": "fde9b262",
   "metadata": {
    "scrolled": true
   },
   "outputs": [
    {
     "data": {
      "text/plain": [
       "USDJPY=X    0\n",
       "EURJPY=X    0\n",
       "GBPJPY=X    0\n",
       "CNYJPY=X    0\n",
       "dtype: int64"
      ]
     },
     "execution_count": 14,
     "metadata": {},
     "output_type": "execute_result"
    }
   ],
   "source": [
    "exchange_rates_df.isnull().sum() # check the null"
   ]
  },
  {
   "cell_type": "code",
   "execution_count": 15,
   "id": "0571d9fa",
   "metadata": {},
   "outputs": [
    {
     "data": {
      "text/plain": [
       "Index(['USDJPY=X', 'EURJPY=X', 'GBPJPY=X', 'CNYJPY=X'], dtype='object')"
      ]
     },
     "execution_count": 15,
     "metadata": {},
     "output_type": "execute_result"
    }
   ],
   "source": [
    "exchange_rates_df.columns"
   ]
  },
  {
   "cell_type": "code",
   "execution_count": 16,
   "id": "062931e3",
   "metadata": {},
   "outputs": [],
   "source": [
    "exchange_rates_df.index = exchange_rates_df.index.strftime('%Y-%m-%d')\n",
    "exchange_rates_df.columns = [['USD','EUR','GBP','CNY']]"
   ]
  },
  {
   "cell_type": "code",
   "execution_count": 17,
   "id": "2f44ff07",
   "metadata": {},
   "outputs": [
    {
     "data": {
      "text/html": [
       "<div>\n",
       "<style scoped>\n",
       "    .dataframe tbody tr th:only-of-type {\n",
       "        vertical-align: middle;\n",
       "    }\n",
       "\n",
       "    .dataframe tbody tr th {\n",
       "        vertical-align: top;\n",
       "    }\n",
       "\n",
       "    .dataframe thead tr th {\n",
       "        text-align: left;\n",
       "    }\n",
       "</style>\n",
       "<table border=\"1\" class=\"dataframe\">\n",
       "  <thead>\n",
       "    <tr>\n",
       "      <th></th>\n",
       "      <th>USD</th>\n",
       "      <th>EUR</th>\n",
       "      <th>GBP</th>\n",
       "      <th>CNY</th>\n",
       "    </tr>\n",
       "  </thead>\n",
       "  <tbody>\n",
       "    <tr>\n",
       "      <th>2012-01-02</th>\n",
       "      <td>77.019997</td>\n",
       "      <td>99.610001</td>\n",
       "      <td>119.519997</td>\n",
       "      <td>12.191</td>\n",
       "    </tr>\n",
       "    <tr>\n",
       "      <th>2012-01-03</th>\n",
       "      <td>76.930000</td>\n",
       "      <td>99.531998</td>\n",
       "      <td>119.370003</td>\n",
       "      <td>12.226</td>\n",
       "    </tr>\n",
       "    <tr>\n",
       "      <th>2012-01-04</th>\n",
       "      <td>76.722000</td>\n",
       "      <td>100.146004</td>\n",
       "      <td>120.010002</td>\n",
       "      <td>12.175</td>\n",
       "    </tr>\n",
       "    <tr>\n",
       "      <th>2012-01-05</th>\n",
       "      <td>76.709999</td>\n",
       "      <td>99.190002</td>\n",
       "      <td>119.703003</td>\n",
       "      <td>12.171</td>\n",
       "    </tr>\n",
       "    <tr>\n",
       "      <th>2012-01-06</th>\n",
       "      <td>77.151001</td>\n",
       "      <td>98.707001</td>\n",
       "      <td>119.570000</td>\n",
       "      <td>12.237</td>\n",
       "    </tr>\n",
       "  </tbody>\n",
       "</table>\n",
       "</div>"
      ],
      "text/plain": [
       "                  USD         EUR         GBP     CNY\n",
       "2012-01-02  77.019997   99.610001  119.519997  12.191\n",
       "2012-01-03  76.930000   99.531998  119.370003  12.226\n",
       "2012-01-04  76.722000  100.146004  120.010002  12.175\n",
       "2012-01-05  76.709999   99.190002  119.703003  12.171\n",
       "2012-01-06  77.151001   98.707001  119.570000  12.237"
      ]
     },
     "execution_count": 17,
     "metadata": {},
     "output_type": "execute_result"
    }
   ],
   "source": [
    "exchange_rates_df.head()"
   ]
  },
  {
   "cell_type": "code",
   "execution_count": 18,
   "id": "f4dd8732",
   "metadata": {},
   "outputs": [],
   "source": [
    "exchange_rates_df.to_csv('exchange_rates.csv')"
   ]
  },
  {
   "cell_type": "code",
   "execution_count": null,
   "id": "3b19710e",
   "metadata": {},
   "outputs": [],
   "source": []
  }
 ],
 "metadata": {
  "kernelspec": {
   "display_name": "Python 3 (ipykernel)",
   "language": "python",
   "name": "python3"
  },
  "language_info": {
   "codemirror_mode": {
    "name": "ipython",
    "version": 3
   },
   "file_extension": ".py",
   "mimetype": "text/x-python",
   "name": "python",
   "nbconvert_exporter": "python",
   "pygments_lexer": "ipython3",
   "version": "3.9.13"
  }
 },
 "nbformat": 4,
 "nbformat_minor": 5
}
