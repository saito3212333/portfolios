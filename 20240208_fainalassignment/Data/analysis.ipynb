{
 "cells": [
  {
   "cell_type": "code",
   "execution_count": 1,
   "id": "initial_id",
   "metadata": {
    "collapsed": true,
    "ExecuteTime": {
     "end_time": "2024-02-08T22:08:12.445985Z",
     "start_time": "2024-02-08T22:08:11.478887Z"
    }
   },
   "outputs": [],
   "source": [
    "import pandas as pd"
   ]
  },
  {
   "cell_type": "code",
   "outputs": [],
   "source": [
    "\n",
    "books = pd.read_csv('books_data.csv')\n",
    "book_rating = pd.read_csv('Books_rating.csv')\n"
   ],
   "metadata": {
    "collapsed": false,
    "ExecuteTime": {
     "end_time": "2024-02-08T22:10:41.671096Z",
     "start_time": "2024-02-08T22:10:11.786203Z"
    }
   },
   "id": "8c7f8d8349b97725",
   "execution_count": 5
  },
  {
   "cell_type": "code",
   "outputs": [
    {
     "data": {
      "text/plain": "       ratingsCount\ncount  49752.000000\nmean      21.252975\nstd      201.340431\nmin        1.000000\n25%        1.000000\n50%        2.000000\n75%        5.000000\nmax     4895.000000",
      "text/html": "<div>\n<style scoped>\n    .dataframe tbody tr th:only-of-type {\n        vertical-align: middle;\n    }\n\n    .dataframe tbody tr th {\n        vertical-align: top;\n    }\n\n    .dataframe thead th {\n        text-align: right;\n    }\n</style>\n<table border=\"1\" class=\"dataframe\">\n  <thead>\n    <tr style=\"text-align: right;\">\n      <th></th>\n      <th>ratingsCount</th>\n    </tr>\n  </thead>\n  <tbody>\n    <tr>\n      <th>count</th>\n      <td>49752.000000</td>\n    </tr>\n    <tr>\n      <th>mean</th>\n      <td>21.252975</td>\n    </tr>\n    <tr>\n      <th>std</th>\n      <td>201.340431</td>\n    </tr>\n    <tr>\n      <th>min</th>\n      <td>1.000000</td>\n    </tr>\n    <tr>\n      <th>25%</th>\n      <td>1.000000</td>\n    </tr>\n    <tr>\n      <th>50%</th>\n      <td>2.000000</td>\n    </tr>\n    <tr>\n      <th>75%</th>\n      <td>5.000000</td>\n    </tr>\n    <tr>\n      <th>max</th>\n      <td>4895.000000</td>\n    </tr>\n  </tbody>\n</table>\n</div>"
     },
     "execution_count": 6,
     "metadata": {},
     "output_type": "execute_result"
    }
   ],
   "source": [
    "books.describe()"
   ],
   "metadata": {
    "collapsed": false,
    "ExecuteTime": {
     "end_time": "2024-02-08T22:10:41.686935Z",
     "start_time": "2024-02-08T22:10:41.671602Z"
    }
   },
   "id": "37d62c874b3d8e7c",
   "execution_count": 6
  },
  {
   "cell_type": "code",
   "outputs": [
    {
     "data": {
      "text/plain": "               Price  review/score   review/time\ncount  481171.000000  3.000000e+06  3.000000e+06\nmean       21.762656  4.215289e+00  1.132307e+09\nstd        26.206541  1.203054e+00  1.493202e+08\nmin         1.000000  1.000000e+00 -1.000000e+00\n25%        10.780000  4.000000e+00  9.999072e+08\n50%        14.930000  5.000000e+00  1.128298e+09\n75%        23.950000  5.000000e+00  1.269130e+09\nmax       995.000000  5.000000e+00  1.362355e+09",
      "text/html": "<div>\n<style scoped>\n    .dataframe tbody tr th:only-of-type {\n        vertical-align: middle;\n    }\n\n    .dataframe tbody tr th {\n        vertical-align: top;\n    }\n\n    .dataframe thead th {\n        text-align: right;\n    }\n</style>\n<table border=\"1\" class=\"dataframe\">\n  <thead>\n    <tr style=\"text-align: right;\">\n      <th></th>\n      <th>Price</th>\n      <th>review/score</th>\n      <th>review/time</th>\n    </tr>\n  </thead>\n  <tbody>\n    <tr>\n      <th>count</th>\n      <td>481171.000000</td>\n      <td>3.000000e+06</td>\n      <td>3.000000e+06</td>\n    </tr>\n    <tr>\n      <th>mean</th>\n      <td>21.762656</td>\n      <td>4.215289e+00</td>\n      <td>1.132307e+09</td>\n    </tr>\n    <tr>\n      <th>std</th>\n      <td>26.206541</td>\n      <td>1.203054e+00</td>\n      <td>1.493202e+08</td>\n    </tr>\n    <tr>\n      <th>min</th>\n      <td>1.000000</td>\n      <td>1.000000e+00</td>\n      <td>-1.000000e+00</td>\n    </tr>\n    <tr>\n      <th>25%</th>\n      <td>10.780000</td>\n      <td>4.000000e+00</td>\n      <td>9.999072e+08</td>\n    </tr>\n    <tr>\n      <th>50%</th>\n      <td>14.930000</td>\n      <td>5.000000e+00</td>\n      <td>1.128298e+09</td>\n    </tr>\n    <tr>\n      <th>75%</th>\n      <td>23.950000</td>\n      <td>5.000000e+00</td>\n      <td>1.269130e+09</td>\n    </tr>\n    <tr>\n      <th>max</th>\n      <td>995.000000</td>\n      <td>5.000000e+00</td>\n      <td>1.362355e+09</td>\n    </tr>\n  </tbody>\n</table>\n</div>"
     },
     "execution_count": 7,
     "metadata": {},
     "output_type": "execute_result"
    }
   ],
   "source": [
    "book_rating.describe()"
   ],
   "metadata": {
    "collapsed": false,
    "ExecuteTime": {
     "end_time": "2024-02-08T22:10:41.875117Z",
     "start_time": "2024-02-08T22:10:41.685508Z"
    }
   },
   "id": "d290b9af8563d140",
   "execution_count": 7
  },
  {
   "cell_type": "code",
   "outputs": [
    {
     "data": {
      "text/plain": "Title             object\ndescription       object\nauthors           object\nimage             object\npreviewLink       object\npublisher         object\npublishedDate     object\ninfoLink          object\ncategories        object\nratingsCount     float64\ndtype: object"
     },
     "execution_count": 11,
     "metadata": {},
     "output_type": "execute_result"
    }
   ],
   "source": [
    "books.dtypes"
   ],
   "metadata": {
    "collapsed": false,
    "ExecuteTime": {
     "end_time": "2024-02-08T22:12:41.970092Z",
     "start_time": "2024-02-08T22:12:41.966074Z"
    }
   },
   "id": "e92ba671938c4cd3",
   "execution_count": 11
  },
  {
   "cell_type": "code",
   "outputs": [
    {
     "data": {
      "text/plain": "Title                 1\ndescription       68442\nauthors           31413\nimage             52075\npreviewLink       23836\npublisher         75886\npublishedDate     25305\ninfoLink          23836\ncategories        41199\nratingsCount     162652\ndtype: int64"
     },
     "execution_count": 12,
     "metadata": {},
     "output_type": "execute_result"
    }
   ],
   "source": [
    "books.isnull().sum()"
   ],
   "metadata": {
    "collapsed": false,
    "ExecuteTime": {
     "end_time": "2024-02-08T22:12:48.152069Z",
     "start_time": "2024-02-08T22:12:47.954585Z"
    }
   },
   "id": "1ec3b206d3d54242",
   "execution_count": 12
  },
  {
   "cell_type": "code",
   "outputs": [
    {
     "data": {
      "text/plain": "Id                     object\nTitle                  object\nPrice                 float64\nUser_id                object\nprofileName            object\nreview/helpfulness     object\nreview/score          float64\nreview/time             int64\nreview/summary         object\nreview/text            object\ndtype: object"
     },
     "execution_count": 13,
     "metadata": {},
     "output_type": "execute_result"
    }
   ],
   "source": [
    "book_rating.dtypes"
   ],
   "metadata": {
    "collapsed": false,
    "ExecuteTime": {
     "end_time": "2024-02-08T22:12:52.348717Z",
     "start_time": "2024-02-08T22:12:52.340817Z"
    }
   },
   "id": "52110f8151392a0c",
   "execution_count": 13
  },
  {
   "cell_type": "code",
   "outputs": [
    {
     "data": {
      "text/plain": "Id                          0\nTitle                     208\nPrice                 2518829\nUser_id                561787\nprofileName            561886\nreview/helpfulness          0\nreview/score                0\nreview/time                 0\nreview/summary             38\nreview/text                 8\ndtype: int64"
     },
     "execution_count": 14,
     "metadata": {},
     "output_type": "execute_result"
    }
   ],
   "source": [
    "book_rating.isnull().sum()"
   ],
   "metadata": {
    "collapsed": false,
    "ExecuteTime": {
     "end_time": "2024-02-08T22:12:57.662416Z",
     "start_time": "2024-02-08T22:12:55.524475Z"
    }
   },
   "id": "b0c58b96d617eb0b",
   "execution_count": 14
  },
  {
   "cell_type": "code",
   "outputs": [],
   "source": [],
   "metadata": {
    "collapsed": false
   },
   "id": "7b91eab81fa0c367"
  }
 ],
 "metadata": {
  "kernelspec": {
   "display_name": "Python 3",
   "language": "python",
   "name": "python3"
  },
  "language_info": {
   "codemirror_mode": {
    "name": "ipython",
    "version": 2
   },
   "file_extension": ".py",
   "mimetype": "text/x-python",
   "name": "python",
   "nbconvert_exporter": "python",
   "pygments_lexer": "ipython2",
   "version": "2.7.6"
  }
 },
 "nbformat": 4,
 "nbformat_minor": 5
}
