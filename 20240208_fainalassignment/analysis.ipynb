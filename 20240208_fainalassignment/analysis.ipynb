{
 "cells": [
  {
   "cell_type": "code",
   "execution_count": 22,
   "id": "initial_id",
   "metadata": {
    "collapsed": true,
    "ExecuteTime": {
     "end_time": "2024-02-15T16:46:36.072199Z",
     "start_time": "2024-02-15T16:46:33.967107Z"
    }
   },
   "outputs": [],
   "source": [
    "import pandas as pd\n",
    "import plotly.express as px\n"
   ]
  },
  {
   "cell_type": "code",
   "outputs": [],
   "source": [
    "books_detail = pd.read_csv('./Data/books_data.csv')\n",
    "reviews = pd.read_csv('./Data/Books_rating.csv')\n",
    "\n"
   ],
   "metadata": {
    "collapsed": false,
    "ExecuteTime": {
     "end_time": "2024-02-15T14:38:21.040922Z",
     "start_time": "2024-02-15T14:37:53.454987Z"
    }
   },
   "id": "8c7f8d8349b97725",
   "execution_count": 3
  },
  {
   "cell_type": "code",
   "outputs": [
    {
     "data": {
      "text/plain": "                Id       Title          Price         User_id  \\\ncount      3000000     2999792  481171.000000         2438213   \nunique      221998      212403            NaN         1008972   \ntop     B000IEZE3G  The Hobbit            NaN  A14OJS0VWMOSWO   \nfreq          6796       22023            NaN            5795   \nmean           NaN         NaN      21.762656             NaN   \nstd            NaN         NaN      26.206541             NaN   \nmin            NaN         NaN       1.000000             NaN   \n25%            NaN         NaN      10.780000             NaN   \n50%            NaN         NaN      14.930000             NaN   \n75%            NaN         NaN      23.950000             NaN   \nmax            NaN         NaN     995.000000             NaN   \n\n                profileName review/helpfulness  review/score   review/time  \\\ncount               2438114            3000000  3.000000e+06  3.000000e+06   \nunique               854146              12084           NaN           NaN   \ntop     Midwest Book Review                0/0           NaN           NaN   \nfreq                   5817             885732           NaN           NaN   \nmean                    NaN                NaN  4.215289e+00  1.132307e+09   \nstd                     NaN                NaN  1.203054e+00  1.493202e+08   \nmin                     NaN                NaN  1.000000e+00 -1.000000e+00   \n25%                     NaN                NaN  4.000000e+00  9.999072e+08   \n50%                     NaN                NaN  5.000000e+00  1.128298e+09   \n75%                     NaN                NaN  5.000000e+00  1.269130e+09   \nmax                     NaN                NaN  5.000000e+00  1.362355e+09   \n\n       review/summary                                        review/text  \ncount         2999962                                            2999992  \nunique        1592315                                            2062648  \ntop        Great Book  digital books are perfect and easy to use! The...  \nfreq             6848                                                322  \nmean              NaN                                                NaN  \nstd               NaN                                                NaN  \nmin               NaN                                                NaN  \n25%               NaN                                                NaN  \n50%               NaN                                                NaN  \n75%               NaN                                                NaN  \nmax               NaN                                                NaN  ",
      "text/html": "<div>\n<style scoped>\n    .dataframe tbody tr th:only-of-type {\n        vertical-align: middle;\n    }\n\n    .dataframe tbody tr th {\n        vertical-align: top;\n    }\n\n    .dataframe thead th {\n        text-align: right;\n    }\n</style>\n<table border=\"1\" class=\"dataframe\">\n  <thead>\n    <tr style=\"text-align: right;\">\n      <th></th>\n      <th>Id</th>\n      <th>Title</th>\n      <th>Price</th>\n      <th>User_id</th>\n      <th>profileName</th>\n      <th>review/helpfulness</th>\n      <th>review/score</th>\n      <th>review/time</th>\n      <th>review/summary</th>\n      <th>review/text</th>\n    </tr>\n  </thead>\n  <tbody>\n    <tr>\n      <th>count</th>\n      <td>3000000</td>\n      <td>2999792</td>\n      <td>481171.000000</td>\n      <td>2438213</td>\n      <td>2438114</td>\n      <td>3000000</td>\n      <td>3.000000e+06</td>\n      <td>3.000000e+06</td>\n      <td>2999962</td>\n      <td>2999992</td>\n    </tr>\n    <tr>\n      <th>unique</th>\n      <td>221998</td>\n      <td>212403</td>\n      <td>NaN</td>\n      <td>1008972</td>\n      <td>854146</td>\n      <td>12084</td>\n      <td>NaN</td>\n      <td>NaN</td>\n      <td>1592315</td>\n      <td>2062648</td>\n    </tr>\n    <tr>\n      <th>top</th>\n      <td>B000IEZE3G</td>\n      <td>The Hobbit</td>\n      <td>NaN</td>\n      <td>A14OJS0VWMOSWO</td>\n      <td>Midwest Book Review</td>\n      <td>0/0</td>\n      <td>NaN</td>\n      <td>NaN</td>\n      <td>Great Book</td>\n      <td>digital books are perfect and easy to use! The...</td>\n    </tr>\n    <tr>\n      <th>freq</th>\n      <td>6796</td>\n      <td>22023</td>\n      <td>NaN</td>\n      <td>5795</td>\n      <td>5817</td>\n      <td>885732</td>\n      <td>NaN</td>\n      <td>NaN</td>\n      <td>6848</td>\n      <td>322</td>\n    </tr>\n    <tr>\n      <th>mean</th>\n      <td>NaN</td>\n      <td>NaN</td>\n      <td>21.762656</td>\n      <td>NaN</td>\n      <td>NaN</td>\n      <td>NaN</td>\n      <td>4.215289e+00</td>\n      <td>1.132307e+09</td>\n      <td>NaN</td>\n      <td>NaN</td>\n    </tr>\n    <tr>\n      <th>std</th>\n      <td>NaN</td>\n      <td>NaN</td>\n      <td>26.206541</td>\n      <td>NaN</td>\n      <td>NaN</td>\n      <td>NaN</td>\n      <td>1.203054e+00</td>\n      <td>1.493202e+08</td>\n      <td>NaN</td>\n      <td>NaN</td>\n    </tr>\n    <tr>\n      <th>min</th>\n      <td>NaN</td>\n      <td>NaN</td>\n      <td>1.000000</td>\n      <td>NaN</td>\n      <td>NaN</td>\n      <td>NaN</td>\n      <td>1.000000e+00</td>\n      <td>-1.000000e+00</td>\n      <td>NaN</td>\n      <td>NaN</td>\n    </tr>\n    <tr>\n      <th>25%</th>\n      <td>NaN</td>\n      <td>NaN</td>\n      <td>10.780000</td>\n      <td>NaN</td>\n      <td>NaN</td>\n      <td>NaN</td>\n      <td>4.000000e+00</td>\n      <td>9.999072e+08</td>\n      <td>NaN</td>\n      <td>NaN</td>\n    </tr>\n    <tr>\n      <th>50%</th>\n      <td>NaN</td>\n      <td>NaN</td>\n      <td>14.930000</td>\n      <td>NaN</td>\n      <td>NaN</td>\n      <td>NaN</td>\n      <td>5.000000e+00</td>\n      <td>1.128298e+09</td>\n      <td>NaN</td>\n      <td>NaN</td>\n    </tr>\n    <tr>\n      <th>75%</th>\n      <td>NaN</td>\n      <td>NaN</td>\n      <td>23.950000</td>\n      <td>NaN</td>\n      <td>NaN</td>\n      <td>NaN</td>\n      <td>5.000000e+00</td>\n      <td>1.269130e+09</td>\n      <td>NaN</td>\n      <td>NaN</td>\n    </tr>\n    <tr>\n      <th>max</th>\n      <td>NaN</td>\n      <td>NaN</td>\n      <td>995.000000</td>\n      <td>NaN</td>\n      <td>NaN</td>\n      <td>NaN</td>\n      <td>5.000000e+00</td>\n      <td>1.362355e+09</td>\n      <td>NaN</td>\n      <td>NaN</td>\n    </tr>\n  </tbody>\n</table>\n</div>"
     },
     "execution_count": 9,
     "metadata": {},
     "output_type": "execute_result"
    }
   ],
   "source": [
    "reviews.describe(include='all')\n",
    "#reviews.describe()"
   ],
   "metadata": {
    "collapsed": false,
    "ExecuteTime": {
     "end_time": "2024-02-15T14:42:43.656031Z",
     "start_time": "2024-02-15T14:42:37.061446Z"
    }
   },
   "id": "37d62c874b3d8e7c",
   "execution_count": 9
  },
  {
   "cell_type": "code",
   "outputs": [
    {
     "name": "stdout",
     "output_type": "stream",
     "text": [
      "<class 'pandas.core.frame.DataFrame'>\n",
      "RangeIndex: 3000000 entries, 0 to 2999999\n",
      "Data columns (total 10 columns):\n",
      " #   Column              Dtype  \n",
      "---  ------              -----  \n",
      " 0   Id                  object \n",
      " 1   Title               object \n",
      " 2   Price               float64\n",
      " 3   User_id             object \n",
      " 4   profileName         object \n",
      " 5   review/helpfulness  object \n",
      " 6   review/score        float64\n",
      " 7   review/time         int64  \n",
      " 8   review/summary      object \n",
      " 9   review/text         object \n",
      "dtypes: float64(2), int64(1), object(7)\n",
      "memory usage: 228.9+ MB\n"
     ]
    }
   ],
   "source": [
    "reviews.info()"
   ],
   "metadata": {
    "collapsed": false,
    "ExecuteTime": {
     "end_time": "2024-02-15T16:33:16.337992Z",
     "start_time": "2024-02-15T16:33:16.330408Z"
    }
   },
   "id": "e6940eb0424ed09f",
   "execution_count": 11
  },
  {
   "cell_type": "code",
   "outputs": [
    {
     "data": {
      "text/plain": "               Price  review/score   review/time\ncount  481171.000000  3.000000e+06  3.000000e+06\nmean       21.762656  4.215289e+00  1.132307e+09\nstd        26.206541  1.203054e+00  1.493202e+08\nmin         1.000000  1.000000e+00 -1.000000e+00\n25%        10.780000  4.000000e+00  9.999072e+08\n50%        14.930000  5.000000e+00  1.128298e+09\n75%        23.950000  5.000000e+00  1.269130e+09\nmax       995.000000  5.000000e+00  1.362355e+09",
      "text/html": "<div>\n<style scoped>\n    .dataframe tbody tr th:only-of-type {\n        vertical-align: middle;\n    }\n\n    .dataframe tbody tr th {\n        vertical-align: top;\n    }\n\n    .dataframe thead th {\n        text-align: right;\n    }\n</style>\n<table border=\"1\" class=\"dataframe\">\n  <thead>\n    <tr style=\"text-align: right;\">\n      <th></th>\n      <th>Price</th>\n      <th>review/score</th>\n      <th>review/time</th>\n    </tr>\n  </thead>\n  <tbody>\n    <tr>\n      <th>count</th>\n      <td>481171.000000</td>\n      <td>3.000000e+06</td>\n      <td>3.000000e+06</td>\n    </tr>\n    <tr>\n      <th>mean</th>\n      <td>21.762656</td>\n      <td>4.215289e+00</td>\n      <td>1.132307e+09</td>\n    </tr>\n    <tr>\n      <th>std</th>\n      <td>26.206541</td>\n      <td>1.203054e+00</td>\n      <td>1.493202e+08</td>\n    </tr>\n    <tr>\n      <th>min</th>\n      <td>1.000000</td>\n      <td>1.000000e+00</td>\n      <td>-1.000000e+00</td>\n    </tr>\n    <tr>\n      <th>25%</th>\n      <td>10.780000</td>\n      <td>4.000000e+00</td>\n      <td>9.999072e+08</td>\n    </tr>\n    <tr>\n      <th>50%</th>\n      <td>14.930000</td>\n      <td>5.000000e+00</td>\n      <td>1.128298e+09</td>\n    </tr>\n    <tr>\n      <th>75%</th>\n      <td>23.950000</td>\n      <td>5.000000e+00</td>\n      <td>1.269130e+09</td>\n    </tr>\n    <tr>\n      <th>max</th>\n      <td>995.000000</td>\n      <td>5.000000e+00</td>\n      <td>1.362355e+09</td>\n    </tr>\n  </tbody>\n</table>\n</div>"
     },
     "execution_count": 10,
     "metadata": {},
     "output_type": "execute_result"
    }
   ],
   "source": [
    "reviews.describe()"
   ],
   "metadata": {
    "collapsed": false,
    "ExecuteTime": {
     "end_time": "2024-02-15T14:42:49.845822Z",
     "start_time": "2024-02-15T14:42:49.674833Z"
    }
   },
   "id": "5ee5b55794dc7d65",
   "execution_count": 10
  },
  {
   "cell_type": "code",
   "outputs": [
    {
     "data": {
      "text/plain": "                                               Title  \\\n0                     Its Only Art If Its Well Hung!   \n1                           Dr. Seuss: American Icon   \n2              Wonderful Worship in Smaller Churches   \n3                      Whispers of the Wicked Saints   \n4  Nation Dance: Religion, Identity and Cultural ...   \n\n                                         description              authors  \\\n0                                                NaN     ['Julie Strain']   \n1  Philip Nel takes a fascinating look into the k...       ['Philip Nel']   \n2  This resource includes twelve principles in un...     ['David R. Ray']   \n3  Julia Thomas finds her life spinning out of co...  ['Veronica Haddon']   \n4                                                NaN      ['Edward Long']   \n\n                                               image  \\\n0  http://books.google.com/books/content?id=DykPA...   \n1  http://books.google.com/books/content?id=IjvHQ...   \n2  http://books.google.com/books/content?id=2tsDA...   \n3  http://books.google.com/books/content?id=aRSIg...   \n4                                                NaN   \n\n                                         previewLink  publisher publishedDate  \\\n0  http://books.google.nl/books?id=DykPAAAACAAJ&d...        NaN          1996   \n1  http://books.google.nl/books?id=IjvHQsCn_pgC&p...  A&C Black    2005-01-01   \n2  http://books.google.nl/books?id=2tsDAAAACAAJ&d...        NaN          2000   \n3  http://books.google.nl/books?id=aRSIgJlq6JwC&d...  iUniverse       2005-02   \n4  http://books.google.nl/books?id=399SPgAACAAJ&d...        NaN    2003-03-01   \n\n                                            infoLink  \\\n0  http://books.google.nl/books?id=DykPAAAACAAJ&d...   \n1  http://books.google.nl/books?id=IjvHQsCn_pgC&d...   \n2  http://books.google.nl/books?id=2tsDAAAACAAJ&d...   \n3  http://books.google.nl/books?id=aRSIgJlq6JwC&d...   \n4  http://books.google.nl/books?id=399SPgAACAAJ&d...   \n\n                      categories  ratingsCount  \n0    ['Comics & Graphic Novels']           NaN  \n1  ['Biography & Autobiography']           NaN  \n2                   ['Religion']           NaN  \n3                    ['Fiction']           NaN  \n4                            NaN           NaN  ",
      "text/html": "<div>\n<style scoped>\n    .dataframe tbody tr th:only-of-type {\n        vertical-align: middle;\n    }\n\n    .dataframe tbody tr th {\n        vertical-align: top;\n    }\n\n    .dataframe thead th {\n        text-align: right;\n    }\n</style>\n<table border=\"1\" class=\"dataframe\">\n  <thead>\n    <tr style=\"text-align: right;\">\n      <th></th>\n      <th>Title</th>\n      <th>description</th>\n      <th>authors</th>\n      <th>image</th>\n      <th>previewLink</th>\n      <th>publisher</th>\n      <th>publishedDate</th>\n      <th>infoLink</th>\n      <th>categories</th>\n      <th>ratingsCount</th>\n    </tr>\n  </thead>\n  <tbody>\n    <tr>\n      <th>0</th>\n      <td>Its Only Art If Its Well Hung!</td>\n      <td>NaN</td>\n      <td>['Julie Strain']</td>\n      <td>http://books.google.com/books/content?id=DykPA...</td>\n      <td>http://books.google.nl/books?id=DykPAAAACAAJ&amp;d...</td>\n      <td>NaN</td>\n      <td>1996</td>\n      <td>http://books.google.nl/books?id=DykPAAAACAAJ&amp;d...</td>\n      <td>['Comics &amp; Graphic Novels']</td>\n      <td>NaN</td>\n    </tr>\n    <tr>\n      <th>1</th>\n      <td>Dr. Seuss: American Icon</td>\n      <td>Philip Nel takes a fascinating look into the k...</td>\n      <td>['Philip Nel']</td>\n      <td>http://books.google.com/books/content?id=IjvHQ...</td>\n      <td>http://books.google.nl/books?id=IjvHQsCn_pgC&amp;p...</td>\n      <td>A&amp;C Black</td>\n      <td>2005-01-01</td>\n      <td>http://books.google.nl/books?id=IjvHQsCn_pgC&amp;d...</td>\n      <td>['Biography &amp; Autobiography']</td>\n      <td>NaN</td>\n    </tr>\n    <tr>\n      <th>2</th>\n      <td>Wonderful Worship in Smaller Churches</td>\n      <td>This resource includes twelve principles in un...</td>\n      <td>['David R. Ray']</td>\n      <td>http://books.google.com/books/content?id=2tsDA...</td>\n      <td>http://books.google.nl/books?id=2tsDAAAACAAJ&amp;d...</td>\n      <td>NaN</td>\n      <td>2000</td>\n      <td>http://books.google.nl/books?id=2tsDAAAACAAJ&amp;d...</td>\n      <td>['Religion']</td>\n      <td>NaN</td>\n    </tr>\n    <tr>\n      <th>3</th>\n      <td>Whispers of the Wicked Saints</td>\n      <td>Julia Thomas finds her life spinning out of co...</td>\n      <td>['Veronica Haddon']</td>\n      <td>http://books.google.com/books/content?id=aRSIg...</td>\n      <td>http://books.google.nl/books?id=aRSIgJlq6JwC&amp;d...</td>\n      <td>iUniverse</td>\n      <td>2005-02</td>\n      <td>http://books.google.nl/books?id=aRSIgJlq6JwC&amp;d...</td>\n      <td>['Fiction']</td>\n      <td>NaN</td>\n    </tr>\n    <tr>\n      <th>4</th>\n      <td>Nation Dance: Religion, Identity and Cultural ...</td>\n      <td>NaN</td>\n      <td>['Edward Long']</td>\n      <td>NaN</td>\n      <td>http://books.google.nl/books?id=399SPgAACAAJ&amp;d...</td>\n      <td>NaN</td>\n      <td>2003-03-01</td>\n      <td>http://books.google.nl/books?id=399SPgAACAAJ&amp;d...</td>\n      <td>NaN</td>\n      <td>NaN</td>\n    </tr>\n  </tbody>\n</table>\n</div>"
     },
     "execution_count": 12,
     "metadata": {},
     "output_type": "execute_result"
    }
   ],
   "source": [
    "books_detail.head()"
   ],
   "metadata": {
    "collapsed": false,
    "ExecuteTime": {
     "end_time": "2024-02-15T16:33:52.810517Z",
     "start_time": "2024-02-15T16:33:52.798470Z"
    }
   },
   "id": "fa680ab6cd692cbb",
   "execution_count": 12
  },
  {
   "cell_type": "code",
   "outputs": [
    {
     "data": {
      "application/vnd.plotly.v1+json": {
       "data": [
        {
         "hovertemplate": "Category=%{x}<br>Number of Books=%{marker.size}<extra></extra>",
         "legendgroup": "",
         "marker": {
          "color": "#636efa",
          "size": [
           23419,
           9459,
           9330,
           6643,
           6324,
           5625,
           4312,
           3834,
           3446,
           2623,
           2611,
           2445,
           2267,
           2178,
           2147,
           2106,
           2079,
           2054,
           2049,
           2036
          ],
          "sizemode": "area",
          "sizeref": 6.505277777777778,
          "symbol": "circle"
         },
         "mode": "markers",
         "name": "",
         "orientation": "v",
         "showlegend": false,
         "x": [
          "['Fiction']",
          "['Religion']",
          "['History']",
          "['Juvenile Fiction']",
          "['Biography & Autobiography']",
          "['Business & Economics']",
          "['Computers']",
          "['Social Science']",
          "['Juvenile Nonfiction']",
          "['Science']",
          "['Education']",
          "['Cooking']",
          "['Sports & Recreation']",
          "['Family & Relationships']",
          "['Literary Criticism']",
          "['Music']",
          "['Medical']",
          "['Art']",
          "['Body, Mind & Spirit']",
          "['Language Arts & Disciplines']"
         ],
         "xaxis": "x",
         "y": [
          23419,
          9459,
          9330,
          6643,
          6324,
          5625,
          4312,
          3834,
          3446,
          2623,
          2611,
          2445,
          2267,
          2178,
          2147,
          2106,
          2079,
          2054,
          2049,
          2036
         ],
         "yaxis": "y",
         "type": "scatter"
        }
       ],
       "layout": {
        "template": {
         "data": {
          "histogram2dcontour": [
           {
            "type": "histogram2dcontour",
            "colorbar": {
             "outlinewidth": 0,
             "ticks": ""
            },
            "colorscale": [
             [
              0.0,
              "#0d0887"
             ],
             [
              0.1111111111111111,
              "#46039f"
             ],
             [
              0.2222222222222222,
              "#7201a8"
             ],
             [
              0.3333333333333333,
              "#9c179e"
             ],
             [
              0.4444444444444444,
              "#bd3786"
             ],
             [
              0.5555555555555556,
              "#d8576b"
             ],
             [
              0.6666666666666666,
              "#ed7953"
             ],
             [
              0.7777777777777778,
              "#fb9f3a"
             ],
             [
              0.8888888888888888,
              "#fdca26"
             ],
             [
              1.0,
              "#f0f921"
             ]
            ]
           }
          ],
          "choropleth": [
           {
            "type": "choropleth",
            "colorbar": {
             "outlinewidth": 0,
             "ticks": ""
            }
           }
          ],
          "histogram2d": [
           {
            "type": "histogram2d",
            "colorbar": {
             "outlinewidth": 0,
             "ticks": ""
            },
            "colorscale": [
             [
              0.0,
              "#0d0887"
             ],
             [
              0.1111111111111111,
              "#46039f"
             ],
             [
              0.2222222222222222,
              "#7201a8"
             ],
             [
              0.3333333333333333,
              "#9c179e"
             ],
             [
              0.4444444444444444,
              "#bd3786"
             ],
             [
              0.5555555555555556,
              "#d8576b"
             ],
             [
              0.6666666666666666,
              "#ed7953"
             ],
             [
              0.7777777777777778,
              "#fb9f3a"
             ],
             [
              0.8888888888888888,
              "#fdca26"
             ],
             [
              1.0,
              "#f0f921"
             ]
            ]
           }
          ],
          "heatmap": [
           {
            "type": "heatmap",
            "colorbar": {
             "outlinewidth": 0,
             "ticks": ""
            },
            "colorscale": [
             [
              0.0,
              "#0d0887"
             ],
             [
              0.1111111111111111,
              "#46039f"
             ],
             [
              0.2222222222222222,
              "#7201a8"
             ],
             [
              0.3333333333333333,
              "#9c179e"
             ],
             [
              0.4444444444444444,
              "#bd3786"
             ],
             [
              0.5555555555555556,
              "#d8576b"
             ],
             [
              0.6666666666666666,
              "#ed7953"
             ],
             [
              0.7777777777777778,
              "#fb9f3a"
             ],
             [
              0.8888888888888888,
              "#fdca26"
             ],
             [
              1.0,
              "#f0f921"
             ]
            ]
           }
          ],
          "heatmapgl": [
           {
            "type": "heatmapgl",
            "colorbar": {
             "outlinewidth": 0,
             "ticks": ""
            },
            "colorscale": [
             [
              0.0,
              "#0d0887"
             ],
             [
              0.1111111111111111,
              "#46039f"
             ],
             [
              0.2222222222222222,
              "#7201a8"
             ],
             [
              0.3333333333333333,
              "#9c179e"
             ],
             [
              0.4444444444444444,
              "#bd3786"
             ],
             [
              0.5555555555555556,
              "#d8576b"
             ],
             [
              0.6666666666666666,
              "#ed7953"
             ],
             [
              0.7777777777777778,
              "#fb9f3a"
             ],
             [
              0.8888888888888888,
              "#fdca26"
             ],
             [
              1.0,
              "#f0f921"
             ]
            ]
           }
          ],
          "contourcarpet": [
           {
            "type": "contourcarpet",
            "colorbar": {
             "outlinewidth": 0,
             "ticks": ""
            }
           }
          ],
          "contour": [
           {
            "type": "contour",
            "colorbar": {
             "outlinewidth": 0,
             "ticks": ""
            },
            "colorscale": [
             [
              0.0,
              "#0d0887"
             ],
             [
              0.1111111111111111,
              "#46039f"
             ],
             [
              0.2222222222222222,
              "#7201a8"
             ],
             [
              0.3333333333333333,
              "#9c179e"
             ],
             [
              0.4444444444444444,
              "#bd3786"
             ],
             [
              0.5555555555555556,
              "#d8576b"
             ],
             [
              0.6666666666666666,
              "#ed7953"
             ],
             [
              0.7777777777777778,
              "#fb9f3a"
             ],
             [
              0.8888888888888888,
              "#fdca26"
             ],
             [
              1.0,
              "#f0f921"
             ]
            ]
           }
          ],
          "surface": [
           {
            "type": "surface",
            "colorbar": {
             "outlinewidth": 0,
             "ticks": ""
            },
            "colorscale": [
             [
              0.0,
              "#0d0887"
             ],
             [
              0.1111111111111111,
              "#46039f"
             ],
             [
              0.2222222222222222,
              "#7201a8"
             ],
             [
              0.3333333333333333,
              "#9c179e"
             ],
             [
              0.4444444444444444,
              "#bd3786"
             ],
             [
              0.5555555555555556,
              "#d8576b"
             ],
             [
              0.6666666666666666,
              "#ed7953"
             ],
             [
              0.7777777777777778,
              "#fb9f3a"
             ],
             [
              0.8888888888888888,
              "#fdca26"
             ],
             [
              1.0,
              "#f0f921"
             ]
            ]
           }
          ],
          "mesh3d": [
           {
            "type": "mesh3d",
            "colorbar": {
             "outlinewidth": 0,
             "ticks": ""
            }
           }
          ],
          "scatter": [
           {
            "fillpattern": {
             "fillmode": "overlay",
             "size": 10,
             "solidity": 0.2
            },
            "type": "scatter"
           }
          ],
          "parcoords": [
           {
            "type": "parcoords",
            "line": {
             "colorbar": {
              "outlinewidth": 0,
              "ticks": ""
             }
            }
           }
          ],
          "scatterpolargl": [
           {
            "type": "scatterpolargl",
            "marker": {
             "colorbar": {
              "outlinewidth": 0,
              "ticks": ""
             }
            }
           }
          ],
          "bar": [
           {
            "error_x": {
             "color": "#2a3f5f"
            },
            "error_y": {
             "color": "#2a3f5f"
            },
            "marker": {
             "line": {
              "color": "#E5ECF6",
              "width": 0.5
             },
             "pattern": {
              "fillmode": "overlay",
              "size": 10,
              "solidity": 0.2
             }
            },
            "type": "bar"
           }
          ],
          "scattergeo": [
           {
            "type": "scattergeo",
            "marker": {
             "colorbar": {
              "outlinewidth": 0,
              "ticks": ""
             }
            }
           }
          ],
          "scatterpolar": [
           {
            "type": "scatterpolar",
            "marker": {
             "colorbar": {
              "outlinewidth": 0,
              "ticks": ""
             }
            }
           }
          ],
          "histogram": [
           {
            "marker": {
             "pattern": {
              "fillmode": "overlay",
              "size": 10,
              "solidity": 0.2
             }
            },
            "type": "histogram"
           }
          ],
          "scattergl": [
           {
            "type": "scattergl",
            "marker": {
             "colorbar": {
              "outlinewidth": 0,
              "ticks": ""
             }
            }
           }
          ],
          "scatter3d": [
           {
            "type": "scatter3d",
            "line": {
             "colorbar": {
              "outlinewidth": 0,
              "ticks": ""
             }
            },
            "marker": {
             "colorbar": {
              "outlinewidth": 0,
              "ticks": ""
             }
            }
           }
          ],
          "scattermapbox": [
           {
            "type": "scattermapbox",
            "marker": {
             "colorbar": {
              "outlinewidth": 0,
              "ticks": ""
             }
            }
           }
          ],
          "scatterternary": [
           {
            "type": "scatterternary",
            "marker": {
             "colorbar": {
              "outlinewidth": 0,
              "ticks": ""
             }
            }
           }
          ],
          "scattercarpet": [
           {
            "type": "scattercarpet",
            "marker": {
             "colorbar": {
              "outlinewidth": 0,
              "ticks": ""
             }
            }
           }
          ],
          "carpet": [
           {
            "aaxis": {
             "endlinecolor": "#2a3f5f",
             "gridcolor": "white",
             "linecolor": "white",
             "minorgridcolor": "white",
             "startlinecolor": "#2a3f5f"
            },
            "baxis": {
             "endlinecolor": "#2a3f5f",
             "gridcolor": "white",
             "linecolor": "white",
             "minorgridcolor": "white",
             "startlinecolor": "#2a3f5f"
            },
            "type": "carpet"
           }
          ],
          "table": [
           {
            "cells": {
             "fill": {
              "color": "#EBF0F8"
             },
             "line": {
              "color": "white"
             }
            },
            "header": {
             "fill": {
              "color": "#C8D4E3"
             },
             "line": {
              "color": "white"
             }
            },
            "type": "table"
           }
          ],
          "barpolar": [
           {
            "marker": {
             "line": {
              "color": "#E5ECF6",
              "width": 0.5
             },
             "pattern": {
              "fillmode": "overlay",
              "size": 10,
              "solidity": 0.2
             }
            },
            "type": "barpolar"
           }
          ],
          "pie": [
           {
            "automargin": true,
            "type": "pie"
           }
          ]
         },
         "layout": {
          "autotypenumbers": "strict",
          "colorway": [
           "#636efa",
           "#EF553B",
           "#00cc96",
           "#ab63fa",
           "#FFA15A",
           "#19d3f3",
           "#FF6692",
           "#B6E880",
           "#FF97FF",
           "#FECB52"
          ],
          "font": {
           "color": "#2a3f5f"
          },
          "hovermode": "closest",
          "hoverlabel": {
           "align": "left"
          },
          "paper_bgcolor": "white",
          "plot_bgcolor": "#E5ECF6",
          "polar": {
           "bgcolor": "#E5ECF6",
           "angularaxis": {
            "gridcolor": "white",
            "linecolor": "white",
            "ticks": ""
           },
           "radialaxis": {
            "gridcolor": "white",
            "linecolor": "white",
            "ticks": ""
           }
          },
          "ternary": {
           "bgcolor": "#E5ECF6",
           "aaxis": {
            "gridcolor": "white",
            "linecolor": "white",
            "ticks": ""
           },
           "baxis": {
            "gridcolor": "white",
            "linecolor": "white",
            "ticks": ""
           },
           "caxis": {
            "gridcolor": "white",
            "linecolor": "white",
            "ticks": ""
           }
          },
          "coloraxis": {
           "colorbar": {
            "outlinewidth": 0,
            "ticks": ""
           }
          },
          "colorscale": {
           "sequential": [
            [
             0.0,
             "#0d0887"
            ],
            [
             0.1111111111111111,
             "#46039f"
            ],
            [
             0.2222222222222222,
             "#7201a8"
            ],
            [
             0.3333333333333333,
             "#9c179e"
            ],
            [
             0.4444444444444444,
             "#bd3786"
            ],
            [
             0.5555555555555556,
             "#d8576b"
            ],
            [
             0.6666666666666666,
             "#ed7953"
            ],
            [
             0.7777777777777778,
             "#fb9f3a"
            ],
            [
             0.8888888888888888,
             "#fdca26"
            ],
            [
             1.0,
             "#f0f921"
            ]
           ],
           "sequentialminus": [
            [
             0.0,
             "#0d0887"
            ],
            [
             0.1111111111111111,
             "#46039f"
            ],
            [
             0.2222222222222222,
             "#7201a8"
            ],
            [
             0.3333333333333333,
             "#9c179e"
            ],
            [
             0.4444444444444444,
             "#bd3786"
            ],
            [
             0.5555555555555556,
             "#d8576b"
            ],
            [
             0.6666666666666666,
             "#ed7953"
            ],
            [
             0.7777777777777778,
             "#fb9f3a"
            ],
            [
             0.8888888888888888,
             "#fdca26"
            ],
            [
             1.0,
             "#f0f921"
            ]
           ],
           "diverging": [
            [
             0,
             "#8e0152"
            ],
            [
             0.1,
             "#c51b7d"
            ],
            [
             0.2,
             "#de77ae"
            ],
            [
             0.3,
             "#f1b6da"
            ],
            [
             0.4,
             "#fde0ef"
            ],
            [
             0.5,
             "#f7f7f7"
            ],
            [
             0.6,
             "#e6f5d0"
            ],
            [
             0.7,
             "#b8e186"
            ],
            [
             0.8,
             "#7fbc41"
            ],
            [
             0.9,
             "#4d9221"
            ],
            [
             1,
             "#276419"
            ]
           ]
          },
          "xaxis": {
           "gridcolor": "white",
           "linecolor": "white",
           "ticks": "",
           "title": {
            "standoff": 15
           },
           "zerolinecolor": "white",
           "automargin": true,
           "zerolinewidth": 2
          },
          "yaxis": {
           "gridcolor": "white",
           "linecolor": "white",
           "ticks": "",
           "title": {
            "standoff": 15
           },
           "zerolinecolor": "white",
           "automargin": true,
           "zerolinewidth": 2
          },
          "scene": {
           "xaxis": {
            "backgroundcolor": "#E5ECF6",
            "gridcolor": "white",
            "linecolor": "white",
            "showbackground": true,
            "ticks": "",
            "zerolinecolor": "white",
            "gridwidth": 2
           },
           "yaxis": {
            "backgroundcolor": "#E5ECF6",
            "gridcolor": "white",
            "linecolor": "white",
            "showbackground": true,
            "ticks": "",
            "zerolinecolor": "white",
            "gridwidth": 2
           },
           "zaxis": {
            "backgroundcolor": "#E5ECF6",
            "gridcolor": "white",
            "linecolor": "white",
            "showbackground": true,
            "ticks": "",
            "zerolinecolor": "white",
            "gridwidth": 2
           }
          },
          "shapedefaults": {
           "line": {
            "color": "#2a3f5f"
           }
          },
          "annotationdefaults": {
           "arrowcolor": "#2a3f5f",
           "arrowhead": 0,
           "arrowwidth": 1
          },
          "geo": {
           "bgcolor": "white",
           "landcolor": "#E5ECF6",
           "subunitcolor": "white",
           "showland": true,
           "showlakes": true,
           "lakecolor": "white"
          },
          "title": {
           "x": 0.05
          },
          "mapbox": {
           "style": "light"
          }
         }
        },
        "xaxis": {
         "anchor": "y",
         "domain": [
          0.0,
          1.0
         ],
         "title": {
          "text": "Category"
         }
        },
        "yaxis": {
         "anchor": "x",
         "domain": [
          0.0,
          1.0
         ],
         "title": {
          "text": "Number of Books"
         }
        },
        "legend": {
         "tracegroupgap": 0,
         "itemsizing": "constant"
        },
        "title": {
         "text": "Scatter Plot of Top 20 Book Categories by Count"
        }
       },
       "config": {
        "plotlyServerURL": "https://plot.ly"
       }
      },
      "text/html": "<div>                            <div id=\"a972a8cd-f291-4923-8438-c19c07200f5f\" class=\"plotly-graph-div\" style=\"height:525px; width:100%;\"></div>            <script type=\"text/javascript\">                require([\"plotly\"], function(Plotly) {                    window.PLOTLYENV=window.PLOTLYENV || {};                                    if (document.getElementById(\"a972a8cd-f291-4923-8438-c19c07200f5f\")) {                    Plotly.newPlot(                        \"a972a8cd-f291-4923-8438-c19c07200f5f\",                        [{\"hovertemplate\":\"Category=%{x}<br>Number of Books=%{marker.size}<extra></extra>\",\"legendgroup\":\"\",\"marker\":{\"color\":\"#636efa\",\"size\":[23419,9459,9330,6643,6324,5625,4312,3834,3446,2623,2611,2445,2267,2178,2147,2106,2079,2054,2049,2036],\"sizemode\":\"area\",\"sizeref\":6.505277777777778,\"symbol\":\"circle\"},\"mode\":\"markers\",\"name\":\"\",\"orientation\":\"v\",\"showlegend\":false,\"x\":[\"['Fiction']\",\"['Religion']\",\"['History']\",\"['Juvenile Fiction']\",\"['Biography & Autobiography']\",\"['Business & Economics']\",\"['Computers']\",\"['Social Science']\",\"['Juvenile Nonfiction']\",\"['Science']\",\"['Education']\",\"['Cooking']\",\"['Sports & Recreation']\",\"['Family & Relationships']\",\"['Literary Criticism']\",\"['Music']\",\"['Medical']\",\"['Art']\",\"['Body, Mind & Spirit']\",\"['Language Arts & Disciplines']\"],\"xaxis\":\"x\",\"y\":[23419,9459,9330,6643,6324,5625,4312,3834,3446,2623,2611,2445,2267,2178,2147,2106,2079,2054,2049,2036],\"yaxis\":\"y\",\"type\":\"scatter\"}],                        {\"template\":{\"data\":{\"histogram2dcontour\":[{\"type\":\"histogram2dcontour\",\"colorbar\":{\"outlinewidth\":0,\"ticks\":\"\"},\"colorscale\":[[0.0,\"#0d0887\"],[0.1111111111111111,\"#46039f\"],[0.2222222222222222,\"#7201a8\"],[0.3333333333333333,\"#9c179e\"],[0.4444444444444444,\"#bd3786\"],[0.5555555555555556,\"#d8576b\"],[0.6666666666666666,\"#ed7953\"],[0.7777777777777778,\"#fb9f3a\"],[0.8888888888888888,\"#fdca26\"],[1.0,\"#f0f921\"]]}],\"choropleth\":[{\"type\":\"choropleth\",\"colorbar\":{\"outlinewidth\":0,\"ticks\":\"\"}}],\"histogram2d\":[{\"type\":\"histogram2d\",\"colorbar\":{\"outlinewidth\":0,\"ticks\":\"\"},\"colorscale\":[[0.0,\"#0d0887\"],[0.1111111111111111,\"#46039f\"],[0.2222222222222222,\"#7201a8\"],[0.3333333333333333,\"#9c179e\"],[0.4444444444444444,\"#bd3786\"],[0.5555555555555556,\"#d8576b\"],[0.6666666666666666,\"#ed7953\"],[0.7777777777777778,\"#fb9f3a\"],[0.8888888888888888,\"#fdca26\"],[1.0,\"#f0f921\"]]}],\"heatmap\":[{\"type\":\"heatmap\",\"colorbar\":{\"outlinewidth\":0,\"ticks\":\"\"},\"colorscale\":[[0.0,\"#0d0887\"],[0.1111111111111111,\"#46039f\"],[0.2222222222222222,\"#7201a8\"],[0.3333333333333333,\"#9c179e\"],[0.4444444444444444,\"#bd3786\"],[0.5555555555555556,\"#d8576b\"],[0.6666666666666666,\"#ed7953\"],[0.7777777777777778,\"#fb9f3a\"],[0.8888888888888888,\"#fdca26\"],[1.0,\"#f0f921\"]]}],\"heatmapgl\":[{\"type\":\"heatmapgl\",\"colorbar\":{\"outlinewidth\":0,\"ticks\":\"\"},\"colorscale\":[[0.0,\"#0d0887\"],[0.1111111111111111,\"#46039f\"],[0.2222222222222222,\"#7201a8\"],[0.3333333333333333,\"#9c179e\"],[0.4444444444444444,\"#bd3786\"],[0.5555555555555556,\"#d8576b\"],[0.6666666666666666,\"#ed7953\"],[0.7777777777777778,\"#fb9f3a\"],[0.8888888888888888,\"#fdca26\"],[1.0,\"#f0f921\"]]}],\"contourcarpet\":[{\"type\":\"contourcarpet\",\"colorbar\":{\"outlinewidth\":0,\"ticks\":\"\"}}],\"contour\":[{\"type\":\"contour\",\"colorbar\":{\"outlinewidth\":0,\"ticks\":\"\"},\"colorscale\":[[0.0,\"#0d0887\"],[0.1111111111111111,\"#46039f\"],[0.2222222222222222,\"#7201a8\"],[0.3333333333333333,\"#9c179e\"],[0.4444444444444444,\"#bd3786\"],[0.5555555555555556,\"#d8576b\"],[0.6666666666666666,\"#ed7953\"],[0.7777777777777778,\"#fb9f3a\"],[0.8888888888888888,\"#fdca26\"],[1.0,\"#f0f921\"]]}],\"surface\":[{\"type\":\"surface\",\"colorbar\":{\"outlinewidth\":0,\"ticks\":\"\"},\"colorscale\":[[0.0,\"#0d0887\"],[0.1111111111111111,\"#46039f\"],[0.2222222222222222,\"#7201a8\"],[0.3333333333333333,\"#9c179e\"],[0.4444444444444444,\"#bd3786\"],[0.5555555555555556,\"#d8576b\"],[0.6666666666666666,\"#ed7953\"],[0.7777777777777778,\"#fb9f3a\"],[0.8888888888888888,\"#fdca26\"],[1.0,\"#f0f921\"]]}],\"mesh3d\":[{\"type\":\"mesh3d\",\"colorbar\":{\"outlinewidth\":0,\"ticks\":\"\"}}],\"scatter\":[{\"fillpattern\":{\"fillmode\":\"overlay\",\"size\":10,\"solidity\":0.2},\"type\":\"scatter\"}],\"parcoords\":[{\"type\":\"parcoords\",\"line\":{\"colorbar\":{\"outlinewidth\":0,\"ticks\":\"\"}}}],\"scatterpolargl\":[{\"type\":\"scatterpolargl\",\"marker\":{\"colorbar\":{\"outlinewidth\":0,\"ticks\":\"\"}}}],\"bar\":[{\"error_x\":{\"color\":\"#2a3f5f\"},\"error_y\":{\"color\":\"#2a3f5f\"},\"marker\":{\"line\":{\"color\":\"#E5ECF6\",\"width\":0.5},\"pattern\":{\"fillmode\":\"overlay\",\"size\":10,\"solidity\":0.2}},\"type\":\"bar\"}],\"scattergeo\":[{\"type\":\"scattergeo\",\"marker\":{\"colorbar\":{\"outlinewidth\":0,\"ticks\":\"\"}}}],\"scatterpolar\":[{\"type\":\"scatterpolar\",\"marker\":{\"colorbar\":{\"outlinewidth\":0,\"ticks\":\"\"}}}],\"histogram\":[{\"marker\":{\"pattern\":{\"fillmode\":\"overlay\",\"size\":10,\"solidity\":0.2}},\"type\":\"histogram\"}],\"scattergl\":[{\"type\":\"scattergl\",\"marker\":{\"colorbar\":{\"outlinewidth\":0,\"ticks\":\"\"}}}],\"scatter3d\":[{\"type\":\"scatter3d\",\"line\":{\"colorbar\":{\"outlinewidth\":0,\"ticks\":\"\"}},\"marker\":{\"colorbar\":{\"outlinewidth\":0,\"ticks\":\"\"}}}],\"scattermapbox\":[{\"type\":\"scattermapbox\",\"marker\":{\"colorbar\":{\"outlinewidth\":0,\"ticks\":\"\"}}}],\"scatterternary\":[{\"type\":\"scatterternary\",\"marker\":{\"colorbar\":{\"outlinewidth\":0,\"ticks\":\"\"}}}],\"scattercarpet\":[{\"type\":\"scattercarpet\",\"marker\":{\"colorbar\":{\"outlinewidth\":0,\"ticks\":\"\"}}}],\"carpet\":[{\"aaxis\":{\"endlinecolor\":\"#2a3f5f\",\"gridcolor\":\"white\",\"linecolor\":\"white\",\"minorgridcolor\":\"white\",\"startlinecolor\":\"#2a3f5f\"},\"baxis\":{\"endlinecolor\":\"#2a3f5f\",\"gridcolor\":\"white\",\"linecolor\":\"white\",\"minorgridcolor\":\"white\",\"startlinecolor\":\"#2a3f5f\"},\"type\":\"carpet\"}],\"table\":[{\"cells\":{\"fill\":{\"color\":\"#EBF0F8\"},\"line\":{\"color\":\"white\"}},\"header\":{\"fill\":{\"color\":\"#C8D4E3\"},\"line\":{\"color\":\"white\"}},\"type\":\"table\"}],\"barpolar\":[{\"marker\":{\"line\":{\"color\":\"#E5ECF6\",\"width\":0.5},\"pattern\":{\"fillmode\":\"overlay\",\"size\":10,\"solidity\":0.2}},\"type\":\"barpolar\"}],\"pie\":[{\"automargin\":true,\"type\":\"pie\"}]},\"layout\":{\"autotypenumbers\":\"strict\",\"colorway\":[\"#636efa\",\"#EF553B\",\"#00cc96\",\"#ab63fa\",\"#FFA15A\",\"#19d3f3\",\"#FF6692\",\"#B6E880\",\"#FF97FF\",\"#FECB52\"],\"font\":{\"color\":\"#2a3f5f\"},\"hovermode\":\"closest\",\"hoverlabel\":{\"align\":\"left\"},\"paper_bgcolor\":\"white\",\"plot_bgcolor\":\"#E5ECF6\",\"polar\":{\"bgcolor\":\"#E5ECF6\",\"angularaxis\":{\"gridcolor\":\"white\",\"linecolor\":\"white\",\"ticks\":\"\"},\"radialaxis\":{\"gridcolor\":\"white\",\"linecolor\":\"white\",\"ticks\":\"\"}},\"ternary\":{\"bgcolor\":\"#E5ECF6\",\"aaxis\":{\"gridcolor\":\"white\",\"linecolor\":\"white\",\"ticks\":\"\"},\"baxis\":{\"gridcolor\":\"white\",\"linecolor\":\"white\",\"ticks\":\"\"},\"caxis\":{\"gridcolor\":\"white\",\"linecolor\":\"white\",\"ticks\":\"\"}},\"coloraxis\":{\"colorbar\":{\"outlinewidth\":0,\"ticks\":\"\"}},\"colorscale\":{\"sequential\":[[0.0,\"#0d0887\"],[0.1111111111111111,\"#46039f\"],[0.2222222222222222,\"#7201a8\"],[0.3333333333333333,\"#9c179e\"],[0.4444444444444444,\"#bd3786\"],[0.5555555555555556,\"#d8576b\"],[0.6666666666666666,\"#ed7953\"],[0.7777777777777778,\"#fb9f3a\"],[0.8888888888888888,\"#fdca26\"],[1.0,\"#f0f921\"]],\"sequentialminus\":[[0.0,\"#0d0887\"],[0.1111111111111111,\"#46039f\"],[0.2222222222222222,\"#7201a8\"],[0.3333333333333333,\"#9c179e\"],[0.4444444444444444,\"#bd3786\"],[0.5555555555555556,\"#d8576b\"],[0.6666666666666666,\"#ed7953\"],[0.7777777777777778,\"#fb9f3a\"],[0.8888888888888888,\"#fdca26\"],[1.0,\"#f0f921\"]],\"diverging\":[[0,\"#8e0152\"],[0.1,\"#c51b7d\"],[0.2,\"#de77ae\"],[0.3,\"#f1b6da\"],[0.4,\"#fde0ef\"],[0.5,\"#f7f7f7\"],[0.6,\"#e6f5d0\"],[0.7,\"#b8e186\"],[0.8,\"#7fbc41\"],[0.9,\"#4d9221\"],[1,\"#276419\"]]},\"xaxis\":{\"gridcolor\":\"white\",\"linecolor\":\"white\",\"ticks\":\"\",\"title\":{\"standoff\":15},\"zerolinecolor\":\"white\",\"automargin\":true,\"zerolinewidth\":2},\"yaxis\":{\"gridcolor\":\"white\",\"linecolor\":\"white\",\"ticks\":\"\",\"title\":{\"standoff\":15},\"zerolinecolor\":\"white\",\"automargin\":true,\"zerolinewidth\":2},\"scene\":{\"xaxis\":{\"backgroundcolor\":\"#E5ECF6\",\"gridcolor\":\"white\",\"linecolor\":\"white\",\"showbackground\":true,\"ticks\":\"\",\"zerolinecolor\":\"white\",\"gridwidth\":2},\"yaxis\":{\"backgroundcolor\":\"#E5ECF6\",\"gridcolor\":\"white\",\"linecolor\":\"white\",\"showbackground\":true,\"ticks\":\"\",\"zerolinecolor\":\"white\",\"gridwidth\":2},\"zaxis\":{\"backgroundcolor\":\"#E5ECF6\",\"gridcolor\":\"white\",\"linecolor\":\"white\",\"showbackground\":true,\"ticks\":\"\",\"zerolinecolor\":\"white\",\"gridwidth\":2}},\"shapedefaults\":{\"line\":{\"color\":\"#2a3f5f\"}},\"annotationdefaults\":{\"arrowcolor\":\"#2a3f5f\",\"arrowhead\":0,\"arrowwidth\":1},\"geo\":{\"bgcolor\":\"white\",\"landcolor\":\"#E5ECF6\",\"subunitcolor\":\"white\",\"showland\":true,\"showlakes\":true,\"lakecolor\":\"white\"},\"title\":{\"x\":0.05},\"mapbox\":{\"style\":\"light\"}}},\"xaxis\":{\"anchor\":\"y\",\"domain\":[0.0,1.0],\"title\":{\"text\":\"Category\"}},\"yaxis\":{\"anchor\":\"x\",\"domain\":[0.0,1.0],\"title\":{\"text\":\"Number of Books\"}},\"legend\":{\"tracegroupgap\":0,\"itemsizing\":\"constant\"},\"title\":{\"text\":\"Scatter Plot of Top 20 Book Categories by Count\"}},                        {\"responsive\": true}                    ).then(function(){\n                            \nvar gd = document.getElementById('a972a8cd-f291-4923-8438-c19c07200f5f');\nvar x = new MutationObserver(function (mutations, observer) {{\n        var display = window.getComputedStyle(gd).display;\n        if (!display || display === 'none') {{\n            console.log([gd, 'removed!']);\n            Plotly.purge(gd);\n            observer.disconnect();\n        }}\n}});\n\n// Listen for the removal of the full notebook cells\nvar notebookContainer = gd.closest('#notebook-container');\nif (notebookContainer) {{\n    x.observe(notebookContainer, {childList: true});\n}}\n\n// Listen for the clearing of the current output cell\nvar outputEl = gd.closest('.output');\nif (outputEl) {{\n    x.observe(outputEl, {childList: true});\n}}\n\n                        })                };                });            </script>        </div>"
     },
     "metadata": {},
     "output_type": "display_data"
    }
   ],
   "source": [
    "\n",
    "# カテゴリ別に書籍数を数える\n",
    "df_category = books_detail.groupby('categories').count()\n",
    "df_category.reset_index(inplace=True)\n",
    "\n",
    "# 上位20件を取得し、書籍数でソートする\n",
    "df_top_categories = df_category.sort_values('Title', ascending=False).head(20)\n",
    "\n",
    "# カテゴリ別の散布図を作成する\n",
    "fig = px.scatter(df_top_categories, x='categories', y='Title', size='Title', \n",
    "                 labels={'Title':'Number of Books', 'categories':'Category'},\n",
    "                 title='Scatter Plot of Top 20 Book Categories by Count',\n",
    "                 size_max=60)\n",
    "fig.show()"
   ],
   "metadata": {
    "collapsed": false,
    "ExecuteTime": {
     "end_time": "2024-02-15T16:49:38.190475Z",
     "start_time": "2024-02-15T16:49:37.767126Z"
    }
   },
   "id": "85565b113338c135",
   "execution_count": 25
  },
  {
   "cell_type": "code",
   "outputs": [
    {
     "data": {
      "text/plain": "array([\"['Comics & Graphic Novels']\", \"['Biography & Autobiography']\",\n       \"['Religion']\", ..., \"['Portsmouth Island (N.C.)']\", \"['Tobacco']\",\n       \"['Flame in the wind (Motion picture)']\"], dtype=object)"
     },
     "execution_count": 20,
     "metadata": {},
     "output_type": "execute_result"
    }
   ],
   "source": [
    "books_detail['categories'].unique()"
   ],
   "metadata": {
    "collapsed": false,
    "ExecuteTime": {
     "end_time": "2024-02-15T16:41:16.717435Z",
     "start_time": "2024-02-15T16:41:16.710982Z"
    }
   },
   "id": "9650922493148f7d",
   "execution_count": 20
  },
  {
   "cell_type": "code",
   "outputs": [
    {
     "data": {
      "text/plain": "       ratingsCount\ncount  49752.000000\nmean      21.252975\nstd      201.340431\nmin        1.000000\n25%        1.000000\n50%        2.000000\n75%        5.000000\nmax     4895.000000",
      "text/html": "<div>\n<style scoped>\n    .dataframe tbody tr th:only-of-type {\n        vertical-align: middle;\n    }\n\n    .dataframe tbody tr th {\n        vertical-align: top;\n    }\n\n    .dataframe thead th {\n        text-align: right;\n    }\n</style>\n<table border=\"1\" class=\"dataframe\">\n  <thead>\n    <tr style=\"text-align: right;\">\n      <th></th>\n      <th>ratingsCount</th>\n    </tr>\n  </thead>\n  <tbody>\n    <tr>\n      <th>count</th>\n      <td>49752.000000</td>\n    </tr>\n    <tr>\n      <th>mean</th>\n      <td>21.252975</td>\n    </tr>\n    <tr>\n      <th>std</th>\n      <td>201.340431</td>\n    </tr>\n    <tr>\n      <th>min</th>\n      <td>1.000000</td>\n    </tr>\n    <tr>\n      <th>25%</th>\n      <td>1.000000</td>\n    </tr>\n    <tr>\n      <th>50%</th>\n      <td>2.000000</td>\n    </tr>\n    <tr>\n      <th>75%</th>\n      <td>5.000000</td>\n    </tr>\n    <tr>\n      <th>max</th>\n      <td>4895.000000</td>\n    </tr>\n  </tbody>\n</table>\n</div>"
     },
     "execution_count": 20,
     "metadata": {},
     "output_type": "execute_result"
    }
   ],
   "source": [
    "books_detail.describe()"
   ],
   "metadata": {
    "collapsed": false,
    "ExecuteTime": {
     "end_time": "2024-02-09T07:56:02.750729Z",
     "start_time": "2024-02-09T07:56:02.736749Z"
    }
   },
   "id": "d290b9af8563d140",
   "execution_count": 20
  },
  {
   "cell_type": "code",
   "outputs": [
    {
     "data": {
      "text/plain": "Id                     object\nTitle                  object\nPrice                 float64\nUser_id                object\nprofileName            object\nreview/helpfulness     object\nreview/score          float64\nreview/time             int64\nreview/summary         object\nreview/text            object\ndtype: object"
     },
     "execution_count": 21,
     "metadata": {},
     "output_type": "execute_result"
    }
   ],
   "source": [
    "reviews.dtypes"
   ],
   "metadata": {
    "collapsed": false,
    "ExecuteTime": {
     "end_time": "2024-02-09T07:56:02.764639Z",
     "start_time": "2024-02-09T07:56:02.753065Z"
    }
   },
   "id": "e92ba671938c4cd3",
   "execution_count": 21
  },
  {
   "cell_type": "code",
   "outputs": [
    {
     "data": {
      "text/plain": "Id                          0\nTitle                     208\nPrice                 2518829\nUser_id                561787\nprofileName            561886\nreview/helpfulness          0\nreview/score                0\nreview/time                 0\nreview/summary             38\nreview/text                 8\ndtype: int64"
     },
     "execution_count": 22,
     "metadata": {},
     "output_type": "execute_result"
    }
   ],
   "source": [
    "reviews.isnull().sum()"
   ],
   "metadata": {
    "collapsed": false,
    "ExecuteTime": {
     "end_time": "2024-02-09T07:56:04.951507Z",
     "start_time": "2024-02-09T07:56:02.758041Z"
    }
   },
   "id": "1ec3b206d3d54242",
   "execution_count": 22
  },
  {
   "cell_type": "code",
   "outputs": [
    {
     "data": {
      "text/plain": "Title             object\ndescription       object\nauthors           object\nimage             object\npreviewLink       object\npublisher         object\npublishedDate     object\ninfoLink          object\ncategories        object\nratingsCount     float64\ndtype: object"
     },
     "execution_count": 23,
     "metadata": {},
     "output_type": "execute_result"
    }
   ],
   "source": [
    "books_detail.dtypes"
   ],
   "metadata": {
    "collapsed": false,
    "ExecuteTime": {
     "end_time": "2024-02-09T07:56:04.955365Z",
     "start_time": "2024-02-09T07:56:04.950626Z"
    }
   },
   "id": "52110f8151392a0c",
   "execution_count": 23
  },
  {
   "cell_type": "code",
   "outputs": [
    {
     "data": {
      "text/plain": "Title                 1\ndescription       68442\nauthors           31413\nimage             52075\npreviewLink       23836\npublisher         75886\npublishedDate     25305\ninfoLink          23836\ncategories        41199\nratingsCount     162652\ndtype: int64"
     },
     "execution_count": 24,
     "metadata": {},
     "output_type": "execute_result"
    }
   ],
   "source": [
    "books_detail.isnull().sum()"
   ],
   "metadata": {
    "collapsed": false,
    "ExecuteTime": {
     "end_time": "2024-02-09T07:56:05.153965Z",
     "start_time": "2024-02-09T07:56:04.953946Z"
    }
   },
   "id": "b0c58b96d617eb0b",
   "execution_count": 24
  },
  {
   "cell_type": "code",
   "outputs": [
    {
     "data": {
      "text/plain": "           Id                           Title  Price         User_id  \\\n0  1882931173  Its Only Art If Its Well Hung!    NaN   AVCGYZL8FQQTD   \n1  0826414346        Dr. Seuss: American Icon    NaN  A30TK6U7DNS82R   \n2  0826414346        Dr. Seuss: American Icon    NaN  A3UH4UZ4RSVO82   \n3  0826414346        Dr. Seuss: American Icon    NaN  A2MVUWT453QH61   \n4  0826414346        Dr. Seuss: American Icon    NaN  A22X4XUPKF66MR   \n\n                          profileName review/helpfulness  review/score  \\\n0               Jim of Oz \"jim-of-oz\"                7/7           4.0   \n1                       Kevin Killian              10/10           5.0   \n2                        John Granger              10/11           5.0   \n3  Roy E. Perry \"amateur philosopher\"                7/7           4.0   \n4     D. H. Richards \"ninthwavestore\"                3/3           4.0   \n\n   review/time                                   review/summary  \\\n0    940636800           Nice collection of Julie Strain images   \n1   1095724800                                Really Enjoyed It   \n2   1078790400  Essential for every personal and Public Library   \n3   1090713600  Phlip Nel gives silly Seuss a serious treatment   \n4   1107993600                           Good academic overview   \n\n                                         review/text  \n0  This is only for Julie Strain fans. It's a col...  \n1  I don't care much for Dr. Seuss but after read...  \n2  If people become the books they read and if \"t...  \n3  Theodore Seuss Geisel (1904-1991), aka &quot;D...  \n4  Philip Nel - Dr. Seuss: American IconThis is b...  ",
      "text/html": "<div>\n<style scoped>\n    .dataframe tbody tr th:only-of-type {\n        vertical-align: middle;\n    }\n\n    .dataframe tbody tr th {\n        vertical-align: top;\n    }\n\n    .dataframe thead th {\n        text-align: right;\n    }\n</style>\n<table border=\"1\" class=\"dataframe\">\n  <thead>\n    <tr style=\"text-align: right;\">\n      <th></th>\n      <th>Id</th>\n      <th>Title</th>\n      <th>Price</th>\n      <th>User_id</th>\n      <th>profileName</th>\n      <th>review/helpfulness</th>\n      <th>review/score</th>\n      <th>review/time</th>\n      <th>review/summary</th>\n      <th>review/text</th>\n    </tr>\n  </thead>\n  <tbody>\n    <tr>\n      <th>0</th>\n      <td>1882931173</td>\n      <td>Its Only Art If Its Well Hung!</td>\n      <td>NaN</td>\n      <td>AVCGYZL8FQQTD</td>\n      <td>Jim of Oz \"jim-of-oz\"</td>\n      <td>7/7</td>\n      <td>4.0</td>\n      <td>940636800</td>\n      <td>Nice collection of Julie Strain images</td>\n      <td>This is only for Julie Strain fans. It's a col...</td>\n    </tr>\n    <tr>\n      <th>1</th>\n      <td>0826414346</td>\n      <td>Dr. Seuss: American Icon</td>\n      <td>NaN</td>\n      <td>A30TK6U7DNS82R</td>\n      <td>Kevin Killian</td>\n      <td>10/10</td>\n      <td>5.0</td>\n      <td>1095724800</td>\n      <td>Really Enjoyed It</td>\n      <td>I don't care much for Dr. Seuss but after read...</td>\n    </tr>\n    <tr>\n      <th>2</th>\n      <td>0826414346</td>\n      <td>Dr. Seuss: American Icon</td>\n      <td>NaN</td>\n      <td>A3UH4UZ4RSVO82</td>\n      <td>John Granger</td>\n      <td>10/11</td>\n      <td>5.0</td>\n      <td>1078790400</td>\n      <td>Essential for every personal and Public Library</td>\n      <td>If people become the books they read and if \"t...</td>\n    </tr>\n    <tr>\n      <th>3</th>\n      <td>0826414346</td>\n      <td>Dr. Seuss: American Icon</td>\n      <td>NaN</td>\n      <td>A2MVUWT453QH61</td>\n      <td>Roy E. Perry \"amateur philosopher\"</td>\n      <td>7/7</td>\n      <td>4.0</td>\n      <td>1090713600</td>\n      <td>Phlip Nel gives silly Seuss a serious treatment</td>\n      <td>Theodore Seuss Geisel (1904-1991), aka &amp;quot;D...</td>\n    </tr>\n    <tr>\n      <th>4</th>\n      <td>0826414346</td>\n      <td>Dr. Seuss: American Icon</td>\n      <td>NaN</td>\n      <td>A22X4XUPKF66MR</td>\n      <td>D. H. Richards \"ninthwavestore\"</td>\n      <td>3/3</td>\n      <td>4.0</td>\n      <td>1107993600</td>\n      <td>Good academic overview</td>\n      <td>Philip Nel - Dr. Seuss: American IconThis is b...</td>\n    </tr>\n  </tbody>\n</table>\n</div>"
     },
     "execution_count": 25,
     "metadata": {},
     "output_type": "execute_result"
    }
   ],
   "source": [
    "reviews.head()"
   ],
   "metadata": {
    "collapsed": false,
    "ExecuteTime": {
     "end_time": "2024-02-09T07:56:05.161851Z",
     "start_time": "2024-02-09T07:56:05.158748Z"
    }
   },
   "id": "7b91eab81fa0c367",
   "execution_count": 25
  },
  {
   "cell_type": "code",
   "outputs": [
    {
     "data": {
      "text/plain": "                                               Title  \\\n0                     Its Only Art If Its Well Hung!   \n1                           Dr. Seuss: American Icon   \n2              Wonderful Worship in Smaller Churches   \n3                      Whispers of the Wicked Saints   \n4  Nation Dance: Religion, Identity and Cultural ...   \n\n                                         description              authors  \\\n0                                                NaN     ['Julie Strain']   \n1  Philip Nel takes a fascinating look into the k...       ['Philip Nel']   \n2  This resource includes twelve principles in un...     ['David R. Ray']   \n3  Julia Thomas finds her life spinning out of co...  ['Veronica Haddon']   \n4                                                NaN      ['Edward Long']   \n\n                                               image  \\\n0  http://books.google.com/books/content?id=DykPA...   \n1  http://books.google.com/books/content?id=IjvHQ...   \n2  http://books.google.com/books/content?id=2tsDA...   \n3  http://books.google.com/books/content?id=aRSIg...   \n4                                                NaN   \n\n                                         previewLink  publisher publishedDate  \\\n0  http://books.google.nl/books?id=DykPAAAACAAJ&d...        NaN          1996   \n1  http://books.google.nl/books?id=IjvHQsCn_pgC&p...  A&C Black    2005-01-01   \n2  http://books.google.nl/books?id=2tsDAAAACAAJ&d...        NaN          2000   \n3  http://books.google.nl/books?id=aRSIgJlq6JwC&d...  iUniverse       2005-02   \n4  http://books.google.nl/books?id=399SPgAACAAJ&d...        NaN    2003-03-01   \n\n                                            infoLink  \\\n0  http://books.google.nl/books?id=DykPAAAACAAJ&d...   \n1  http://books.google.nl/books?id=IjvHQsCn_pgC&d...   \n2  http://books.google.nl/books?id=2tsDAAAACAAJ&d...   \n3  http://books.google.nl/books?id=aRSIgJlq6JwC&d...   \n4  http://books.google.nl/books?id=399SPgAACAAJ&d...   \n\n                      categories  ratingsCount  \n0    ['Comics & Graphic Novels']           NaN  \n1  ['Biography & Autobiography']           NaN  \n2                   ['Religion']           NaN  \n3                    ['Fiction']           NaN  \n4                            NaN           NaN  ",
      "text/html": "<div>\n<style scoped>\n    .dataframe tbody tr th:only-of-type {\n        vertical-align: middle;\n    }\n\n    .dataframe tbody tr th {\n        vertical-align: top;\n    }\n\n    .dataframe thead th {\n        text-align: right;\n    }\n</style>\n<table border=\"1\" class=\"dataframe\">\n  <thead>\n    <tr style=\"text-align: right;\">\n      <th></th>\n      <th>Title</th>\n      <th>description</th>\n      <th>authors</th>\n      <th>image</th>\n      <th>previewLink</th>\n      <th>publisher</th>\n      <th>publishedDate</th>\n      <th>infoLink</th>\n      <th>categories</th>\n      <th>ratingsCount</th>\n    </tr>\n  </thead>\n  <tbody>\n    <tr>\n      <th>0</th>\n      <td>Its Only Art If Its Well Hung!</td>\n      <td>NaN</td>\n      <td>['Julie Strain']</td>\n      <td>http://books.google.com/books/content?id=DykPA...</td>\n      <td>http://books.google.nl/books?id=DykPAAAACAAJ&amp;d...</td>\n      <td>NaN</td>\n      <td>1996</td>\n      <td>http://books.google.nl/books?id=DykPAAAACAAJ&amp;d...</td>\n      <td>['Comics &amp; Graphic Novels']</td>\n      <td>NaN</td>\n    </tr>\n    <tr>\n      <th>1</th>\n      <td>Dr. Seuss: American Icon</td>\n      <td>Philip Nel takes a fascinating look into the k...</td>\n      <td>['Philip Nel']</td>\n      <td>http://books.google.com/books/content?id=IjvHQ...</td>\n      <td>http://books.google.nl/books?id=IjvHQsCn_pgC&amp;p...</td>\n      <td>A&amp;C Black</td>\n      <td>2005-01-01</td>\n      <td>http://books.google.nl/books?id=IjvHQsCn_pgC&amp;d...</td>\n      <td>['Biography &amp; Autobiography']</td>\n      <td>NaN</td>\n    </tr>\n    <tr>\n      <th>2</th>\n      <td>Wonderful Worship in Smaller Churches</td>\n      <td>This resource includes twelve principles in un...</td>\n      <td>['David R. Ray']</td>\n      <td>http://books.google.com/books/content?id=2tsDA...</td>\n      <td>http://books.google.nl/books?id=2tsDAAAACAAJ&amp;d...</td>\n      <td>NaN</td>\n      <td>2000</td>\n      <td>http://books.google.nl/books?id=2tsDAAAACAAJ&amp;d...</td>\n      <td>['Religion']</td>\n      <td>NaN</td>\n    </tr>\n    <tr>\n      <th>3</th>\n      <td>Whispers of the Wicked Saints</td>\n      <td>Julia Thomas finds her life spinning out of co...</td>\n      <td>['Veronica Haddon']</td>\n      <td>http://books.google.com/books/content?id=aRSIg...</td>\n      <td>http://books.google.nl/books?id=aRSIgJlq6JwC&amp;d...</td>\n      <td>iUniverse</td>\n      <td>2005-02</td>\n      <td>http://books.google.nl/books?id=aRSIgJlq6JwC&amp;d...</td>\n      <td>['Fiction']</td>\n      <td>NaN</td>\n    </tr>\n    <tr>\n      <th>4</th>\n      <td>Nation Dance: Religion, Identity and Cultural ...</td>\n      <td>NaN</td>\n      <td>['Edward Long']</td>\n      <td>NaN</td>\n      <td>http://books.google.nl/books?id=399SPgAACAAJ&amp;d...</td>\n      <td>NaN</td>\n      <td>2003-03-01</td>\n      <td>http://books.google.nl/books?id=399SPgAACAAJ&amp;d...</td>\n      <td>NaN</td>\n      <td>NaN</td>\n    </tr>\n  </tbody>\n</table>\n</div>"
     },
     "execution_count": 26,
     "metadata": {},
     "output_type": "execute_result"
    }
   ],
   "source": [
    "books_detail.head()"
   ],
   "metadata": {
    "collapsed": false,
    "ExecuteTime": {
     "end_time": "2024-02-09T07:56:05.169487Z",
     "start_time": "2024-02-09T07:56:05.166233Z"
    }
   },
   "id": "bcb999f2019fded4",
   "execution_count": 26
  },
  {
   "cell_type": "code",
   "outputs": [],
   "source": [
    "# #Strategy\n",
    "# \n",
    "# dependent variable is review/time\n",
    "# independnt _______\n",
    "# which one is most affect\n",
    "# model:\n",
    "# test: divide test and train"
   ],
   "metadata": {
    "collapsed": false,
    "ExecuteTime": {
     "end_time": "2024-02-09T07:56:05.187569Z",
     "start_time": "2024-02-09T07:56:05.171015Z"
    }
   },
   "id": "cfdfababa1a59ae5",
   "execution_count": 26
  }
 ],
 "metadata": {
  "kernelspec": {
   "display_name": "Python 3",
   "language": "python",
   "name": "python3"
  },
  "language_info": {
   "codemirror_mode": {
    "name": "ipython",
    "version": 2
   },
   "file_extension": ".py",
   "mimetype": "text/x-python",
   "name": "python",
   "nbconvert_exporter": "python",
   "pygments_lexer": "ipython2",
   "version": "2.7.6"
  }
 },
 "nbformat": 4,
 "nbformat_minor": 5
}
