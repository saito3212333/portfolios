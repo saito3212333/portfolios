{
 "cells": [
  {
   "cell_type": "code",
   "execution_count": 2,
   "id": "initial_id",
   "metadata": {
    "collapsed": true,
    "ExecuteTime": {
     "end_time": "2024-02-15T14:37:40.580610Z",
     "start_time": "2024-02-15T14:37:38.664104Z"
    }
   },
   "outputs": [],
   "source": [
    "import pandas as pd"
   ]
  },
  {
   "cell_type": "code",
   "outputs": [],
   "source": [
    "books_detail = pd.read_csv('./Data/books_data.csv')\n",
    "reviews = pd.read_csv('./Data/Books_rating.csv')\n",
    "\n"
   ],
   "metadata": {
    "collapsed": false,
    "ExecuteTime": {
     "end_time": "2024-02-15T14:38:21.040922Z",
     "start_time": "2024-02-15T14:37:53.454987Z"
    }
   },
   "id": "8c7f8d8349b97725",
   "execution_count": 3
  },
  {
   "cell_type": "code",
   "outputs": [
    {
     "data": {
      "text/plain": "                Id       Title          Price         User_id  \\\ncount      3000000     2999792  481171.000000         2438213   \nunique      221998      212403            NaN         1008972   \ntop     B000IEZE3G  The Hobbit            NaN  A14OJS0VWMOSWO   \nfreq          6796       22023            NaN            5795   \nmean           NaN         NaN      21.762656             NaN   \nstd            NaN         NaN      26.206541             NaN   \nmin            NaN         NaN       1.000000             NaN   \n25%            NaN         NaN      10.780000             NaN   \n50%            NaN         NaN      14.930000             NaN   \n75%            NaN         NaN      23.950000             NaN   \nmax            NaN         NaN     995.000000             NaN   \n\n                profileName review/helpfulness  review/score   review/time  \\\ncount               2438114            3000000  3.000000e+06  3.000000e+06   \nunique               854146              12084           NaN           NaN   \ntop     Midwest Book Review                0/0           NaN           NaN   \nfreq                   5817             885732           NaN           NaN   \nmean                    NaN                NaN  4.215289e+00  1.132307e+09   \nstd                     NaN                NaN  1.203054e+00  1.493202e+08   \nmin                     NaN                NaN  1.000000e+00 -1.000000e+00   \n25%                     NaN                NaN  4.000000e+00  9.999072e+08   \n50%                     NaN                NaN  5.000000e+00  1.128298e+09   \n75%                     NaN                NaN  5.000000e+00  1.269130e+09   \nmax                     NaN                NaN  5.000000e+00  1.362355e+09   \n\n       review/summary                                        review/text  \ncount         2999962                                            2999992  \nunique        1592315                                            2062648  \ntop        Great Book  digital books are perfect and easy to use! The...  \nfreq             6848                                                322  \nmean              NaN                                                NaN  \nstd               NaN                                                NaN  \nmin               NaN                                                NaN  \n25%               NaN                                                NaN  \n50%               NaN                                                NaN  \n75%               NaN                                                NaN  \nmax               NaN                                                NaN  ",
      "text/html": "<div>\n<style scoped>\n    .dataframe tbody tr th:only-of-type {\n        vertical-align: middle;\n    }\n\n    .dataframe tbody tr th {\n        vertical-align: top;\n    }\n\n    .dataframe thead th {\n        text-align: right;\n    }\n</style>\n<table border=\"1\" class=\"dataframe\">\n  <thead>\n    <tr style=\"text-align: right;\">\n      <th></th>\n      <th>Id</th>\n      <th>Title</th>\n      <th>Price</th>\n      <th>User_id</th>\n      <th>profileName</th>\n      <th>review/helpfulness</th>\n      <th>review/score</th>\n      <th>review/time</th>\n      <th>review/summary</th>\n      <th>review/text</th>\n    </tr>\n  </thead>\n  <tbody>\n    <tr>\n      <th>count</th>\n      <td>3000000</td>\n      <td>2999792</td>\n      <td>481171.000000</td>\n      <td>2438213</td>\n      <td>2438114</td>\n      <td>3000000</td>\n      <td>3.000000e+06</td>\n      <td>3.000000e+06</td>\n      <td>2999962</td>\n      <td>2999992</td>\n    </tr>\n    <tr>\n      <th>unique</th>\n      <td>221998</td>\n      <td>212403</td>\n      <td>NaN</td>\n      <td>1008972</td>\n      <td>854146</td>\n      <td>12084</td>\n      <td>NaN</td>\n      <td>NaN</td>\n      <td>1592315</td>\n      <td>2062648</td>\n    </tr>\n    <tr>\n      <th>top</th>\n      <td>B000IEZE3G</td>\n      <td>The Hobbit</td>\n      <td>NaN</td>\n      <td>A14OJS0VWMOSWO</td>\n      <td>Midwest Book Review</td>\n      <td>0/0</td>\n      <td>NaN</td>\n      <td>NaN</td>\n      <td>Great Book</td>\n      <td>digital books are perfect and easy to use! The...</td>\n    </tr>\n    <tr>\n      <th>freq</th>\n      <td>6796</td>\n      <td>22023</td>\n      <td>NaN</td>\n      <td>5795</td>\n      <td>5817</td>\n      <td>885732</td>\n      <td>NaN</td>\n      <td>NaN</td>\n      <td>6848</td>\n      <td>322</td>\n    </tr>\n    <tr>\n      <th>mean</th>\n      <td>NaN</td>\n      <td>NaN</td>\n      <td>21.762656</td>\n      <td>NaN</td>\n      <td>NaN</td>\n      <td>NaN</td>\n      <td>4.215289e+00</td>\n      <td>1.132307e+09</td>\n      <td>NaN</td>\n      <td>NaN</td>\n    </tr>\n    <tr>\n      <th>std</th>\n      <td>NaN</td>\n      <td>NaN</td>\n      <td>26.206541</td>\n      <td>NaN</td>\n      <td>NaN</td>\n      <td>NaN</td>\n      <td>1.203054e+00</td>\n      <td>1.493202e+08</td>\n      <td>NaN</td>\n      <td>NaN</td>\n    </tr>\n    <tr>\n      <th>min</th>\n      <td>NaN</td>\n      <td>NaN</td>\n      <td>1.000000</td>\n      <td>NaN</td>\n      <td>NaN</td>\n      <td>NaN</td>\n      <td>1.000000e+00</td>\n      <td>-1.000000e+00</td>\n      <td>NaN</td>\n      <td>NaN</td>\n    </tr>\n    <tr>\n      <th>25%</th>\n      <td>NaN</td>\n      <td>NaN</td>\n      <td>10.780000</td>\n      <td>NaN</td>\n      <td>NaN</td>\n      <td>NaN</td>\n      <td>4.000000e+00</td>\n      <td>9.999072e+08</td>\n      <td>NaN</td>\n      <td>NaN</td>\n    </tr>\n    <tr>\n      <th>50%</th>\n      <td>NaN</td>\n      <td>NaN</td>\n      <td>14.930000</td>\n      <td>NaN</td>\n      <td>NaN</td>\n      <td>NaN</td>\n      <td>5.000000e+00</td>\n      <td>1.128298e+09</td>\n      <td>NaN</td>\n      <td>NaN</td>\n    </tr>\n    <tr>\n      <th>75%</th>\n      <td>NaN</td>\n      <td>NaN</td>\n      <td>23.950000</td>\n      <td>NaN</td>\n      <td>NaN</td>\n      <td>NaN</td>\n      <td>5.000000e+00</td>\n      <td>1.269130e+09</td>\n      <td>NaN</td>\n      <td>NaN</td>\n    </tr>\n    <tr>\n      <th>max</th>\n      <td>NaN</td>\n      <td>NaN</td>\n      <td>995.000000</td>\n      <td>NaN</td>\n      <td>NaN</td>\n      <td>NaN</td>\n      <td>5.000000e+00</td>\n      <td>1.362355e+09</td>\n      <td>NaN</td>\n      <td>NaN</td>\n    </tr>\n  </tbody>\n</table>\n</div>"
     },
     "execution_count": 9,
     "metadata": {},
     "output_type": "execute_result"
    }
   ],
   "source": [
    "reviews.describe(include='all')\n",
    "#reviews.describe()"
   ],
   "metadata": {
    "collapsed": false,
    "ExecuteTime": {
     "end_time": "2024-02-15T14:42:43.656031Z",
     "start_time": "2024-02-15T14:42:37.061446Z"
    }
   },
   "id": "37d62c874b3d8e7c",
   "execution_count": 9
  },
  {
   "cell_type": "code",
   "outputs": [
    {
     "data": {
      "text/plain": "               Price  review/score   review/time\ncount  481171.000000  3.000000e+06  3.000000e+06\nmean       21.762656  4.215289e+00  1.132307e+09\nstd        26.206541  1.203054e+00  1.493202e+08\nmin         1.000000  1.000000e+00 -1.000000e+00\n25%        10.780000  4.000000e+00  9.999072e+08\n50%        14.930000  5.000000e+00  1.128298e+09\n75%        23.950000  5.000000e+00  1.269130e+09\nmax       995.000000  5.000000e+00  1.362355e+09",
      "text/html": "<div>\n<style scoped>\n    .dataframe tbody tr th:only-of-type {\n        vertical-align: middle;\n    }\n\n    .dataframe tbody tr th {\n        vertical-align: top;\n    }\n\n    .dataframe thead th {\n        text-align: right;\n    }\n</style>\n<table border=\"1\" class=\"dataframe\">\n  <thead>\n    <tr style=\"text-align: right;\">\n      <th></th>\n      <th>Price</th>\n      <th>review/score</th>\n      <th>review/time</th>\n    </tr>\n  </thead>\n  <tbody>\n    <tr>\n      <th>count</th>\n      <td>481171.000000</td>\n      <td>3.000000e+06</td>\n      <td>3.000000e+06</td>\n    </tr>\n    <tr>\n      <th>mean</th>\n      <td>21.762656</td>\n      <td>4.215289e+00</td>\n      <td>1.132307e+09</td>\n    </tr>\n    <tr>\n      <th>std</th>\n      <td>26.206541</td>\n      <td>1.203054e+00</td>\n      <td>1.493202e+08</td>\n    </tr>\n    <tr>\n      <th>min</th>\n      <td>1.000000</td>\n      <td>1.000000e+00</td>\n      <td>-1.000000e+00</td>\n    </tr>\n    <tr>\n      <th>25%</th>\n      <td>10.780000</td>\n      <td>4.000000e+00</td>\n      <td>9.999072e+08</td>\n    </tr>\n    <tr>\n      <th>50%</th>\n      <td>14.930000</td>\n      <td>5.000000e+00</td>\n      <td>1.128298e+09</td>\n    </tr>\n    <tr>\n      <th>75%</th>\n      <td>23.950000</td>\n      <td>5.000000e+00</td>\n      <td>1.269130e+09</td>\n    </tr>\n    <tr>\n      <th>max</th>\n      <td>995.000000</td>\n      <td>5.000000e+00</td>\n      <td>1.362355e+09</td>\n    </tr>\n  </tbody>\n</table>\n</div>"
     },
     "execution_count": 10,
     "metadata": {},
     "output_type": "execute_result"
    }
   ],
   "source": [
    "reviews.describe()"
   ],
   "metadata": {
    "collapsed": false,
    "ExecuteTime": {
     "end_time": "2024-02-15T14:42:49.845822Z",
     "start_time": "2024-02-15T14:42:49.674833Z"
    }
   },
   "id": "5ee5b55794dc7d65",
   "execution_count": 10
  },
  {
   "cell_type": "code",
   "outputs": [
    {
     "data": {
      "text/plain": "       ratingsCount\ncount  49752.000000\nmean      21.252975\nstd      201.340431\nmin        1.000000\n25%        1.000000\n50%        2.000000\n75%        5.000000\nmax     4895.000000",
      "text/html": "<div>\n<style scoped>\n    .dataframe tbody tr th:only-of-type {\n        vertical-align: middle;\n    }\n\n    .dataframe tbody tr th {\n        vertical-align: top;\n    }\n\n    .dataframe thead th {\n        text-align: right;\n    }\n</style>\n<table border=\"1\" class=\"dataframe\">\n  <thead>\n    <tr style=\"text-align: right;\">\n      <th></th>\n      <th>ratingsCount</th>\n    </tr>\n  </thead>\n  <tbody>\n    <tr>\n      <th>count</th>\n      <td>49752.000000</td>\n    </tr>\n    <tr>\n      <th>mean</th>\n      <td>21.252975</td>\n    </tr>\n    <tr>\n      <th>std</th>\n      <td>201.340431</td>\n    </tr>\n    <tr>\n      <th>min</th>\n      <td>1.000000</td>\n    </tr>\n    <tr>\n      <th>25%</th>\n      <td>1.000000</td>\n    </tr>\n    <tr>\n      <th>50%</th>\n      <td>2.000000</td>\n    </tr>\n    <tr>\n      <th>75%</th>\n      <td>5.000000</td>\n    </tr>\n    <tr>\n      <th>max</th>\n      <td>4895.000000</td>\n    </tr>\n  </tbody>\n</table>\n</div>"
     },
     "execution_count": 20,
     "metadata": {},
     "output_type": "execute_result"
    }
   ],
   "source": [
    "books_detail.describe()"
   ],
   "metadata": {
    "collapsed": false,
    "ExecuteTime": {
     "end_time": "2024-02-09T07:56:02.750729Z",
     "start_time": "2024-02-09T07:56:02.736749Z"
    }
   },
   "id": "d290b9af8563d140",
   "execution_count": 20
  },
  {
   "cell_type": "code",
   "outputs": [
    {
     "data": {
      "text/plain": "Id                     object\nTitle                  object\nPrice                 float64\nUser_id                object\nprofileName            object\nreview/helpfulness     object\nreview/score          float64\nreview/time             int64\nreview/summary         object\nreview/text            object\ndtype: object"
     },
     "execution_count": 21,
     "metadata": {},
     "output_type": "execute_result"
    }
   ],
   "source": [
    "reviews.dtypes"
   ],
   "metadata": {
    "collapsed": false,
    "ExecuteTime": {
     "end_time": "2024-02-09T07:56:02.764639Z",
     "start_time": "2024-02-09T07:56:02.753065Z"
    }
   },
   "id": "e92ba671938c4cd3",
   "execution_count": 21
  },
  {
   "cell_type": "code",
   "outputs": [
    {
     "data": {
      "text/plain": "Id                          0\nTitle                     208\nPrice                 2518829\nUser_id                561787\nprofileName            561886\nreview/helpfulness          0\nreview/score                0\nreview/time                 0\nreview/summary             38\nreview/text                 8\ndtype: int64"
     },
     "execution_count": 22,
     "metadata": {},
     "output_type": "execute_result"
    }
   ],
   "source": [
    "reviews.isnull().sum()"
   ],
   "metadata": {
    "collapsed": false,
    "ExecuteTime": {
     "end_time": "2024-02-09T07:56:04.951507Z",
     "start_time": "2024-02-09T07:56:02.758041Z"
    }
   },
   "id": "1ec3b206d3d54242",
   "execution_count": 22
  },
  {
   "cell_type": "code",
   "outputs": [
    {
     "data": {
      "text/plain": "Title             object\ndescription       object\nauthors           object\nimage             object\npreviewLink       object\npublisher         object\npublishedDate     object\ninfoLink          object\ncategories        object\nratingsCount     float64\ndtype: object"
     },
     "execution_count": 23,
     "metadata": {},
     "output_type": "execute_result"
    }
   ],
   "source": [
    "books_detail.dtypes"
   ],
   "metadata": {
    "collapsed": false,
    "ExecuteTime": {
     "end_time": "2024-02-09T07:56:04.955365Z",
     "start_time": "2024-02-09T07:56:04.950626Z"
    }
   },
   "id": "52110f8151392a0c",
   "execution_count": 23
  },
  {
   "cell_type": "code",
   "outputs": [
    {
     "data": {
      "text/plain": "Title                 1\ndescription       68442\nauthors           31413\nimage             52075\npreviewLink       23836\npublisher         75886\npublishedDate     25305\ninfoLink          23836\ncategories        41199\nratingsCount     162652\ndtype: int64"
     },
     "execution_count": 24,
     "metadata": {},
     "output_type": "execute_result"
    }
   ],
   "source": [
    "books_detail.isnull().sum()"
   ],
   "metadata": {
    "collapsed": false,
    "ExecuteTime": {
     "end_time": "2024-02-09T07:56:05.153965Z",
     "start_time": "2024-02-09T07:56:04.953946Z"
    }
   },
   "id": "b0c58b96d617eb0b",
   "execution_count": 24
  },
  {
   "cell_type": "code",
   "outputs": [
    {
     "data": {
      "text/plain": "           Id                           Title  Price         User_id  \\\n0  1882931173  Its Only Art If Its Well Hung!    NaN   AVCGYZL8FQQTD   \n1  0826414346        Dr. Seuss: American Icon    NaN  A30TK6U7DNS82R   \n2  0826414346        Dr. Seuss: American Icon    NaN  A3UH4UZ4RSVO82   \n3  0826414346        Dr. Seuss: American Icon    NaN  A2MVUWT453QH61   \n4  0826414346        Dr. Seuss: American Icon    NaN  A22X4XUPKF66MR   \n\n                          profileName review/helpfulness  review/score  \\\n0               Jim of Oz \"jim-of-oz\"                7/7           4.0   \n1                       Kevin Killian              10/10           5.0   \n2                        John Granger              10/11           5.0   \n3  Roy E. Perry \"amateur philosopher\"                7/7           4.0   \n4     D. H. Richards \"ninthwavestore\"                3/3           4.0   \n\n   review/time                                   review/summary  \\\n0    940636800           Nice collection of Julie Strain images   \n1   1095724800                                Really Enjoyed It   \n2   1078790400  Essential for every personal and Public Library   \n3   1090713600  Phlip Nel gives silly Seuss a serious treatment   \n4   1107993600                           Good academic overview   \n\n                                         review/text  \n0  This is only for Julie Strain fans. It's a col...  \n1  I don't care much for Dr. Seuss but after read...  \n2  If people become the books they read and if \"t...  \n3  Theodore Seuss Geisel (1904-1991), aka &quot;D...  \n4  Philip Nel - Dr. Seuss: American IconThis is b...  ",
      "text/html": "<div>\n<style scoped>\n    .dataframe tbody tr th:only-of-type {\n        vertical-align: middle;\n    }\n\n    .dataframe tbody tr th {\n        vertical-align: top;\n    }\n\n    .dataframe thead th {\n        text-align: right;\n    }\n</style>\n<table border=\"1\" class=\"dataframe\">\n  <thead>\n    <tr style=\"text-align: right;\">\n      <th></th>\n      <th>Id</th>\n      <th>Title</th>\n      <th>Price</th>\n      <th>User_id</th>\n      <th>profileName</th>\n      <th>review/helpfulness</th>\n      <th>review/score</th>\n      <th>review/time</th>\n      <th>review/summary</th>\n      <th>review/text</th>\n    </tr>\n  </thead>\n  <tbody>\n    <tr>\n      <th>0</th>\n      <td>1882931173</td>\n      <td>Its Only Art If Its Well Hung!</td>\n      <td>NaN</td>\n      <td>AVCGYZL8FQQTD</td>\n      <td>Jim of Oz \"jim-of-oz\"</td>\n      <td>7/7</td>\n      <td>4.0</td>\n      <td>940636800</td>\n      <td>Nice collection of Julie Strain images</td>\n      <td>This is only for Julie Strain fans. It's a col...</td>\n    </tr>\n    <tr>\n      <th>1</th>\n      <td>0826414346</td>\n      <td>Dr. Seuss: American Icon</td>\n      <td>NaN</td>\n      <td>A30TK6U7DNS82R</td>\n      <td>Kevin Killian</td>\n      <td>10/10</td>\n      <td>5.0</td>\n      <td>1095724800</td>\n      <td>Really Enjoyed It</td>\n      <td>I don't care much for Dr. Seuss but after read...</td>\n    </tr>\n    <tr>\n      <th>2</th>\n      <td>0826414346</td>\n      <td>Dr. Seuss: American Icon</td>\n      <td>NaN</td>\n      <td>A3UH4UZ4RSVO82</td>\n      <td>John Granger</td>\n      <td>10/11</td>\n      <td>5.0</td>\n      <td>1078790400</td>\n      <td>Essential for every personal and Public Library</td>\n      <td>If people become the books they read and if \"t...</td>\n    </tr>\n    <tr>\n      <th>3</th>\n      <td>0826414346</td>\n      <td>Dr. Seuss: American Icon</td>\n      <td>NaN</td>\n      <td>A2MVUWT453QH61</td>\n      <td>Roy E. Perry \"amateur philosopher\"</td>\n      <td>7/7</td>\n      <td>4.0</td>\n      <td>1090713600</td>\n      <td>Phlip Nel gives silly Seuss a serious treatment</td>\n      <td>Theodore Seuss Geisel (1904-1991), aka &amp;quot;D...</td>\n    </tr>\n    <tr>\n      <th>4</th>\n      <td>0826414346</td>\n      <td>Dr. Seuss: American Icon</td>\n      <td>NaN</td>\n      <td>A22X4XUPKF66MR</td>\n      <td>D. H. Richards \"ninthwavestore\"</td>\n      <td>3/3</td>\n      <td>4.0</td>\n      <td>1107993600</td>\n      <td>Good academic overview</td>\n      <td>Philip Nel - Dr. Seuss: American IconThis is b...</td>\n    </tr>\n  </tbody>\n</table>\n</div>"
     },
     "execution_count": 25,
     "metadata": {},
     "output_type": "execute_result"
    }
   ],
   "source": [
    "reviews.head()"
   ],
   "metadata": {
    "collapsed": false,
    "ExecuteTime": {
     "end_time": "2024-02-09T07:56:05.161851Z",
     "start_time": "2024-02-09T07:56:05.158748Z"
    }
   },
   "id": "7b91eab81fa0c367",
   "execution_count": 25
  },
  {
   "cell_type": "code",
   "outputs": [
    {
     "data": {
      "text/plain": "                                               Title  \\\n0                     Its Only Art If Its Well Hung!   \n1                           Dr. Seuss: American Icon   \n2              Wonderful Worship in Smaller Churches   \n3                      Whispers of the Wicked Saints   \n4  Nation Dance: Religion, Identity and Cultural ...   \n\n                                         description              authors  \\\n0                                                NaN     ['Julie Strain']   \n1  Philip Nel takes a fascinating look into the k...       ['Philip Nel']   \n2  This resource includes twelve principles in un...     ['David R. Ray']   \n3  Julia Thomas finds her life spinning out of co...  ['Veronica Haddon']   \n4                                                NaN      ['Edward Long']   \n\n                                               image  \\\n0  http://books.google.com/books/content?id=DykPA...   \n1  http://books.google.com/books/content?id=IjvHQ...   \n2  http://books.google.com/books/content?id=2tsDA...   \n3  http://books.google.com/books/content?id=aRSIg...   \n4                                                NaN   \n\n                                         previewLink  publisher publishedDate  \\\n0  http://books.google.nl/books?id=DykPAAAACAAJ&d...        NaN          1996   \n1  http://books.google.nl/books?id=IjvHQsCn_pgC&p...  A&C Black    2005-01-01   \n2  http://books.google.nl/books?id=2tsDAAAACAAJ&d...        NaN          2000   \n3  http://books.google.nl/books?id=aRSIgJlq6JwC&d...  iUniverse       2005-02   \n4  http://books.google.nl/books?id=399SPgAACAAJ&d...        NaN    2003-03-01   \n\n                                            infoLink  \\\n0  http://books.google.nl/books?id=DykPAAAACAAJ&d...   \n1  http://books.google.nl/books?id=IjvHQsCn_pgC&d...   \n2  http://books.google.nl/books?id=2tsDAAAACAAJ&d...   \n3  http://books.google.nl/books?id=aRSIgJlq6JwC&d...   \n4  http://books.google.nl/books?id=399SPgAACAAJ&d...   \n\n                      categories  ratingsCount  \n0    ['Comics & Graphic Novels']           NaN  \n1  ['Biography & Autobiography']           NaN  \n2                   ['Religion']           NaN  \n3                    ['Fiction']           NaN  \n4                            NaN           NaN  ",
      "text/html": "<div>\n<style scoped>\n    .dataframe tbody tr th:only-of-type {\n        vertical-align: middle;\n    }\n\n    .dataframe tbody tr th {\n        vertical-align: top;\n    }\n\n    .dataframe thead th {\n        text-align: right;\n    }\n</style>\n<table border=\"1\" class=\"dataframe\">\n  <thead>\n    <tr style=\"text-align: right;\">\n      <th></th>\n      <th>Title</th>\n      <th>description</th>\n      <th>authors</th>\n      <th>image</th>\n      <th>previewLink</th>\n      <th>publisher</th>\n      <th>publishedDate</th>\n      <th>infoLink</th>\n      <th>categories</th>\n      <th>ratingsCount</th>\n    </tr>\n  </thead>\n  <tbody>\n    <tr>\n      <th>0</th>\n      <td>Its Only Art If Its Well Hung!</td>\n      <td>NaN</td>\n      <td>['Julie Strain']</td>\n      <td>http://books.google.com/books/content?id=DykPA...</td>\n      <td>http://books.google.nl/books?id=DykPAAAACAAJ&amp;d...</td>\n      <td>NaN</td>\n      <td>1996</td>\n      <td>http://books.google.nl/books?id=DykPAAAACAAJ&amp;d...</td>\n      <td>['Comics &amp; Graphic Novels']</td>\n      <td>NaN</td>\n    </tr>\n    <tr>\n      <th>1</th>\n      <td>Dr. Seuss: American Icon</td>\n      <td>Philip Nel takes a fascinating look into the k...</td>\n      <td>['Philip Nel']</td>\n      <td>http://books.google.com/books/content?id=IjvHQ...</td>\n      <td>http://books.google.nl/books?id=IjvHQsCn_pgC&amp;p...</td>\n      <td>A&amp;C Black</td>\n      <td>2005-01-01</td>\n      <td>http://books.google.nl/books?id=IjvHQsCn_pgC&amp;d...</td>\n      <td>['Biography &amp; Autobiography']</td>\n      <td>NaN</td>\n    </tr>\n    <tr>\n      <th>2</th>\n      <td>Wonderful Worship in Smaller Churches</td>\n      <td>This resource includes twelve principles in un...</td>\n      <td>['David R. Ray']</td>\n      <td>http://books.google.com/books/content?id=2tsDA...</td>\n      <td>http://books.google.nl/books?id=2tsDAAAACAAJ&amp;d...</td>\n      <td>NaN</td>\n      <td>2000</td>\n      <td>http://books.google.nl/books?id=2tsDAAAACAAJ&amp;d...</td>\n      <td>['Religion']</td>\n      <td>NaN</td>\n    </tr>\n    <tr>\n      <th>3</th>\n      <td>Whispers of the Wicked Saints</td>\n      <td>Julia Thomas finds her life spinning out of co...</td>\n      <td>['Veronica Haddon']</td>\n      <td>http://books.google.com/books/content?id=aRSIg...</td>\n      <td>http://books.google.nl/books?id=aRSIgJlq6JwC&amp;d...</td>\n      <td>iUniverse</td>\n      <td>2005-02</td>\n      <td>http://books.google.nl/books?id=aRSIgJlq6JwC&amp;d...</td>\n      <td>['Fiction']</td>\n      <td>NaN</td>\n    </tr>\n    <tr>\n      <th>4</th>\n      <td>Nation Dance: Religion, Identity and Cultural ...</td>\n      <td>NaN</td>\n      <td>['Edward Long']</td>\n      <td>NaN</td>\n      <td>http://books.google.nl/books?id=399SPgAACAAJ&amp;d...</td>\n      <td>NaN</td>\n      <td>2003-03-01</td>\n      <td>http://books.google.nl/books?id=399SPgAACAAJ&amp;d...</td>\n      <td>NaN</td>\n      <td>NaN</td>\n    </tr>\n  </tbody>\n</table>\n</div>"
     },
     "execution_count": 26,
     "metadata": {},
     "output_type": "execute_result"
    }
   ],
   "source": [
    "books_detail.head()"
   ],
   "metadata": {
    "collapsed": false,
    "ExecuteTime": {
     "end_time": "2024-02-09T07:56:05.169487Z",
     "start_time": "2024-02-09T07:56:05.166233Z"
    }
   },
   "id": "bcb999f2019fded4",
   "execution_count": 26
  },
  {
   "cell_type": "code",
   "outputs": [],
   "source": [
    "# #Strategy\n",
    "# \n",
    "# dependent variable is review/time\n",
    "# independnt _______\n",
    "# which one is most affect\n",
    "# model:\n",
    "# test: divide test and train"
   ],
   "metadata": {
    "collapsed": false,
    "ExecuteTime": {
     "end_time": "2024-02-09T07:56:05.187569Z",
     "start_time": "2024-02-09T07:56:05.171015Z"
    }
   },
   "id": "cfdfababa1a59ae5",
   "execution_count": 26
  }
 ],
 "metadata": {
  "kernelspec": {
   "display_name": "Python 3",
   "language": "python",
   "name": "python3"
  },
  "language_info": {
   "codemirror_mode": {
    "name": "ipython",
    "version": 2
   },
   "file_extension": ".py",
   "mimetype": "text/x-python",
   "name": "python",
   "nbconvert_exporter": "python",
   "pygments_lexer": "ipython2",
   "version": "2.7.6"
  }
 },
 "nbformat": 4,
 "nbformat_minor": 5
}
